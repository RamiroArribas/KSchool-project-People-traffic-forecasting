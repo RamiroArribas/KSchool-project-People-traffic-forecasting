{
 "cells": [
  {
   "cell_type": "code",
   "execution_count": 1,
   "metadata": {},
   "outputs": [],
   "source": [
    "import numpy as np\n",
    "import pandas as pd\n",
    "import datetime\n",
    "import time\n",
    "from tqdm import tqdm\n",
    "from ipynb.fs.full.train_dev_test_split import train_dev_test_split\n",
    "from ipynb.fs.full.get_future_predictions import get_future_preds\n",
    "from pyramid.arima import auto_arima"
   ]
  },
  {
   "cell_type": "code",
   "execution_count": 2,
   "metadata": {},
   "outputs": [],
   "source": [
    "marag_df = pd.read_csv('./../../../Databases/marag_lags_data.csv')\n",
    "marag_df.set_index('Timestamp', inplace=True)\n",
    "marag_df.sort_index(inplace=True)\n",
    "\n",
    "marag_daily = pd.read_csv('./../../../Databases/marag_dailylags_data.csv')\n",
    "marag_daily.set_index('Timestamp', inplace=True)\n",
    "marag_daily.sort_index(inplace=True)\n",
    "\n",
    "# For the time being we will not use the outliers column, so we will drop it\n",
    "marag_df.drop(['outliers'], axis=1, inplace=True)"
   ]
  },
  {
   "cell_type": "code",
   "execution_count": 3,
   "metadata": {},
   "outputs": [],
   "source": [
    "# Let's import the marag data with no lags for future comparative purposes\n",
    "no_lags_marag = pd.read_csv('./../../../Databases/marag_data.csv')\n",
    "no_lags_marag.set_index('Timestamp', inplace=True)\n",
    "no_lags_marag.sort_index(inplace=True)\n",
    "no_lags_marag.drop(['outliers'], axis=1, inplace=True)\n",
    "\n",
    "daily_nolags_marag = pd.read_csv('./../../../Databases/marag_daily_data.csv')\n",
    "daily_nolags_marag.set_index('Timestamp', inplace=True)\n",
    "daily_nolags_marag.sort_index(inplace=True)"
   ]
  },
  {
   "cell_type": "code",
   "execution_count": 4,
   "metadata": {},
   "outputs": [],
   "source": [
    "# Let's create a dataframe in which we'll append all the estimated predictions, and another\n",
    "# containing the running times of each scenario.\n",
    "\n",
    "ARIMA_results_df = pd.DataFrame\n",
    "ARIMA_runtime_df = pd.DataFrame\n",
    "\n",
    "ARIMA_dailyresults_df = pd.DataFrame\n",
    "ARIMA_runtime_dailydf = pd.DataFrame"
   ]
  },
  {
   "cell_type": "markdown",
   "metadata": {},
   "source": [
    "## Model tuning"
   ]
  },
  {
   "cell_type": "code",
   "execution_count": 6,
   "metadata": {},
   "outputs": [],
   "source": [
    "X_train, X_dev, X_test, y_train, y_dev, y_test = train_dev_test_split(marag_df.drop(['TotalEntries'], axis=1), \n",
    "                                                                      marag_df['TotalEntries'])\n",
    "ARIMA_X_train = pd.concat([X_train, X_dev])\n",
    "ARIMA_X_train.sort_index(inplace=True)\n",
    "ARIMA_y_train = pd.concat([y_train, y_dev])\n",
    "ARIMA_y_train.sort_index(inplace=True)"
   ]
  },
  {
   "cell_type": "code",
   "execution_count": null,
   "metadata": {},
   "outputs": [],
   "source": [
    "stepwise_model = auto_arima(ARIMA_y_train, exogenous=ARIMAX_train, start_p=1, start_q=1,\n",
    "                           max_p=10, max_d=3, max_q=5, m=12, start_P=0, max_P=5, max_D=3, \n",
    "                           max_Q=5, seasonal=True, maxiter=200, suppress_warnings=True,\n",
    "                           error_action='ignore', trace=True, stepwise=True)"
   ]
  },
  {
   "cell_type": "code",
   "execution_count": null,
   "metadata": {},
   "outputs": [],
   "source": [
    "print(stepwise_model.aic())"
   ]
  }
 ],
 "metadata": {
  "kernelspec": {
   "display_name": "Python 3",
   "language": "python",
   "name": "python3"
  },
  "language_info": {
   "codemirror_mode": {
    "name": "ipython",
    "version": 3
   },
   "file_extension": ".py",
   "mimetype": "text/x-python",
   "name": "python",
   "nbconvert_exporter": "python",
   "pygments_lexer": "ipython3",
   "version": "3.6.8"
  }
 },
 "nbformat": 4,
 "nbformat_minor": 2
}
