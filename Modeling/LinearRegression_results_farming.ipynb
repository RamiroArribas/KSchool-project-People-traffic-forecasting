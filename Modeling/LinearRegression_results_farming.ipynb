{
 "cells": [
  {
   "cell_type": "code",
   "execution_count": 1,
   "metadata": {},
   "outputs": [],
   "source": [
    "import numpy as np\n",
    "import pandas as pd\n",
    "import datetime\n",
    "import time\n",
    "from tqdm import tqdm\n",
    "from ipynb.fs.full.train_dev_test_split import train_dev_test_split\n",
    "from ipynb.fs.full.get_future_predictions import get_future_preds\n",
    "from sklearn.linear_model import LinearRegression"
   ]
  },
  {
   "cell_type": "code",
   "execution_count": 2,
   "metadata": {},
   "outputs": [],
   "source": [
    "marag_df = pd.read_csv('./../../../Databases/marag_lags_data.csv')\n",
    "marag_df.set_index('Timestamp', inplace=True)\n",
    "marag_df.sort_index(inplace=True)\n",
    "\n",
    "marag_daily = pd.read_csv('./../../../Databases/marag_dailylags_data.csv')\n",
    "marag_daily.set_index('Timestamp', inplace=True)\n",
    "marag_daily.sort_index(inplace=True)\n",
    "\n",
    "# For the time being we will not use the outliers column, so we will drop it\n",
    "marag_df.drop(['outliers'], axis=1, inplace=True)"
   ]
  },
  {
   "cell_type": "code",
   "execution_count": 3,
   "metadata": {},
   "outputs": [],
   "source": [
    "# Let's import the marag data with no lags for future comparative purposes\n",
    "no_lags_marag = pd.read_csv('./../../../Databases/marag_data.csv')\n",
    "no_lags_marag.set_index('Timestamp', inplace=True)\n",
    "no_lags_marag.sort_index(inplace=True)\n",
    "no_lags_marag.drop(['outliers'], axis=1, inplace=True)\n",
    "\n",
    "daily_nolags_marag = pd.read_csv('./../../../Databases/marag_daily_data.csv')\n",
    "daily_nolags_marag.set_index('Timestamp', inplace=True)\n",
    "daily_nolags_marag.sort_index(inplace=True)"
   ]
  },
  {
   "cell_type": "code",
   "execution_count": 4,
   "metadata": {},
   "outputs": [],
   "source": [
    "# Let's create a dataframe in which we'll append all the estimated predictions, and another\n",
    "# containing the running times of each scenario.\n",
    "\n",
    "lr_results_df = pd.DataFrame\n",
    "lr_runtime_df = pd.DataFrame\n",
    "\n",
    "lr_dailyresults_df = pd.DataFrame\n",
    "lr_runtime_dailydf = pd.DataFrame"
   ]
  },
  {
   "cell_type": "markdown",
   "metadata": {},
   "source": [
    "## Original data (48 obsv. / day)"
   ]
  },
  {
   "cell_type": "markdown",
   "metadata": {},
   "source": [
    "### All columns, known future\n",
    "\n",
    "In this phase of the linear regression model analysis, we will estimate the predicted values using the already known lags (so future information will be used for the predictions)."
   ]
  },
  {
   "cell_type": "code",
   "execution_count": 5,
   "metadata": {},
   "outputs": [],
   "source": [
    "X_train, X_dev, X_test, y_train, y_dev, y_test = train_dev_test_split(marag_df.drop(['TotalEntries'], axis=1), \n",
    "                                                                      marag_df['TotalEntries'])\n",
    "\n",
    "lr_X_train = pd.concat([X_train, X_dev])\n",
    "lr_X_train.sort_index(inplace=True)\n",
    "lr_y_train = pd.concat([y_train, y_dev])\n",
    "lr_y_train.sort_index(inplace=True)"
   ]
  },
  {
   "cell_type": "code",
   "execution_count": 24,
   "metadata": {},
   "outputs": [],
   "source": [
    "start_PKF_allcols = time.time()\n",
    "lr_model = LinearRegression().fit(lr_X_train, lr_y_train)\n",
    "lr_y_hat = lr_model.predict(X_test)\n",
    "lr_y_hat = pd.Series(lr_y_hat, index=y_test.index, name = 'TotEntr_PKF_allcols')\n",
    "\n",
    "end_PKF_allcols = time.time()\n",
    "lr_runtime_PKF_allcols = end_PKF_allcols - start_PKF_allcols\n",
    "lr_runtime_PKF_allcols = pd.DataFrame(pd.Series(lr_runtime_PKF_allcols, name = 'PKF_allcols_lr_runtime'))"
   ]
  },
  {
   "cell_type": "code",
   "execution_count": 25,
   "metadata": {},
   "outputs": [
    {
     "data": {
      "text/html": [
       "<div>\n",
       "<style scoped>\n",
       "    .dataframe tbody tr th:only-of-type {\n",
       "        vertical-align: middle;\n",
       "    }\n",
       "\n",
       "    .dataframe tbody tr th {\n",
       "        vertical-align: top;\n",
       "    }\n",
       "\n",
       "    .dataframe thead th {\n",
       "        text-align: right;\n",
       "    }\n",
       "</style>\n",
       "<table border=\"1\" class=\"dataframe\">\n",
       "  <thead>\n",
       "    <tr style=\"text-align: right;\">\n",
       "      <th></th>\n",
       "      <th>Observed_values</th>\n",
       "      <th>TotEntr_PKF_allcols</th>\n",
       "    </tr>\n",
       "    <tr>\n",
       "      <th>Timestamp</th>\n",
       "      <th></th>\n",
       "      <th></th>\n",
       "    </tr>\n",
       "  </thead>\n",
       "  <tbody>\n",
       "    <tr>\n",
       "      <th>2018-09-24 00:00:00</th>\n",
       "      <td>20</td>\n",
       "      <td>5.473787</td>\n",
       "    </tr>\n",
       "    <tr>\n",
       "      <th>2018-09-24 00:30:00</th>\n",
       "      <td>0</td>\n",
       "      <td>-3.694076</td>\n",
       "    </tr>\n",
       "    <tr>\n",
       "      <th>2018-09-24 01:00:00</th>\n",
       "      <td>0</td>\n",
       "      <td>-12.101636</td>\n",
       "    </tr>\n",
       "    <tr>\n",
       "      <th>2018-09-24 01:30:00</th>\n",
       "      <td>0</td>\n",
       "      <td>-14.948868</td>\n",
       "    </tr>\n",
       "    <tr>\n",
       "      <th>2018-09-24 02:00:00</th>\n",
       "      <td>0</td>\n",
       "      <td>5.511497</td>\n",
       "    </tr>\n",
       "  </tbody>\n",
       "</table>\n",
       "</div>"
      ],
      "text/plain": [
       "                     Observed_values  TotEntr_PKF_allcols\n",
       "Timestamp                                                \n",
       "2018-09-24 00:00:00               20             5.473787\n",
       "2018-09-24 00:30:00                0            -3.694076\n",
       "2018-09-24 01:00:00                0           -12.101636\n",
       "2018-09-24 01:30:00                0           -14.948868\n",
       "2018-09-24 02:00:00                0             5.511497"
      ]
     },
     "execution_count": 25,
     "metadata": {},
     "output_type": "execute_result"
    }
   ],
   "source": [
    "lr_observed_values = pd.DataFrame(y_test)\n",
    "lr_observed_values.columns = ['Observed_values']\n",
    "lr_results_df = lr_observed_values.merge(pd.DataFrame(lr_y_hat), how='left', on='Timestamp')\n",
    "lr_results_df.head()"
   ]
  },
  {
   "cell_type": "code",
   "execution_count": 35,
   "metadata": {},
   "outputs": [
    {
     "data": {
      "text/html": [
       "<div>\n",
       "<style scoped>\n",
       "    .dataframe tbody tr th:only-of-type {\n",
       "        vertical-align: middle;\n",
       "    }\n",
       "\n",
       "    .dataframe tbody tr th {\n",
       "        vertical-align: top;\n",
       "    }\n",
       "\n",
       "    .dataframe thead th {\n",
       "        text-align: right;\n",
       "    }\n",
       "</style>\n",
       "<table border=\"1\" class=\"dataframe\">\n",
       "  <thead>\n",
       "    <tr style=\"text-align: right;\">\n",
       "      <th></th>\n",
       "      <th>PKF_allcols_lr_runtime</th>\n",
       "    </tr>\n",
       "  </thead>\n",
       "  <tbody>\n",
       "    <tr>\n",
       "      <th>0</th>\n",
       "      <td>0.490008</td>\n",
       "    </tr>\n",
       "  </tbody>\n",
       "</table>\n",
       "</div>"
      ],
      "text/plain": [
       "   PKF_allcols_lr_runtime\n",
       "0                0.490008"
      ]
     },
     "execution_count": 35,
     "metadata": {},
     "output_type": "execute_result"
    }
   ],
   "source": [
    "lr_runtime_df = lr_runtime_PKF_allcols\n",
    "lr_runtime_df.head()"
   ]
  },
  {
   "cell_type": "markdown",
   "metadata": {},
   "source": [
    "### Just lags, known future\n",
    "\n",
    "We will use only the lags extracted from future observations, but external data won't be included."
   ]
  },
  {
   "cell_type": "code",
   "execution_count": 17,
   "metadata": {},
   "outputs": [
    {
     "data": {
      "text/plain": [
       "Index(['TotalEntries', 't-1', 't-2', 't-3', 't-4', 't-5', 't-6', 't-7', 't-8',\n",
       "       't-9',\n",
       "       ...\n",
       "       't-327', 't-328', 't-329', 't-330', 't-331', 't-332', 't-333', 't-334',\n",
       "       't-335', 't-336'],\n",
       "      dtype='object', length=337)"
      ]
     },
     "execution_count": 17,
     "metadata": {},
     "output_type": "execute_result"
    }
   ],
   "source": [
    "lags_PKF_df = marag_df.drop(['Temperature', 'Precipitation', 'Open/Closed', 'Weekday/Weekend'], axis = 1)\n",
    "lags_PKF_df.columns"
   ]
  },
  {
   "cell_type": "code",
   "execution_count": 18,
   "metadata": {},
   "outputs": [],
   "source": [
    "X_train, X_dev, X_test, y_train, y_dev, y_test = train_dev_test_split(lags_PKF_df.drop(['TotalEntries'], axis=1), \n",
    "                                                                      lags_PKF_df['TotalEntries'])\n",
    "\n",
    "lr_lags_X_train = pd.concat([X_train, X_dev])\n",
    "lr_lags_X_train.sort_index(inplace=True)\n",
    "lr_lags_y_train = pd.concat([y_train, y_dev])\n",
    "lr_lags_y_train.sort_index(inplace=True)"
   ]
  },
  {
   "cell_type": "code",
   "execution_count": 19,
   "metadata": {},
   "outputs": [],
   "source": [
    "start_PKF_lags = time.time()\n",
    "lr_lags_model = LinearRegression().fit(lr_lags_X_train, lr_lags_y_train)\n",
    "lr_lags_y_hat = lr_lags_model.predict(X_test)\n",
    "lr_lags_y_hat = pd.Series(lr_lags_y_hat, index=y_test.index, name = 'TotEntr_PKF_lags')\n",
    "\n",
    "end_PKF_lags = time.time()\n",
    "lr_runtime_PKF_lags = end_PKF_lags - start_PKF_lags\n",
    "lr_runtime_PKF_lags = pd.DataFrame(pd.Series(lr_runtime_PKF_lags, name = 'PKF_lags_lr_runtime'))"
   ]
  },
  {
   "cell_type": "code",
   "execution_count": 50,
   "metadata": {},
   "outputs": [
    {
     "data": {
      "text/html": [
       "<div>\n",
       "<style scoped>\n",
       "    .dataframe tbody tr th:only-of-type {\n",
       "        vertical-align: middle;\n",
       "    }\n",
       "\n",
       "    .dataframe tbody tr th {\n",
       "        vertical-align: top;\n",
       "    }\n",
       "\n",
       "    .dataframe thead th {\n",
       "        text-align: right;\n",
       "    }\n",
       "</style>\n",
       "<table border=\"1\" class=\"dataframe\">\n",
       "  <thead>\n",
       "    <tr style=\"text-align: right;\">\n",
       "      <th></th>\n",
       "      <th>TotEntr_PKF_allcols</th>\n",
       "      <th>TotEntr_PKF_lags</th>\n",
       "    </tr>\n",
       "    <tr>\n",
       "      <th>Timestamp</th>\n",
       "      <th></th>\n",
       "      <th></th>\n",
       "    </tr>\n",
       "  </thead>\n",
       "  <tbody>\n",
       "    <tr>\n",
       "      <th>2018-09-24 00:00:00</th>\n",
       "      <td>5.473787</td>\n",
       "      <td>-3.599823</td>\n",
       "    </tr>\n",
       "    <tr>\n",
       "      <th>2018-09-24 00:30:00</th>\n",
       "      <td>-3.694076</td>\n",
       "      <td>-11.082617</td>\n",
       "    </tr>\n",
       "    <tr>\n",
       "      <th>2018-09-24 01:00:00</th>\n",
       "      <td>-12.101636</td>\n",
       "      <td>-15.233982</td>\n",
       "    </tr>\n",
       "    <tr>\n",
       "      <th>2018-09-24 01:30:00</th>\n",
       "      <td>-14.948868</td>\n",
       "      <td>-19.498661</td>\n",
       "    </tr>\n",
       "    <tr>\n",
       "      <th>2018-09-24 02:00:00</th>\n",
       "      <td>5.511497</td>\n",
       "      <td>2.829622</td>\n",
       "    </tr>\n",
       "  </tbody>\n",
       "</table>\n",
       "</div>"
      ],
      "text/plain": [
       "                     TotEntr_PKF_allcols  TotEntr_PKF_lags\n",
       "Timestamp                                                 \n",
       "2018-09-24 00:00:00             5.473787         -3.599823\n",
       "2018-09-24 00:30:00            -3.694076        -11.082617\n",
       "2018-09-24 01:00:00           -12.101636        -15.233982\n",
       "2018-09-24 01:30:00           -14.948868        -19.498661\n",
       "2018-09-24 02:00:00             5.511497          2.829622"
      ]
     },
     "execution_count": 50,
     "metadata": {},
     "output_type": "execute_result"
    }
   ],
   "source": [
    "lr_results_df = lr_results_df.merge(lr_lags_y_hat, on='Timestamp')\n",
    "lr_results_df.head()"
   ]
  },
  {
   "cell_type": "code",
   "execution_count": 36,
   "metadata": {},
   "outputs": [
    {
     "data": {
      "text/html": [
       "<div>\n",
       "<style scoped>\n",
       "    .dataframe tbody tr th:only-of-type {\n",
       "        vertical-align: middle;\n",
       "    }\n",
       "\n",
       "    .dataframe tbody tr th {\n",
       "        vertical-align: top;\n",
       "    }\n",
       "\n",
       "    .dataframe thead th {\n",
       "        text-align: right;\n",
       "    }\n",
       "</style>\n",
       "<table border=\"1\" class=\"dataframe\">\n",
       "  <thead>\n",
       "    <tr style=\"text-align: right;\">\n",
       "      <th></th>\n",
       "      <th>PKF_allcols_lr_runtime</th>\n",
       "      <th>PKF_lags_lr_runtime</th>\n",
       "    </tr>\n",
       "  </thead>\n",
       "  <tbody>\n",
       "    <tr>\n",
       "      <th>0</th>\n",
       "      <td>0.490008</td>\n",
       "      <td>0.502996</td>\n",
       "    </tr>\n",
       "  </tbody>\n",
       "</table>\n",
       "</div>"
      ],
      "text/plain": [
       "   PKF_allcols_lr_runtime  PKF_lags_lr_runtime\n",
       "0                0.490008             0.502996"
      ]
     },
     "execution_count": 36,
     "metadata": {},
     "output_type": "execute_result"
    }
   ],
   "source": [
    "lr_runtime_df = pd.concat([lr_runtime_df, lr_runtime_PKF_lags], axis = 1)\n",
    "lr_runtime_df.head()"
   ]
  },
  {
   "cell_type": "markdown",
   "metadata": {},
   "source": [
    "### All columns, unknown future"
   ]
  },
  {
   "cell_type": "code",
   "execution_count": null,
   "metadata": {},
   "outputs": [],
   "source": [
    "X_train, X_dev, X_test, y_train, y_dev, y_test = train_dev_test_split(marag_df.drop(['TotalEntries'], axis=1), \n",
    "                                                                      marag_df['TotalEntries'])\n",
    "\n",
    "lr_X_train = pd.concat([X_train, X_dev])\n",
    "lr_X_train.sort_index(inplace=True)\n",
    "lr_y_train = pd.concat([y_train, y_dev])\n",
    "lr_y_train.sort_index(inplace=True)"
   ]
  },
  {
   "cell_type": "code",
   "execution_count": null,
   "metadata": {},
   "outputs": [],
   "source": [
    "lr_model = LinearRegression().fit(lr_X_train, lr_y_train)"
   ]
  },
  {
   "cell_type": "code",
   "execution_count": 6,
   "metadata": {},
   "outputs": [
    {
     "name": "stderr",
     "output_type": "stream",
     "text": [
      "100%|██████████| 7392/7392 [2:07:16<00:00,  1.16s/it]  "
     ]
    },
    {
     "name": "stdout",
     "output_type": "stream",
     "text": [
      "7636.272913217545\n"
     ]
    },
    {
     "name": "stderr",
     "output_type": "stream",
     "text": [
      "\n"
     ]
    }
   ],
   "source": [
    "from ipynb.fs.full.get_future_predictions import get_future_preds\n",
    "\n",
    "start_PUF_allcols = time.time()\n",
    "\n",
    "lr_all_future_df = get_future_preds(no_lags_marag, lr_X_train, X_test, lr_model)\n",
    "\n",
    "end_PUF_allcols = time.time()\n",
    "lr_runtime_PUF_allcols = end_PUF_allcols - start_PUF_allcols\n",
    "lr_runtime_PUF_allcols = pd.DataFrame(pd.Series(lr_runtime_PUF_allcols, name = 'PUF_allcols_lr_runtime'))\n",
    "lr_all_future_df.columns = ['TotEntr_PUF_allcols']"
   ]
  },
  {
   "cell_type": "code",
   "execution_count": 51,
   "metadata": {},
   "outputs": [
    {
     "data": {
      "text/html": [
       "<div>\n",
       "<style scoped>\n",
       "    .dataframe tbody tr th:only-of-type {\n",
       "        vertical-align: middle;\n",
       "    }\n",
       "\n",
       "    .dataframe tbody tr th {\n",
       "        vertical-align: top;\n",
       "    }\n",
       "\n",
       "    .dataframe thead th {\n",
       "        text-align: right;\n",
       "    }\n",
       "</style>\n",
       "<table border=\"1\" class=\"dataframe\">\n",
       "  <thead>\n",
       "    <tr style=\"text-align: right;\">\n",
       "      <th></th>\n",
       "      <th>TotEntr_PKF_allcols</th>\n",
       "      <th>TotEntr_PKF_lags</th>\n",
       "      <th>TotEntr_PUF_allcols</th>\n",
       "    </tr>\n",
       "    <tr>\n",
       "      <th>Timestamp</th>\n",
       "      <th></th>\n",
       "      <th></th>\n",
       "      <th></th>\n",
       "    </tr>\n",
       "  </thead>\n",
       "  <tbody>\n",
       "    <tr>\n",
       "      <th>2018-09-24 00:00:00</th>\n",
       "      <td>5.473787</td>\n",
       "      <td>-3.599823</td>\n",
       "      <td>5.473787</td>\n",
       "    </tr>\n",
       "    <tr>\n",
       "      <th>2018-09-24 00:30:00</th>\n",
       "      <td>-3.694076</td>\n",
       "      <td>-11.082617</td>\n",
       "      <td>0.307627</td>\n",
       "    </tr>\n",
       "    <tr>\n",
       "      <th>2018-09-24 01:00:00</th>\n",
       "      <td>-12.101636</td>\n",
       "      <td>-15.233982</td>\n",
       "      <td>-4.623486</td>\n",
       "    </tr>\n",
       "    <tr>\n",
       "      <th>2018-09-24 01:30:00</th>\n",
       "      <td>-14.948868</td>\n",
       "      <td>-19.498661</td>\n",
       "      <td>-8.131185</td>\n",
       "    </tr>\n",
       "    <tr>\n",
       "      <th>2018-09-24 02:00:00</th>\n",
       "      <td>5.511497</td>\n",
       "      <td>2.829622</td>\n",
       "      <td>-8.020188</td>\n",
       "    </tr>\n",
       "  </tbody>\n",
       "</table>\n",
       "</div>"
      ],
      "text/plain": [
       "                     TotEntr_PKF_allcols  TotEntr_PKF_lags  \\\n",
       "Timestamp                                                    \n",
       "2018-09-24 00:00:00             5.473787         -3.599823   \n",
       "2018-09-24 00:30:00            -3.694076        -11.082617   \n",
       "2018-09-24 01:00:00           -12.101636        -15.233982   \n",
       "2018-09-24 01:30:00           -14.948868        -19.498661   \n",
       "2018-09-24 02:00:00             5.511497          2.829622   \n",
       "\n",
       "                     TotEntr_PUF_allcols  \n",
       "Timestamp                                 \n",
       "2018-09-24 00:00:00             5.473787  \n",
       "2018-09-24 00:30:00             0.307627  \n",
       "2018-09-24 01:00:00            -4.623486  \n",
       "2018-09-24 01:30:00            -8.131185  \n",
       "2018-09-24 02:00:00            -8.020188  "
      ]
     },
     "execution_count": 51,
     "metadata": {},
     "output_type": "execute_result"
    }
   ],
   "source": [
    "lr_results_df = lr_results_df.merge(lr_all_future_df, on='Timestamp')\n",
    "lr_results_df.head()"
   ]
  },
  {
   "cell_type": "code",
   "execution_count": 39,
   "metadata": {},
   "outputs": [
    {
     "data": {
      "text/html": [
       "<div>\n",
       "<style scoped>\n",
       "    .dataframe tbody tr th:only-of-type {\n",
       "        vertical-align: middle;\n",
       "    }\n",
       "\n",
       "    .dataframe tbody tr th {\n",
       "        vertical-align: top;\n",
       "    }\n",
       "\n",
       "    .dataframe thead th {\n",
       "        text-align: right;\n",
       "    }\n",
       "</style>\n",
       "<table border=\"1\" class=\"dataframe\">\n",
       "  <thead>\n",
       "    <tr style=\"text-align: right;\">\n",
       "      <th></th>\n",
       "      <th>PKF_allcols_lr_runtime</th>\n",
       "      <th>PKF_lags_lr_runtime</th>\n",
       "      <th>PUF_allcols_lr_runtime</th>\n",
       "    </tr>\n",
       "  </thead>\n",
       "  <tbody>\n",
       "    <tr>\n",
       "      <th>0</th>\n",
       "      <td>0.490008</td>\n",
       "      <td>0.502996</td>\n",
       "      <td>7636.272913</td>\n",
       "    </tr>\n",
       "  </tbody>\n",
       "</table>\n",
       "</div>"
      ],
      "text/plain": [
       "   PKF_allcols_lr_runtime  PKF_lags_lr_runtime  PUF_allcols_lr_runtime\n",
       "0                0.490008             0.502996             7636.272913"
      ]
     },
     "execution_count": 39,
     "metadata": {},
     "output_type": "execute_result"
    }
   ],
   "source": [
    "lr_runtime_df = pd.concat([lr_runtime_df, lr_runtime_PUF_allcols], axis = 1)\n",
    "lr_runtime_df.head()"
   ]
  },
  {
   "cell_type": "markdown",
   "metadata": {},
   "source": [
    "### Just lags, unknown future"
   ]
  },
  {
   "cell_type": "code",
   "execution_count": 56,
   "metadata": {},
   "outputs": [
    {
     "data": {
      "text/plain": [
       "Index(['TotalEntries', 't-1', 't-2', 't-3', 't-4', 't-5', 't-6', 't-7', 't-8',\n",
       "       't-9',\n",
       "       ...\n",
       "       't-327', 't-328', 't-329', 't-330', 't-331', 't-332', 't-333', 't-334',\n",
       "       't-335', 't-336'],\n",
       "      dtype='object', length=337)"
      ]
     },
     "execution_count": 56,
     "metadata": {},
     "output_type": "execute_result"
    }
   ],
   "source": [
    "lags_PUF_df = marag_df.drop(['Temperature', 'Precipitation', 'Open/Closed', 'Weekday/Weekend'], axis = 1)\n",
    "lags_PUF_df.columns"
   ]
  },
  {
   "cell_type": "code",
   "execution_count": 57,
   "metadata": {},
   "outputs": [],
   "source": [
    "X_train, X_dev, X_test, y_train, y_dev, y_test = train_dev_test_split(lags_PUF_df.drop(['TotalEntries'], axis=1), \n",
    "                                                                      lags_PUF_df['TotalEntries'])\n",
    "\n",
    "lr_Ulags_X_train = pd.concat([X_train, X_dev])\n",
    "lr_Ulags_X_train.sort_index(inplace=True)\n",
    "lr_Ulags_y_train = pd.concat([y_train, y_dev])\n",
    "lr_Ulags_y_train.sort_index(inplace=True)"
   ]
  },
  {
   "cell_type": "code",
   "execution_count": 58,
   "metadata": {},
   "outputs": [],
   "source": [
    "lr_lags_model = LinearRegression().fit(lr_Ulags_X_train, lr_Ulags_y_train)"
   ]
  },
  {
   "cell_type": "code",
   "execution_count": 59,
   "metadata": {},
   "outputs": [
    {
     "name": "stderr",
     "output_type": "stream",
     "text": [
      "100%|██████████| 7392/7392 [2:14:39<00:00,  1.18s/it]  \n"
     ]
    }
   ],
   "source": [
    "start_PUF_lags = time.time()\n",
    "\n",
    "lr_all_future_lags_df = get_future_preds(no_lags_marag, lr_Ulags_X_train, X_test, lr_lags_model, justlags=True)\n",
    "\n",
    "end_PUF_lags = time.time()\n",
    "lr_runtime_PUF_lags = end_PUF_lags - start_PUF_lags\n",
    "lr_runtime_PUF_lags = pd.DataFrame(pd.Series(lr_runtime_PUF_lags, name = 'PUF_lags_lr_runtime'))\n",
    "lr_all_future_lags_df.columns = ['TotEntr_PUF_lags']"
   ]
  },
  {
   "cell_type": "code",
   "execution_count": 64,
   "metadata": {},
   "outputs": [
    {
     "data": {
      "text/html": [
       "<div>\n",
       "<style scoped>\n",
       "    .dataframe tbody tr th:only-of-type {\n",
       "        vertical-align: middle;\n",
       "    }\n",
       "\n",
       "    .dataframe tbody tr th {\n",
       "        vertical-align: top;\n",
       "    }\n",
       "\n",
       "    .dataframe thead th {\n",
       "        text-align: right;\n",
       "    }\n",
       "</style>\n",
       "<table border=\"1\" class=\"dataframe\">\n",
       "  <thead>\n",
       "    <tr style=\"text-align: right;\">\n",
       "      <th></th>\n",
       "      <th>TotEntr_PKF_allcols</th>\n",
       "      <th>TotEntr_PKF_lags</th>\n",
       "      <th>TotEntr_PUF_allcols</th>\n",
       "      <th>TotEntr_PUF_lags</th>\n",
       "    </tr>\n",
       "    <tr>\n",
       "      <th>Timestamp</th>\n",
       "      <th></th>\n",
       "      <th></th>\n",
       "      <th></th>\n",
       "      <th></th>\n",
       "    </tr>\n",
       "  </thead>\n",
       "  <tbody>\n",
       "    <tr>\n",
       "      <th>2018-09-24 00:00:00</th>\n",
       "      <td>5.473787</td>\n",
       "      <td>-3.599823</td>\n",
       "      <td>5.473787</td>\n",
       "      <td>-3.599823</td>\n",
       "    </tr>\n",
       "    <tr>\n",
       "      <th>2018-09-24 00:30:00</th>\n",
       "      <td>-3.694076</td>\n",
       "      <td>-11.082617</td>\n",
       "      <td>0.307627</td>\n",
       "      <td>-27.350093</td>\n",
       "    </tr>\n",
       "    <tr>\n",
       "      <th>2018-09-24 01:00:00</th>\n",
       "      <td>-12.101636</td>\n",
       "      <td>-15.233982</td>\n",
       "      <td>-4.623486</td>\n",
       "      <td>-38.901444</td>\n",
       "    </tr>\n",
       "    <tr>\n",
       "      <th>2018-09-24 01:30:00</th>\n",
       "      <td>-14.948868</td>\n",
       "      <td>-19.498661</td>\n",
       "      <td>-8.131185</td>\n",
       "      <td>-48.466830</td>\n",
       "    </tr>\n",
       "    <tr>\n",
       "      <th>2018-09-24 02:00:00</th>\n",
       "      <td>5.511497</td>\n",
       "      <td>2.829622</td>\n",
       "      <td>-8.020188</td>\n",
       "      <td>-33.712570</td>\n",
       "    </tr>\n",
       "  </tbody>\n",
       "</table>\n",
       "</div>"
      ],
      "text/plain": [
       "                     TotEntr_PKF_allcols  TotEntr_PKF_lags  \\\n",
       "Timestamp                                                    \n",
       "2018-09-24 00:00:00             5.473787         -3.599823   \n",
       "2018-09-24 00:30:00            -3.694076        -11.082617   \n",
       "2018-09-24 01:00:00           -12.101636        -15.233982   \n",
       "2018-09-24 01:30:00           -14.948868        -19.498661   \n",
       "2018-09-24 02:00:00             5.511497          2.829622   \n",
       "\n",
       "                     TotEntr_PUF_allcols  TotEntr_PUF_lags  \n",
       "Timestamp                                                   \n",
       "2018-09-24 00:00:00             5.473787         -3.599823  \n",
       "2018-09-24 00:30:00             0.307627        -27.350093  \n",
       "2018-09-24 01:00:00            -4.623486        -38.901444  \n",
       "2018-09-24 01:30:00            -8.131185        -48.466830  \n",
       "2018-09-24 02:00:00            -8.020188        -33.712570  "
      ]
     },
     "execution_count": 64,
     "metadata": {},
     "output_type": "execute_result"
    }
   ],
   "source": [
    "#lr_results_df = lr_results_df.merge(lr_all_future_lags_df, on='Timestamp')\n",
    "lr_results_df.head()"
   ]
  },
  {
   "cell_type": "code",
   "execution_count": 75,
   "metadata": {},
   "outputs": [
    {
     "data": {
      "text/html": [
       "<div>\n",
       "<style scoped>\n",
       "    .dataframe tbody tr th:only-of-type {\n",
       "        vertical-align: middle;\n",
       "    }\n",
       "\n",
       "    .dataframe tbody tr th {\n",
       "        vertical-align: top;\n",
       "    }\n",
       "\n",
       "    .dataframe thead th {\n",
       "        text-align: right;\n",
       "    }\n",
       "</style>\n",
       "<table border=\"1\" class=\"dataframe\">\n",
       "  <thead>\n",
       "    <tr style=\"text-align: right;\">\n",
       "      <th></th>\n",
       "      <th>PKF_allcols_lr_runtime</th>\n",
       "      <th>PKF_lags_lr_runtime</th>\n",
       "      <th>PUF_allcols_lr_runtime</th>\n",
       "      <th>PUF_lags_lr_runtime</th>\n",
       "    </tr>\n",
       "  </thead>\n",
       "  <tbody>\n",
       "    <tr>\n",
       "      <th>0</th>\n",
       "      <td>0.490008</td>\n",
       "      <td>0.502996</td>\n",
       "      <td>7636.272913</td>\n",
       "      <td>8079.679445</td>\n",
       "    </tr>\n",
       "  </tbody>\n",
       "</table>\n",
       "</div>"
      ],
      "text/plain": [
       "   PKF_allcols_lr_runtime  PKF_lags_lr_runtime  PUF_allcols_lr_runtime  \\\n",
       "0                0.490008             0.502996             7636.272913   \n",
       "\n",
       "   PUF_lags_lr_runtime  \n",
       "0          8079.679445  "
      ]
     },
     "execution_count": 75,
     "metadata": {},
     "output_type": "execute_result"
    }
   ],
   "source": [
    "#lr_runtime_df = pd.concat([lr_runtime_df, lr_runtime_PUF_lags], axis = 1)\n",
    "lr_runtime_df.head()"
   ]
  },
  {
   "cell_type": "code",
   "execution_count": 97,
   "metadata": {},
   "outputs": [],
   "source": [
    "#lr_results_df.to_csv('./../../../Databases/lr_results.csv', index=True)\n",
    "#lr_runtime_df.to_csv('./../../../Databases/lr_runtime_scenarios.csv')"
   ]
  },
  {
   "cell_type": "markdown",
   "metadata": {},
   "source": [
    "## Daily data (1 obs. / day)"
   ]
  },
  {
   "cell_type": "markdown",
   "metadata": {},
   "source": [
    "### All columns, known future"
   ]
  },
  {
   "cell_type": "code",
   "execution_count": 7,
   "metadata": {},
   "outputs": [],
   "source": [
    "X_train, X_dev, X_test, y_train, y_dev, y_test = train_dev_test_split(marag_daily.drop(['TotalEntries'], axis=1), \n",
    "                                                                      marag_daily['TotalEntries'])\n",
    "\n",
    "lrd_X_train = pd.concat([X_train, X_dev])\n",
    "lrd_X_train.sort_index(inplace=True)\n",
    "lrd_y_train = pd.concat([y_train, y_dev])\n",
    "lrd_y_train.sort_index(inplace=True)"
   ]
  },
  {
   "cell_type": "code",
   "execution_count": 44,
   "metadata": {},
   "outputs": [],
   "source": [
    "start_dPKF_allcols = time.time()\n",
    "lr_dmodel = LinearRegression().fit(lrd_X_train, lrd_y_train)\n",
    "lrd_y_hat = lr_dmodel.predict(X_test)\n",
    "lrd_y_hat = pd.Series(lrd_y_hat, index=y_test.index, name = 'DayEntr_PKF_allcols')\n",
    "\n",
    "end_dPKF_allcols = time.time()\n",
    "lrd_runtime_PKF_allcols = end_dPKF_allcols - start_dPKF_allcols\n",
    "lrd_runtime_PKF_allcols = pd.DataFrame(pd.Series(lrd_runtime_PKF_allcols, name = 'day_PKF_allcols_lr_runtime'))"
   ]
  },
  {
   "cell_type": "code",
   "execution_count": 45,
   "metadata": {},
   "outputs": [
    {
     "data": {
      "text/html": [
       "<div>\n",
       "<style scoped>\n",
       "    .dataframe tbody tr th:only-of-type {\n",
       "        vertical-align: middle;\n",
       "    }\n",
       "\n",
       "    .dataframe tbody tr th {\n",
       "        vertical-align: top;\n",
       "    }\n",
       "\n",
       "    .dataframe thead th {\n",
       "        text-align: right;\n",
       "    }\n",
       "</style>\n",
       "<table border=\"1\" class=\"dataframe\">\n",
       "  <thead>\n",
       "    <tr style=\"text-align: right;\">\n",
       "      <th></th>\n",
       "      <th>daily_observed_values</th>\n",
       "      <th>DayEntr_PKF_allcols</th>\n",
       "    </tr>\n",
       "    <tr>\n",
       "      <th>Timestamp</th>\n",
       "      <th></th>\n",
       "      <th></th>\n",
       "    </tr>\n",
       "  </thead>\n",
       "  <tbody>\n",
       "    <tr>\n",
       "      <th>2018-09-24</th>\n",
       "      <td>5719</td>\n",
       "      <td>9222.246578</td>\n",
       "    </tr>\n",
       "    <tr>\n",
       "      <th>2018-09-25</th>\n",
       "      <td>9998</td>\n",
       "      <td>8512.299774</td>\n",
       "    </tr>\n",
       "    <tr>\n",
       "      <th>2018-09-26</th>\n",
       "      <td>9816</td>\n",
       "      <td>9365.596590</td>\n",
       "    </tr>\n",
       "    <tr>\n",
       "      <th>2018-09-27</th>\n",
       "      <td>10087</td>\n",
       "      <td>9516.592876</td>\n",
       "    </tr>\n",
       "    <tr>\n",
       "      <th>2018-09-28</th>\n",
       "      <td>10742</td>\n",
       "      <td>10151.044256</td>\n",
       "    </tr>\n",
       "  </tbody>\n",
       "</table>\n",
       "</div>"
      ],
      "text/plain": [
       "            daily_observed_values  DayEntr_PKF_allcols\n",
       "Timestamp                                             \n",
       "2018-09-24                   5719          9222.246578\n",
       "2018-09-25                   9998          8512.299774\n",
       "2018-09-26                   9816          9365.596590\n",
       "2018-09-27                  10087          9516.592876\n",
       "2018-09-28                  10742         10151.044256"
      ]
     },
     "execution_count": 45,
     "metadata": {},
     "output_type": "execute_result"
    }
   ],
   "source": [
    "lrd_observed_values = pd.DataFrame(y_test)\n",
    "lrd_observed_values.columns = ['daily_observed_values']\n",
    "lr_dailyresults_df = lrd_observed_values.merge(pd.DataFrame(lrd_y_hat), how='left', on='Timestamp')\n",
    "lr_dailyresults_df.head()"
   ]
  },
  {
   "cell_type": "code",
   "execution_count": 46,
   "metadata": {},
   "outputs": [
    {
     "data": {
      "text/html": [
       "<div>\n",
       "<style scoped>\n",
       "    .dataframe tbody tr th:only-of-type {\n",
       "        vertical-align: middle;\n",
       "    }\n",
       "\n",
       "    .dataframe tbody tr th {\n",
       "        vertical-align: top;\n",
       "    }\n",
       "\n",
       "    .dataframe thead th {\n",
       "        text-align: right;\n",
       "    }\n",
       "</style>\n",
       "<table border=\"1\" class=\"dataframe\">\n",
       "  <thead>\n",
       "    <tr style=\"text-align: right;\">\n",
       "      <th></th>\n",
       "      <th>day_PKF_allcols_lr_runtime</th>\n",
       "    </tr>\n",
       "  </thead>\n",
       "  <tbody>\n",
       "    <tr>\n",
       "      <th>0</th>\n",
       "      <td>0.005399</td>\n",
       "    </tr>\n",
       "  </tbody>\n",
       "</table>\n",
       "</div>"
      ],
      "text/plain": [
       "   day_PKF_allcols_lr_runtime\n",
       "0                    0.005399"
      ]
     },
     "execution_count": 46,
     "metadata": {},
     "output_type": "execute_result"
    }
   ],
   "source": [
    "lr_runtime_dailydf = lrd_runtime_PKF_allcols\n",
    "lr_runtime_dailydf.head()"
   ]
  },
  {
   "cell_type": "markdown",
   "metadata": {},
   "source": [
    "### Just lags, known future"
   ]
  },
  {
   "cell_type": "code",
   "execution_count": 10,
   "metadata": {},
   "outputs": [
    {
     "data": {
      "text/plain": [
       "Index(['TotalEntries', 't-1', 't-2', 't-3', 't-4', 't-5', 't-6', 't-7'], dtype='object')"
      ]
     },
     "execution_count": 10,
     "metadata": {},
     "output_type": "execute_result"
    }
   ],
   "source": [
    "lags_dPKF_df = marag_daily.drop(['T', 'PPT', 'Weekday/Weekend'], axis = 1)\n",
    "lags_dPKF_df.columns"
   ]
  },
  {
   "cell_type": "code",
   "execution_count": 11,
   "metadata": {},
   "outputs": [],
   "source": [
    "X_train, X_dev, X_test, y_train, y_dev, y_test = train_dev_test_split(lags_dPKF_df.drop(['TotalEntries'], axis=1), \n",
    "                                                                      lags_dPKF_df['TotalEntries'])\n",
    "\n",
    "lr_dlags_X_train = pd.concat([X_train, X_dev])\n",
    "lr_dlags_X_train.sort_index(inplace=True)\n",
    "lr_dlags_y_train = pd.concat([y_train, y_dev])\n",
    "lr_dlags_y_train.sort_index(inplace=True)"
   ]
  },
  {
   "cell_type": "code",
   "execution_count": 49,
   "metadata": {},
   "outputs": [],
   "source": [
    "start_PKF_dlags = time.time()\n",
    "lr_dlags_model = LinearRegression().fit(lr_dlags_X_train, lr_dlags_y_train)\n",
    "lr_dlags_y_hat = lr_dlags_model.predict(X_test)\n",
    "lr_dlags_y_hat = pd.Series(lr_dlags_y_hat, index=y_test.index, name = 'DayEntr_PKF_lags')\n",
    "\n",
    "end_PKF_dlags = time.time()\n",
    "lr_runtime_dPKF_lags = end_PKF_dlags - start_PKF_dlags\n",
    "lr_runtime_dPKF_lags = pd.DataFrame(pd.Series(lr_runtime_dPKF_lags, name = 'day_PKF_lags_lr_runtime'))"
   ]
  },
  {
   "cell_type": "code",
   "execution_count": 50,
   "metadata": {},
   "outputs": [
    {
     "data": {
      "text/html": [
       "<div>\n",
       "<style scoped>\n",
       "    .dataframe tbody tr th:only-of-type {\n",
       "        vertical-align: middle;\n",
       "    }\n",
       "\n",
       "    .dataframe tbody tr th {\n",
       "        vertical-align: top;\n",
       "    }\n",
       "\n",
       "    .dataframe thead th {\n",
       "        text-align: right;\n",
       "    }\n",
       "</style>\n",
       "<table border=\"1\" class=\"dataframe\">\n",
       "  <thead>\n",
       "    <tr style=\"text-align: right;\">\n",
       "      <th></th>\n",
       "      <th>daily_observed_values</th>\n",
       "      <th>DayEntr_PKF_allcols</th>\n",
       "      <th>DayEntr_PKF_lags</th>\n",
       "    </tr>\n",
       "    <tr>\n",
       "      <th>Timestamp</th>\n",
       "      <th></th>\n",
       "      <th></th>\n",
       "      <th></th>\n",
       "    </tr>\n",
       "  </thead>\n",
       "  <tbody>\n",
       "    <tr>\n",
       "      <th>2018-09-24</th>\n",
       "      <td>5719</td>\n",
       "      <td>9222.246578</td>\n",
       "      <td>8760.960808</td>\n",
       "    </tr>\n",
       "    <tr>\n",
       "      <th>2018-09-25</th>\n",
       "      <td>9998</td>\n",
       "      <td>8512.299774</td>\n",
       "      <td>8406.381977</td>\n",
       "    </tr>\n",
       "    <tr>\n",
       "      <th>2018-09-26</th>\n",
       "      <td>9816</td>\n",
       "      <td>9365.596590</td>\n",
       "      <td>9865.235621</td>\n",
       "    </tr>\n",
       "    <tr>\n",
       "      <th>2018-09-27</th>\n",
       "      <td>10087</td>\n",
       "      <td>9516.592876</td>\n",
       "      <td>9957.557774</td>\n",
       "    </tr>\n",
       "    <tr>\n",
       "      <th>2018-09-28</th>\n",
       "      <td>10742</td>\n",
       "      <td>10151.044256</td>\n",
       "      <td>9956.419883</td>\n",
       "    </tr>\n",
       "  </tbody>\n",
       "</table>\n",
       "</div>"
      ],
      "text/plain": [
       "            daily_observed_values  DayEntr_PKF_allcols  DayEntr_PKF_lags\n",
       "Timestamp                                                               \n",
       "2018-09-24                   5719          9222.246578       8760.960808\n",
       "2018-09-25                   9998          8512.299774       8406.381977\n",
       "2018-09-26                   9816          9365.596590       9865.235621\n",
       "2018-09-27                  10087          9516.592876       9957.557774\n",
       "2018-09-28                  10742         10151.044256       9956.419883"
      ]
     },
     "execution_count": 50,
     "metadata": {},
     "output_type": "execute_result"
    }
   ],
   "source": [
    "lr_dailyresults_df = lr_dailyresults_df.merge(lr_dlags_y_hat, on='Timestamp')\n",
    "lr_dailyresults_df.head()"
   ]
  },
  {
   "cell_type": "code",
   "execution_count": 51,
   "metadata": {},
   "outputs": [
    {
     "data": {
      "text/html": [
       "<div>\n",
       "<style scoped>\n",
       "    .dataframe tbody tr th:only-of-type {\n",
       "        vertical-align: middle;\n",
       "    }\n",
       "\n",
       "    .dataframe tbody tr th {\n",
       "        vertical-align: top;\n",
       "    }\n",
       "\n",
       "    .dataframe thead th {\n",
       "        text-align: right;\n",
       "    }\n",
       "</style>\n",
       "<table border=\"1\" class=\"dataframe\">\n",
       "  <thead>\n",
       "    <tr style=\"text-align: right;\">\n",
       "      <th></th>\n",
       "      <th>day_PKF_allcols_lr_runtime</th>\n",
       "      <th>day_PKF_lags_lr_runtime</th>\n",
       "    </tr>\n",
       "  </thead>\n",
       "  <tbody>\n",
       "    <tr>\n",
       "      <th>0</th>\n",
       "      <td>0.005399</td>\n",
       "      <td>0.004501</td>\n",
       "    </tr>\n",
       "  </tbody>\n",
       "</table>\n",
       "</div>"
      ],
      "text/plain": [
       "   day_PKF_allcols_lr_runtime  day_PKF_lags_lr_runtime\n",
       "0                    0.005399                 0.004501"
      ]
     },
     "execution_count": 51,
     "metadata": {},
     "output_type": "execute_result"
    }
   ],
   "source": [
    "lr_runtime_dailydf = pd.concat([lr_runtime_dailydf, lr_runtime_dPKF_lags], axis = 1)\n",
    "lr_runtime_dailydf.head()"
   ]
  },
  {
   "cell_type": "markdown",
   "metadata": {},
   "source": [
    "### All columns, unknown future"
   ]
  },
  {
   "cell_type": "code",
   "execution_count": 52,
   "metadata": {},
   "outputs": [],
   "source": [
    "X_train, X_dev, X_test, y_train, y_dev, y_test = train_dev_test_split(marag_daily.drop(['TotalEntries'], axis=1), \n",
    "                                                                      marag_daily['TotalEntries'])\n",
    "\n",
    "lrd_X_train = pd.concat([X_train, X_dev])\n",
    "lrd_X_train.sort_index(inplace=True)\n",
    "lrd_y_train = pd.concat([y_train, y_dev])\n",
    "lrd_y_train.sort_index(inplace=True)"
   ]
  },
  {
   "cell_type": "code",
   "execution_count": 53,
   "metadata": {},
   "outputs": [],
   "source": [
    "lr_dmodel = LinearRegression().fit(lrd_X_train, lrd_y_train)"
   ]
  },
  {
   "cell_type": "code",
   "execution_count": 54,
   "metadata": {},
   "outputs": [
    {
     "name": "stderr",
     "output_type": "stream",
     "text": [
      "100%|██████████| 154/154 [00:02<00:00, 59.42it/s]\n"
     ]
    }
   ],
   "source": [
    "start_dPUF_allcols = time.time()\n",
    "\n",
    "lr_dall_future_df = get_future_preds(daily_nolags_marag, lrd_X_train, X_test, lr_dmodel, daily=True)\n",
    "\n",
    "end_dPUF_allcols = time.time()\n",
    "lr_runtime_dPUF_allcols = end_dPUF_allcols - start_dPUF_allcols\n",
    "lr_runtime_dPUF_allcols = pd.DataFrame(pd.Series(lr_runtime_dPUF_allcols, name = 'day_PUF_allcols_lr_runtime'))\n",
    "lr_dall_future_df.columns = ['DayEntr_PUF_allcols']"
   ]
  },
  {
   "cell_type": "code",
   "execution_count": 55,
   "metadata": {},
   "outputs": [
    {
     "data": {
      "text/html": [
       "<div>\n",
       "<style scoped>\n",
       "    .dataframe tbody tr th:only-of-type {\n",
       "        vertical-align: middle;\n",
       "    }\n",
       "\n",
       "    .dataframe tbody tr th {\n",
       "        vertical-align: top;\n",
       "    }\n",
       "\n",
       "    .dataframe thead th {\n",
       "        text-align: right;\n",
       "    }\n",
       "</style>\n",
       "<table border=\"1\" class=\"dataframe\">\n",
       "  <thead>\n",
       "    <tr style=\"text-align: right;\">\n",
       "      <th></th>\n",
       "      <th>daily_observed_values</th>\n",
       "      <th>DayEntr_PKF_allcols</th>\n",
       "      <th>DayEntr_PKF_lags</th>\n",
       "      <th>DayEntr_PUF_allcols</th>\n",
       "    </tr>\n",
       "    <tr>\n",
       "      <th>Timestamp</th>\n",
       "      <th></th>\n",
       "      <th></th>\n",
       "      <th></th>\n",
       "      <th></th>\n",
       "    </tr>\n",
       "  </thead>\n",
       "  <tbody>\n",
       "    <tr>\n",
       "      <th>2018-09-24</th>\n",
       "      <td>5719</td>\n",
       "      <td>9222.246578</td>\n",
       "      <td>8760.960808</td>\n",
       "      <td>9222.246578</td>\n",
       "    </tr>\n",
       "    <tr>\n",
       "      <th>2018-09-25</th>\n",
       "      <td>9998</td>\n",
       "      <td>8512.299774</td>\n",
       "      <td>8406.381977</td>\n",
       "      <td>9594.328462</td>\n",
       "    </tr>\n",
       "    <tr>\n",
       "      <th>2018-09-26</th>\n",
       "      <td>9816</td>\n",
       "      <td>9365.596590</td>\n",
       "      <td>9865.235621</td>\n",
       "      <td>9627.414999</td>\n",
       "    </tr>\n",
       "    <tr>\n",
       "      <th>2018-09-27</th>\n",
       "      <td>10087</td>\n",
       "      <td>9516.592876</td>\n",
       "      <td>9957.557774</td>\n",
       "      <td>9882.440764</td>\n",
       "    </tr>\n",
       "    <tr>\n",
       "      <th>2018-09-28</th>\n",
       "      <td>10742</td>\n",
       "      <td>10151.044256</td>\n",
       "      <td>9956.419883</td>\n",
       "      <td>10252.806498</td>\n",
       "    </tr>\n",
       "  </tbody>\n",
       "</table>\n",
       "</div>"
      ],
      "text/plain": [
       "            daily_observed_values  DayEntr_PKF_allcols  DayEntr_PKF_lags  \\\n",
       "Timestamp                                                                  \n",
       "2018-09-24                   5719          9222.246578       8760.960808   \n",
       "2018-09-25                   9998          8512.299774       8406.381977   \n",
       "2018-09-26                   9816          9365.596590       9865.235621   \n",
       "2018-09-27                  10087          9516.592876       9957.557774   \n",
       "2018-09-28                  10742         10151.044256       9956.419883   \n",
       "\n",
       "            DayEntr_PUF_allcols  \n",
       "Timestamp                        \n",
       "2018-09-24          9222.246578  \n",
       "2018-09-25          9594.328462  \n",
       "2018-09-26          9627.414999  \n",
       "2018-09-27          9882.440764  \n",
       "2018-09-28         10252.806498  "
      ]
     },
     "execution_count": 55,
     "metadata": {},
     "output_type": "execute_result"
    }
   ],
   "source": [
    "lr_dailyresults_df = lr_dailyresults_df.merge(lr_dall_future_df, on='Timestamp')\n",
    "lr_dailyresults_df.head()"
   ]
  },
  {
   "cell_type": "code",
   "execution_count": 56,
   "metadata": {},
   "outputs": [
    {
     "data": {
      "text/html": [
       "<div>\n",
       "<style scoped>\n",
       "    .dataframe tbody tr th:only-of-type {\n",
       "        vertical-align: middle;\n",
       "    }\n",
       "\n",
       "    .dataframe tbody tr th {\n",
       "        vertical-align: top;\n",
       "    }\n",
       "\n",
       "    .dataframe thead th {\n",
       "        text-align: right;\n",
       "    }\n",
       "</style>\n",
       "<table border=\"1\" class=\"dataframe\">\n",
       "  <thead>\n",
       "    <tr style=\"text-align: right;\">\n",
       "      <th></th>\n",
       "      <th>day_PKF_allcols_lr_runtime</th>\n",
       "      <th>day_PKF_lags_lr_runtime</th>\n",
       "      <th>day_PUF_allcols_lr_runtime</th>\n",
       "    </tr>\n",
       "  </thead>\n",
       "  <tbody>\n",
       "    <tr>\n",
       "      <th>0</th>\n",
       "      <td>0.005399</td>\n",
       "      <td>0.004501</td>\n",
       "      <td>2.544438</td>\n",
       "    </tr>\n",
       "  </tbody>\n",
       "</table>\n",
       "</div>"
      ],
      "text/plain": [
       "   day_PKF_allcols_lr_runtime  day_PKF_lags_lr_runtime  \\\n",
       "0                    0.005399                 0.004501   \n",
       "\n",
       "   day_PUF_allcols_lr_runtime  \n",
       "0                    2.544438  "
      ]
     },
     "execution_count": 56,
     "metadata": {},
     "output_type": "execute_result"
    }
   ],
   "source": [
    "lr_runtime_dailydf = pd.concat([lr_runtime_dailydf, lr_runtime_dPUF_allcols], axis = 1)\n",
    "lr_runtime_dailydf.head()"
   ]
  },
  {
   "cell_type": "markdown",
   "metadata": {},
   "source": [
    "### Just lags, unknown future"
   ]
  },
  {
   "cell_type": "code",
   "execution_count": 57,
   "metadata": {},
   "outputs": [
    {
     "data": {
      "text/plain": [
       "Index(['TotalEntries', 't-1', 't-2', 't-3', 't-4', 't-5', 't-6', 't-7'], dtype='object')"
      ]
     },
     "execution_count": 57,
     "metadata": {},
     "output_type": "execute_result"
    }
   ],
   "source": [
    "lags_dPUF_df = marag_daily.drop(['T', 'PPT', 'Weekday/Weekend'], axis = 1)\n",
    "lags_dPUF_df.columns"
   ]
  },
  {
   "cell_type": "code",
   "execution_count": 58,
   "metadata": {},
   "outputs": [],
   "source": [
    "X_train, X_dev, X_test, y_train, y_dev, y_test = train_dev_test_split(lags_dPUF_df.drop(['TotalEntries'], axis=1), \n",
    "                                                                      lags_dPUF_df['TotalEntries'])\n",
    "\n",
    "lr_Udlags_X_train = pd.concat([X_train, X_dev])\n",
    "lr_Udlags_X_train.sort_index(inplace=True)\n",
    "lr_Udlags_y_train = pd.concat([y_train, y_dev])\n",
    "lr_Udlags_y_train.sort_index(inplace=True)"
   ]
  },
  {
   "cell_type": "code",
   "execution_count": 59,
   "metadata": {},
   "outputs": [],
   "source": [
    "lr_Udlags_model = LinearRegression().fit(lr_Udlags_X_train, lr_Udlags_y_train)"
   ]
  },
  {
   "cell_type": "code",
   "execution_count": 60,
   "metadata": {},
   "outputs": [
    {
     "name": "stderr",
     "output_type": "stream",
     "text": [
      "100%|██████████| 154/154 [00:01<00:00, 86.70it/s]\n"
     ]
    }
   ],
   "source": [
    "start_dPUF_lags = time.time()\n",
    "\n",
    "lr_dlags_future_df = get_future_preds(daily_nolags_marag, lr_Udlags_X_train, X_test, lr_Udlags_model, justlags=True, daily=True)\n",
    "\n",
    "end_dPUF_lags = time.time()\n",
    "lr_runtime_dPUF_lags = end_dPUF_lags - start_dPUF_lags\n",
    "lr_runtime_dPUF_lags = pd.DataFrame(pd.Series(lr_runtime_dPUF_lags, name = 'day_PUF_lags_lr_runtime'))\n",
    "lr_dlags_future_df.columns = ['DayEntr_PUF_lags']"
   ]
  },
  {
   "cell_type": "code",
   "execution_count": 61,
   "metadata": {},
   "outputs": [
    {
     "data": {
      "text/html": [
       "<div>\n",
       "<style scoped>\n",
       "    .dataframe tbody tr th:only-of-type {\n",
       "        vertical-align: middle;\n",
       "    }\n",
       "\n",
       "    .dataframe tbody tr th {\n",
       "        vertical-align: top;\n",
       "    }\n",
       "\n",
       "    .dataframe thead th {\n",
       "        text-align: right;\n",
       "    }\n",
       "</style>\n",
       "<table border=\"1\" class=\"dataframe\">\n",
       "  <thead>\n",
       "    <tr style=\"text-align: right;\">\n",
       "      <th></th>\n",
       "      <th>daily_observed_values</th>\n",
       "      <th>DayEntr_PKF_allcols</th>\n",
       "      <th>DayEntr_PKF_lags</th>\n",
       "      <th>DayEntr_PUF_allcols</th>\n",
       "      <th>DayEntr_PUF_lags</th>\n",
       "    </tr>\n",
       "    <tr>\n",
       "      <th>Timestamp</th>\n",
       "      <th></th>\n",
       "      <th></th>\n",
       "      <th></th>\n",
       "      <th></th>\n",
       "      <th></th>\n",
       "    </tr>\n",
       "  </thead>\n",
       "  <tbody>\n",
       "    <tr>\n",
       "      <th>2018-09-24</th>\n",
       "      <td>5719</td>\n",
       "      <td>9222.246578</td>\n",
       "      <td>8760.960808</td>\n",
       "      <td>9222.246578</td>\n",
       "      <td>8760.960808</td>\n",
       "    </tr>\n",
       "    <tr>\n",
       "      <th>2018-09-25</th>\n",
       "      <td>9998</td>\n",
       "      <td>8512.299774</td>\n",
       "      <td>8406.381977</td>\n",
       "      <td>9594.328462</td>\n",
       "      <td>9210.085039</td>\n",
       "    </tr>\n",
       "    <tr>\n",
       "      <th>2018-09-26</th>\n",
       "      <td>9816</td>\n",
       "      <td>9365.596590</td>\n",
       "      <td>9865.235621</td>\n",
       "      <td>9627.414999</td>\n",
       "      <td>9319.118087</td>\n",
       "    </tr>\n",
       "    <tr>\n",
       "      <th>2018-09-27</th>\n",
       "      <td>10087</td>\n",
       "      <td>9516.592876</td>\n",
       "      <td>9957.557774</td>\n",
       "      <td>9882.440764</td>\n",
       "      <td>10085.018821</td>\n",
       "    </tr>\n",
       "    <tr>\n",
       "      <th>2018-09-28</th>\n",
       "      <td>10742</td>\n",
       "      <td>10151.044256</td>\n",
       "      <td>9956.419883</td>\n",
       "      <td>10252.806498</td>\n",
       "      <td>9952.815953</td>\n",
       "    </tr>\n",
       "  </tbody>\n",
       "</table>\n",
       "</div>"
      ],
      "text/plain": [
       "            daily_observed_values  DayEntr_PKF_allcols  DayEntr_PKF_lags  \\\n",
       "Timestamp                                                                  \n",
       "2018-09-24                   5719          9222.246578       8760.960808   \n",
       "2018-09-25                   9998          8512.299774       8406.381977   \n",
       "2018-09-26                   9816          9365.596590       9865.235621   \n",
       "2018-09-27                  10087          9516.592876       9957.557774   \n",
       "2018-09-28                  10742         10151.044256       9956.419883   \n",
       "\n",
       "            DayEntr_PUF_allcols  DayEntr_PUF_lags  \n",
       "Timestamp                                          \n",
       "2018-09-24          9222.246578       8760.960808  \n",
       "2018-09-25          9594.328462       9210.085039  \n",
       "2018-09-26          9627.414999       9319.118087  \n",
       "2018-09-27          9882.440764      10085.018821  \n",
       "2018-09-28         10252.806498       9952.815953  "
      ]
     },
     "execution_count": 61,
     "metadata": {},
     "output_type": "execute_result"
    }
   ],
   "source": [
    "lr_dailyresults_df = lr_dailyresults_df.merge(lr_dlags_future_df, on='Timestamp')\n",
    "lr_dailyresults_df.head()"
   ]
  },
  {
   "cell_type": "code",
   "execution_count": 62,
   "metadata": {},
   "outputs": [
    {
     "data": {
      "text/html": [
       "<div>\n",
       "<style scoped>\n",
       "    .dataframe tbody tr th:only-of-type {\n",
       "        vertical-align: middle;\n",
       "    }\n",
       "\n",
       "    .dataframe tbody tr th {\n",
       "        vertical-align: top;\n",
       "    }\n",
       "\n",
       "    .dataframe thead th {\n",
       "        text-align: right;\n",
       "    }\n",
       "</style>\n",
       "<table border=\"1\" class=\"dataframe\">\n",
       "  <thead>\n",
       "    <tr style=\"text-align: right;\">\n",
       "      <th></th>\n",
       "      <th>day_PKF_allcols_lr_runtime</th>\n",
       "      <th>day_PKF_lags_lr_runtime</th>\n",
       "      <th>day_PUF_allcols_lr_runtime</th>\n",
       "      <th>day_PUF_lags_lr_runtime</th>\n",
       "    </tr>\n",
       "  </thead>\n",
       "  <tbody>\n",
       "    <tr>\n",
       "      <th>0</th>\n",
       "      <td>0.005399</td>\n",
       "      <td>0.004501</td>\n",
       "      <td>2.544438</td>\n",
       "      <td>1.782149</td>\n",
       "    </tr>\n",
       "  </tbody>\n",
       "</table>\n",
       "</div>"
      ],
      "text/plain": [
       "   day_PKF_allcols_lr_runtime  day_PKF_lags_lr_runtime  \\\n",
       "0                    0.005399                 0.004501   \n",
       "\n",
       "   day_PUF_allcols_lr_runtime  day_PUF_lags_lr_runtime  \n",
       "0                    2.544438                 1.782149  "
      ]
     },
     "execution_count": 62,
     "metadata": {},
     "output_type": "execute_result"
    }
   ],
   "source": [
    "lr_runtime_dailydf = pd.concat([lr_runtime_dailydf, lr_runtime_dPUF_lags], axis = 1)\n",
    "lr_runtime_dailydf.head()"
   ]
  },
  {
   "cell_type": "code",
   "execution_count": 63,
   "metadata": {},
   "outputs": [],
   "source": [
    "lr_dailyresults_df.to_csv('./../../../Databases/lr_dailyresults.csv', index=True)\n",
    "lr_runtime_dailydf.to_csv('./../../../Databases/lr_runtime_dailyscenarios.csv')"
   ]
  }
 ],
 "metadata": {
  "kernelspec": {
   "display_name": "Python 3",
   "language": "python",
   "name": "python3"
  },
  "language_info": {
   "codemirror_mode": {
    "name": "ipython",
    "version": 3
   },
   "file_extension": ".py",
   "mimetype": "text/x-python",
   "name": "python",
   "nbconvert_exporter": "python",
   "pygments_lexer": "ipython3",
   "version": "3.6.8"
  }
 },
 "nbformat": 4,
 "nbformat_minor": 2
}
