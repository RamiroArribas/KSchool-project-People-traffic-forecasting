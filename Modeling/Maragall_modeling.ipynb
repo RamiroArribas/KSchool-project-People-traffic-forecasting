{
 "cells": [
  {
   "cell_type": "code",
   "execution_count": 1,
   "metadata": {},
   "outputs": [],
   "source": [
    "import numpy as np\n",
    "import pandas as pd\n",
    "import datetime\n",
    "from tqdm import tqdm\n",
    "from sklearn.model_selection import train_test_split\n",
    "from sklearn.metrics import mean_squared_error\n",
    "from sklearn.metrics import r2_score\n",
    "from sklearn.linear_model import LinearRegression\n",
    "from math import sqrt\n",
    "import matplotlib.pyplot as plt\n",
    "plt.rcParams['figure.figsize'] = [20, 10]\n",
    "%matplotlib inline"
   ]
  },
  {
   "cell_type": "code",
   "execution_count": 4,
   "metadata": {},
   "outputs": [
    {
     "data": {
      "text/html": [
       "<div>\n",
       "<style scoped>\n",
       "    .dataframe tbody tr th:only-of-type {\n",
       "        vertical-align: middle;\n",
       "    }\n",
       "\n",
       "    .dataframe tbody tr th {\n",
       "        vertical-align: top;\n",
       "    }\n",
       "\n",
       "    .dataframe thead th {\n",
       "        text-align: right;\n",
       "    }\n",
       "</style>\n",
       "<table border=\"1\" class=\"dataframe\">\n",
       "  <thead>\n",
       "    <tr style=\"text-align: right;\">\n",
       "      <th></th>\n",
       "      <th>TotalEntries</th>\n",
       "      <th>Temperature</th>\n",
       "      <th>Precipitation</th>\n",
       "      <th>Open/Closed</th>\n",
       "      <th>Weekday/Weekend</th>\n",
       "      <th>t-1</th>\n",
       "      <th>t-2</th>\n",
       "      <th>t-3</th>\n",
       "      <th>t-4</th>\n",
       "      <th>t-5</th>\n",
       "      <th>...</th>\n",
       "      <th>t-328</th>\n",
       "      <th>t-329</th>\n",
       "      <th>t-330</th>\n",
       "      <th>t-331</th>\n",
       "      <th>t-332</th>\n",
       "      <th>t-333</th>\n",
       "      <th>t-334</th>\n",
       "      <th>t-335</th>\n",
       "      <th>t-336</th>\n",
       "      <th>outliers</th>\n",
       "    </tr>\n",
       "    <tr>\n",
       "      <th>Timestamp</th>\n",
       "      <th></th>\n",
       "      <th></th>\n",
       "      <th></th>\n",
       "      <th></th>\n",
       "      <th></th>\n",
       "      <th></th>\n",
       "      <th></th>\n",
       "      <th></th>\n",
       "      <th></th>\n",
       "      <th></th>\n",
       "      <th></th>\n",
       "      <th></th>\n",
       "      <th></th>\n",
       "      <th></th>\n",
       "      <th></th>\n",
       "      <th></th>\n",
       "      <th></th>\n",
       "      <th></th>\n",
       "      <th></th>\n",
       "      <th></th>\n",
       "      <th></th>\n",
       "    </tr>\n",
       "  </thead>\n",
       "  <tbody>\n",
       "    <tr>\n",
       "      <th>2017-01-16 00:00:00</th>\n",
       "      <td>8</td>\n",
       "      <td>9.1</td>\n",
       "      <td>0.0</td>\n",
       "      <td>1</td>\n",
       "      <td>1</td>\n",
       "      <td>17.0</td>\n",
       "      <td>23.0</td>\n",
       "      <td>25.0</td>\n",
       "      <td>53.0</td>\n",
       "      <td>73.0</td>\n",
       "      <td>...</td>\n",
       "      <td>0.0</td>\n",
       "      <td>0.0</td>\n",
       "      <td>0.0</td>\n",
       "      <td>0.0</td>\n",
       "      <td>0.0</td>\n",
       "      <td>0.0</td>\n",
       "      <td>0.0</td>\n",
       "      <td>0.0</td>\n",
       "      <td>0.0</td>\n",
       "      <td>0</td>\n",
       "    </tr>\n",
       "    <tr>\n",
       "      <th>2017-01-16 00:30:00</th>\n",
       "      <td>0</td>\n",
       "      <td>8.9</td>\n",
       "      <td>0.0</td>\n",
       "      <td>0</td>\n",
       "      <td>1</td>\n",
       "      <td>8.0</td>\n",
       "      <td>17.0</td>\n",
       "      <td>23.0</td>\n",
       "      <td>25.0</td>\n",
       "      <td>53.0</td>\n",
       "      <td>...</td>\n",
       "      <td>0.0</td>\n",
       "      <td>0.0</td>\n",
       "      <td>0.0</td>\n",
       "      <td>0.0</td>\n",
       "      <td>0.0</td>\n",
       "      <td>0.0</td>\n",
       "      <td>0.0</td>\n",
       "      <td>0.0</td>\n",
       "      <td>0.0</td>\n",
       "      <td>0</td>\n",
       "    </tr>\n",
       "    <tr>\n",
       "      <th>2017-01-16 01:00:00</th>\n",
       "      <td>0</td>\n",
       "      <td>8.8</td>\n",
       "      <td>0.0</td>\n",
       "      <td>0</td>\n",
       "      <td>1</td>\n",
       "      <td>0.0</td>\n",
       "      <td>8.0</td>\n",
       "      <td>17.0</td>\n",
       "      <td>23.0</td>\n",
       "      <td>25.0</td>\n",
       "      <td>...</td>\n",
       "      <td>0.0</td>\n",
       "      <td>0.0</td>\n",
       "      <td>0.0</td>\n",
       "      <td>0.0</td>\n",
       "      <td>0.0</td>\n",
       "      <td>0.0</td>\n",
       "      <td>0.0</td>\n",
       "      <td>0.0</td>\n",
       "      <td>0.0</td>\n",
       "      <td>0</td>\n",
       "    </tr>\n",
       "    <tr>\n",
       "      <th>2017-01-16 01:30:00</th>\n",
       "      <td>0</td>\n",
       "      <td>8.5</td>\n",
       "      <td>0.0</td>\n",
       "      <td>0</td>\n",
       "      <td>1</td>\n",
       "      <td>0.0</td>\n",
       "      <td>0.0</td>\n",
       "      <td>8.0</td>\n",
       "      <td>17.0</td>\n",
       "      <td>23.0</td>\n",
       "      <td>...</td>\n",
       "      <td>0.0</td>\n",
       "      <td>0.0</td>\n",
       "      <td>0.0</td>\n",
       "      <td>0.0</td>\n",
       "      <td>0.0</td>\n",
       "      <td>0.0</td>\n",
       "      <td>0.0</td>\n",
       "      <td>0.0</td>\n",
       "      <td>0.0</td>\n",
       "      <td>0</td>\n",
       "    </tr>\n",
       "    <tr>\n",
       "      <th>2017-01-16 02:00:00</th>\n",
       "      <td>0</td>\n",
       "      <td>8.2</td>\n",
       "      <td>0.0</td>\n",
       "      <td>0</td>\n",
       "      <td>1</td>\n",
       "      <td>0.0</td>\n",
       "      <td>0.0</td>\n",
       "      <td>0.0</td>\n",
       "      <td>8.0</td>\n",
       "      <td>17.0</td>\n",
       "      <td>...</td>\n",
       "      <td>0.0</td>\n",
       "      <td>0.0</td>\n",
       "      <td>0.0</td>\n",
       "      <td>0.0</td>\n",
       "      <td>0.0</td>\n",
       "      <td>0.0</td>\n",
       "      <td>0.0</td>\n",
       "      <td>0.0</td>\n",
       "      <td>0.0</td>\n",
       "      <td>0</td>\n",
       "    </tr>\n",
       "  </tbody>\n",
       "</table>\n",
       "<p>5 rows × 342 columns</p>\n",
       "</div>"
      ],
      "text/plain": [
       "                     TotalEntries  Temperature  Precipitation  Open/Closed  \\\n",
       "Timestamp                                                                    \n",
       "2017-01-16 00:00:00             8          9.1            0.0            1   \n",
       "2017-01-16 00:30:00             0          8.9            0.0            0   \n",
       "2017-01-16 01:00:00             0          8.8            0.0            0   \n",
       "2017-01-16 01:30:00             0          8.5            0.0            0   \n",
       "2017-01-16 02:00:00             0          8.2            0.0            0   \n",
       "\n",
       "                     Weekday/Weekend   t-1   t-2   t-3   t-4   t-5  ...  \\\n",
       "Timestamp                                                           ...   \n",
       "2017-01-16 00:00:00                1  17.0  23.0  25.0  53.0  73.0  ...   \n",
       "2017-01-16 00:30:00                1   8.0  17.0  23.0  25.0  53.0  ...   \n",
       "2017-01-16 01:00:00                1   0.0   8.0  17.0  23.0  25.0  ...   \n",
       "2017-01-16 01:30:00                1   0.0   0.0   8.0  17.0  23.0  ...   \n",
       "2017-01-16 02:00:00                1   0.0   0.0   0.0   8.0  17.0  ...   \n",
       "\n",
       "                     t-328  t-329  t-330  t-331  t-332  t-333  t-334  t-335  \\\n",
       "Timestamp                                                                     \n",
       "2017-01-16 00:00:00    0.0    0.0    0.0    0.0    0.0    0.0    0.0    0.0   \n",
       "2017-01-16 00:30:00    0.0    0.0    0.0    0.0    0.0    0.0    0.0    0.0   \n",
       "2017-01-16 01:00:00    0.0    0.0    0.0    0.0    0.0    0.0    0.0    0.0   \n",
       "2017-01-16 01:30:00    0.0    0.0    0.0    0.0    0.0    0.0    0.0    0.0   \n",
       "2017-01-16 02:00:00    0.0    0.0    0.0    0.0    0.0    0.0    0.0    0.0   \n",
       "\n",
       "                     t-336  outliers  \n",
       "Timestamp                             \n",
       "2017-01-16 00:00:00    0.0         0  \n",
       "2017-01-16 00:30:00    0.0         0  \n",
       "2017-01-16 01:00:00    0.0         0  \n",
       "2017-01-16 01:30:00    0.0         0  \n",
       "2017-01-16 02:00:00    0.0         0  \n",
       "\n",
       "[5 rows x 342 columns]"
      ]
     },
     "execution_count": 4,
     "metadata": {},
     "output_type": "execute_result"
    }
   ],
   "source": [
    "marag_df = pd.read_csv('./../../../Databases/marag_data.csv')\n",
    "marag_df.set_index('Timestamp', inplace=True)\n",
    "marag_df.sort_index(inplace=True)\n",
    "marag_df.head()"
   ]
  },
  {
   "cell_type": "code",
   "execution_count": 5,
   "metadata": {},
   "outputs": [],
   "source": [
    "#Initial data preparation:\n",
    "def train_dev_test_split(X_data, y_data):\n",
    "    \n",
    "##CODE IMPROVEMENT: raise error if X and y of different size!    \n",
    "    cut1 = int(0.6*len(X_data))\n",
    "    cut2 = ((len(X_data)-cut1)//2) + cut1\n",
    "    X_train = X_data[:cut1]\n",
    "    X_dev = X_data[cut1:cut2]\n",
    "    X_test = X_data[cut2:]\n",
    "    y_train = y_data[:cut1]\n",
    "    y_dev = y_data[cut1:cut2]\n",
    "    y_test = y_data[cut2:]\n",
    "    \n",
    "    return X_train, X_dev, X_test, y_train, y_dev, y_test\n",
    "    \n",
    "#X_train, X_temp, y_train, y_temp = train_test_split(men_df.drop('TotalEntriesMen', axis = 1), men_df['TotalEntriesMen'], test_size = 0.4, random_state = 42, shuffle=False)\n",
    "X_train, X_dev, X_test, y_train, y_dev, y_test = train_dev_test_split(marag_df.drop(['TotalEntries'], axis=1), df_with_lags['TotalEntries'])\n",
    "\n",
    "X_train_raw = marag_df[:X_train[-1:].index.astype(str)[0]]"
   ]
  },
  {
   "cell_type": "code",
   "execution_count": 32,
   "metadata": {},
   "outputs": [
    {
     "data": {
      "text/plain": [
       "32.56392119394341"
      ]
     },
     "execution_count": 32,
     "metadata": {},
     "output_type": "execute_result"
    }
   ],
   "source": [
    "from sklearn.linear_model import LinearRegression\n",
    "lr_model = LinearRegression().fit(X_train, y_train)\n",
    "y_dev_hat = lr_model.predict(X_dev)\n",
    "np.sqrt(mean_squared_error(y_dev, y_hat))"
   ]
  },
  {
   "cell_type": "code",
   "execution_count": 13,
   "metadata": {},
   "outputs": [
    {
     "data": {
      "image/png": "[encoded data removed]",
      "text/plain": [
       "<Figure size 1440x720 with 1 Axes>"
      ]
     },
     "metadata": {
      "needs_background": "light"
     },
     "output_type": "display_data"
    }
   ],
   "source": [
    "(y_dev - y_hat).plot(figsize=(20, 10))\n",
    "plt.show()"
   ]
  },
  {
   "cell_type": "code",
   "execution_count": 16,
   "metadata": {},
   "outputs": [
    {
     "data": {
      "text/plain": [
       "205.1677925361364"
      ]
     },
     "execution_count": 16,
     "metadata": {},
     "output_type": "execute_result"
    }
   ],
   "source": [
    "y_dev[:48].sum() - y_hat[:48].sum()"
   ]
  },
  {
   "cell_type": "code",
   "execution_count": 23,
   "metadata": {},
   "outputs": [
    {
     "data": {
      "text/plain": [
       "count    7392.000000\n",
       "mean        0.308818\n",
       "std        32.564660\n",
       "min      -719.208779\n",
       "25%       -15.915058\n",
       "50%         0.064187\n",
       "75%        15.374342\n",
       "max       556.670757\n",
       "Name: TotalEntries, dtype: float64"
      ]
     },
     "execution_count": 23,
     "metadata": {},
     "output_type": "execute_result"
    }
   ],
   "source": [
    "(y_dev - y_hat).describe()"
   ]
  },
  {
   "cell_type": "code",
   "execution_count": 22,
   "metadata": {},
   "outputs": [
    {
     "data": {
      "text/plain": [
       "Timestamp\n",
       "2018-09-11 17:30:00    556.670757\n",
       "2018-09-11 18:00:00    344.182192\n",
       "2018-07-10 10:00:00    171.288651\n",
       "2018-05-07 18:00:00    165.218422\n",
       "2018-07-13 09:30:00    164.008555\n",
       "2018-05-07 06:30:00    153.731423\n",
       "2018-06-08 15:00:00    150.142944\n",
       "2018-05-25 15:00:00    145.771697\n",
       "2018-07-28 08:30:00    137.301431\n",
       "2018-07-29 12:30:00    130.909570\n",
       "2018-09-11 10:30:00    129.770288\n",
       "2018-07-07 10:30:00    127.948028\n",
       "2018-05-08 17:00:00    125.151019\n",
       "2018-09-17 17:00:00    121.613656\n",
       "2018-07-14 10:30:00    119.768263\n",
       "2018-09-03 18:00:00    119.410609\n",
       "2018-05-11 13:30:00    117.698048\n",
       "2018-09-12 18:30:00    114.798495\n",
       "2018-07-19 10:00:00    114.773803\n",
       "2018-09-18 14:00:00    113.640052\n",
       "Name: TotalEntries, dtype: float64"
      ]
     },
     "execution_count": 22,
     "metadata": {},
     "output_type": "execute_result"
    }
   ],
   "source": [
    "(y_dev - y_hat).sort_values(ascending=False).head(20)"
   ]
  },
  {
   "cell_type": "code",
   "execution_count": 51,
   "metadata": {},
   "outputs": [
    {
     "data": {
      "text/plain": [
       "array([  4.22265546, -13.53366323,  -6.09674844,  -6.33715536,\n",
       "        -2.8474265 , -14.66024969,  -7.6825687 ,  -7.46961042,\n",
       "         5.65999453,   9.7698793 ])"
      ]
     },
     "execution_count": 51,
     "metadata": {},
     "output_type": "execute_result"
    }
   ],
   "source": [
    "y_hat[:10]"
   ]
  },
  {
   "cell_type": "code",
   "execution_count": 19,
   "metadata": {
    "scrolled": true
   },
   "outputs": [
    {
     "data": {
      "text/plain": [
       "<matplotlib.axes._subplots.AxesSubplot at 0x7fc935d09ba8>"
      ]
     },
     "execution_count": 19,
     "metadata": {},
     "output_type": "execute_result"
    },
    {
     "data": {
      "image/png": "[encoded data removed]",
      "text/plain": [
       "<Figure size 432x288 with 1 Axes>"
      ]
     },
     "metadata": {
      "needs_background": "light"
     },
     "output_type": "display_data"
    }
   ],
   "source": [
    "(y_dev - y_hat).hist(bins=1000)"
   ]
  },
  {
   "cell_type": "code",
   "execution_count": null,
   "metadata": {},
   "outputs": [],
   "source": []
  },
  {
   "cell_type": "code",
   "execution_count": null,
   "metadata": {},
   "outputs": [],
   "source": []
  },
  {
   "cell_type": "code",
   "execution_count": null,
   "metadata": {},
   "outputs": [],
   "source": []
  },
  {
   "cell_type": "code",
   "execution_count": 40,
   "metadata": {},
   "outputs": [],
   "source": [
    "def create_lags(dataframe, N):\n",
    "    temp_df = dataframe.copy()\n",
    "    for i in range(1,N+1):\n",
    "        temp_df['t-' + str(i)] = temp_df['TotalEntries'].shift(i)\n",
    "    \n",
    "    return temp_df.iloc[N:]"
   ]
  },
  {
   "cell_type": "code",
   "execution_count": 41,
   "metadata": {},
   "outputs": [],
   "source": [
    "def walk_forward_validation(X_train, y_train, X_test, L, model):\n",
    "\n",
    "    '''This function integrates a walk-forward validation method for multiple models.\n",
    "    Parameters: model, #lags, train data, test data, length of test_data'''\n",
    "\n",
    "    X_grow = X_train_raw.astype('float64').sort_index()\n",
    "    y_grow_hat = []\n",
    "    #RMSE_record = []\n",
    "    for i in tqdm(range(len(X_test))):\n",
    "        y_hat = model.predict(X_test[i:i+1])\n",
    "        #RMSE_record.append(y_hat)\n",
    "        y_grow_hat.append(y_hat)\n",
    "        y_hat = pd.DataFrame(y_hat, index=X_test[i:(i+1)].index, columns=['TotalEntries'])\n",
    "        #y_hat = pd.DataFrame(y_hat, columns=['TotalEntries'])\n",
    "        #y_hat.set_index(X_dev[i:(i+1)].index, inplace=True)\n",
    "        X_grow = pd.concat([X_grow, y_hat])\n",
    "        X_data = create_lags(X_grow, L)\n",
    "        model.fit(X_data.drop(['TotalEntries'], axis=1), X_data['TotalEntries'])\n",
    "        #y_hat_trans = create_lags(pd.DataFrame(y_hat), 49)\n",
    "        #X_grow = pd.concat(X_grow, y_hat_trans)\n",
    "        #model.fit(X_grow)\n",
    "    \n",
    "    \n",
    "    return y_grow_hat"
   ]
  },
  {
   "cell_type": "code",
   "execution_count": 31,
   "metadata": {},
   "outputs": [
    {
     "data": {
      "text/plain": [
       "Index(['Temperature', 'Precipitation', 'Open/Closed', 'Weekday/Weekend', 't-1',\n",
       "       't-2', 't-3', 't-4', 't-5', 't-6',\n",
       "       ...\n",
       "       't-328', 't-329', 't-330', 't-331', 't-332', 't-333', 't-334', 't-335',\n",
       "       't-336', 'outliers'],\n",
       "      dtype='object', length=341)"
      ]
     },
     "execution_count": 31,
     "metadata": {},
     "output_type": "execute_result"
    }
   ],
   "source": [
    "X_train.columns"
   ]
  },
  {
   "cell_type": "code",
   "execution_count": 44,
   "metadata": {},
   "outputs": [
    {
     "name": "stderr",
     "output_type": "stream",
     "text": [
      "100%|██████████| 7392/7392 [1:41:02<00:00,  1.09it/s]\n"
     ]
    }
   ],
   "source": [
    "X_train_raw = marag_df[['TotalEntries']][:X_train[-1:].index.astype(str)[0]]\n",
    "\n",
    "from sklearn.linear_model import LinearRegression\n",
    "lr_model = LinearRegression().fit(X_train.drop(['Temperature', 'Precipitation', 'Open/Closed', 'Weekday/Weekend'\n",
    "                                                , 'outliers'], axis=1), y_train)\n",
    "y_dev_hat_wfv = walk_forward_validation(X_train.drop(['Temperature', 'Precipitation', 'Open/Closed', 'Weekday/Weekend'\n",
    "                                                , 'outliers'], axis=1), y_train, X_dev.drop(['Temperature', 'Precipitation', 'Open/Closed', 'Weekday/Weekend'\n",
    "                                                , 'outliers'], axis=1), (48*7), lr_model)"
   ]
  },
  {
   "cell_type": "code",
   "execution_count": 45,
   "metadata": {},
   "outputs": [
    {
     "data": {
      "text/plain": [
       "33.333371611411835"
      ]
     },
     "execution_count": 45,
     "metadata": {},
     "output_type": "execute_result"
    }
   ],
   "source": [
    "np.sqrt(mean_squared_error(y_dev, y_dev_hat_wfv))"
   ]
  },
  {
   "cell_type": "code",
   "execution_count": null,
   "metadata": {},
   "outputs": [],
   "source": []
  },
  {
   "cell_type": "code",
   "execution_count": 49,
   "metadata": {},
   "outputs": [
    {
     "data": {
      "text/plain": [
       "Timestamp\n",
       "2018-04-23 00:00:00    6\n",
       "2018-04-23 00:30:00    0\n",
       "2018-04-23 01:00:00    0\n",
       "2018-04-23 01:30:00    0\n",
       "2018-04-23 02:00:00    0\n",
       "Name: TotalEntries, dtype: int64"
      ]
     },
     "execution_count": 49,
     "metadata": {},
     "output_type": "execute_result"
    }
   ],
   "source": [
    "y_dev.head()"
   ]
  },
  {
   "cell_type": "code",
   "execution_count": 50,
   "metadata": {},
   "outputs": [
    {
     "data": {
      "text/plain": [
       "[array([-6.58922209]),\n",
       " array([-18.33127715]),\n",
       " array([-7.00856827]),\n",
       " array([-9.35414482]),\n",
       " array([-6.12249468]),\n",
       " array([-18.41469727]),\n",
       " array([-9.3776147]),\n",
       " array([-8.76516956]),\n",
       " array([2.80107461]),\n",
       " array([5.91540982])]"
      ]
     },
     "execution_count": 50,
     "metadata": {},
     "output_type": "execute_result"
    }
   ],
   "source": [
    "y_dev_hat_wfv[:10]"
   ]
  },
  {
   "cell_type": "code",
   "execution_count": 54,
   "metadata": {},
   "outputs": [
    {
     "data": {
      "text/html": [
       "<div>\n",
       "<style scoped>\n",
       "    .dataframe tbody tr th:only-of-type {\n",
       "        vertical-align: middle;\n",
       "    }\n",
       "\n",
       "    .dataframe tbody tr th {\n",
       "        vertical-align: top;\n",
       "    }\n",
       "\n",
       "    .dataframe thead th {\n",
       "        text-align: right;\n",
       "    }\n",
       "</style>\n",
       "<table border=\"1\" class=\"dataframe\">\n",
       "  <thead>\n",
       "    <tr style=\"text-align: right;\">\n",
       "      <th></th>\n",
       "      <th>0</th>\n",
       "    </tr>\n",
       "  </thead>\n",
       "  <tbody>\n",
       "    <tr>\n",
       "      <th>0</th>\n",
       "      <td>-6.589222</td>\n",
       "    </tr>\n",
       "    <tr>\n",
       "      <th>1</th>\n",
       "      <td>-18.331277</td>\n",
       "    </tr>\n",
       "    <tr>\n",
       "      <th>2</th>\n",
       "      <td>-7.008568</td>\n",
       "    </tr>\n",
       "    <tr>\n",
       "      <th>3</th>\n",
       "      <td>-9.354145</td>\n",
       "    </tr>\n",
       "    <tr>\n",
       "      <th>4</th>\n",
       "      <td>-6.122495</td>\n",
       "    </tr>\n",
       "  </tbody>\n",
       "</table>\n",
       "</div>"
      ],
      "text/plain": [
       "           0\n",
       "0  -6.589222\n",
       "1 -18.331277\n",
       "2  -7.008568\n",
       "3  -9.354145\n",
       "4  -6.122495"
      ]
     },
     "execution_count": 54,
     "metadata": {},
     "output_type": "execute_result"
    }
   ],
   "source": [
    "pd.DataFrame(y_dev_hat_wfv).head()"
   ]
  },
  {
   "cell_type": "code",
   "execution_count": 55,
   "metadata": {},
   "outputs": [],
   "source": [
    "pd.DataFrame(y_dev_hat_wfv).to_csv('./../../../Databases/lr_wfv_dev_justlags.csv', index=True)"
   ]
  }
 ],
 "metadata": {
  "kernelspec": {
   "display_name": "Python 3",
   "language": "python",
   "name": "python3"
  },
  "language_info": {
   "codemirror_mode": {
    "name": "ipython",
    "version": 3
   },
   "file_extension": ".py",
   "mimetype": "text/x-python",
   "name": "python",
   "nbconvert_exporter": "python",
   "pygments_lexer": "ipython3",
   "version": "3.6.8"
  }
 },
 "nbformat": 4,
 "nbformat_minor": 2
}
