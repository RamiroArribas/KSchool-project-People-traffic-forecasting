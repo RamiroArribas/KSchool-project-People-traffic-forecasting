{
 "cells": [
  {
   "cell_type": "code",
   "execution_count": 11,
   "metadata": {},
   "outputs": [],
   "source": [
    "import numpy as np\n",
    "import pandas as pd\n",
    "import datetime\n",
    "from tqdm import tqdm\n",
    "from sklearn.model_selection import train_test_split\n",
    "from sklearn.metrics import mean_squared_error\n",
    "from sklearn.metrics import r2_score\n",
    "from sklearn.linear_model import LinearRegression\n",
    "from scipy import stats\n",
    "from math import sqrt\n",
    "import matplotlib.pyplot as plt\n",
    "plt.rcParams['figure.figsize'] = [20, 10]\n",
    "%matplotlib inline"
   ]
  },
  {
   "cell_type": "code",
   "execution_count": 2,
   "metadata": {},
   "outputs": [],
   "source": [
    "marag_df = pd.read_csv('./../../../Databases/marag_lags_data.csv')\n",
    "marag_df.set_index('Timestamp', inplace=True)\n",
    "marag_df.sort_index(inplace=True)\n",
    "\n",
    "# For the time being we will not use the outliers column, so we will drop it\n",
    "marag_df.drop(['outliers'], axis=1, inplace=True)"
   ]
  },
  {
   "cell_type": "code",
   "execution_count": 3,
   "metadata": {},
   "outputs": [],
   "source": [
    "# Let's import the marag data with no lags for future comparative purposes\n",
    "no_lags_marag = pd.read_csv('./../../../Databases/marag_data.csv')\n",
    "no_lags_marag.set_index('Timestamp', inplace=True)\n",
    "no_lags_marag.sort_index(inplace=True)\n",
    "no_lags_marag.drop(['outliers'], axis=1, inplace=True)"
   ]
  },
  {
   "cell_type": "code",
   "execution_count": 4,
   "metadata": {},
   "outputs": [],
   "source": [
    "from ipynb.fs.full.train_dev_test_split import train_dev_test_split\n",
    "\n",
    "X_train, X_dev, X_test, y_train, y_dev, y_test = train_dev_test_split(marag_df.drop(['TotalEntries'], axis=1), \n",
    "                                                                      marag_df['TotalEntries'])\n",
    "\n",
    "lr_X_train = pd.concat([X_train, X_dev])\n",
    "lr_X_train.sort_index(inplace=True)\n",
    "lr_y_train = pd.concat([y_train, y_dev])\n",
    "lr_y_train.sort_index(inplace=True)"
   ]
  },
  {
   "cell_type": "code",
   "execution_count": 5,
   "metadata": {},
   "outputs": [],
   "source": [
    "lr_model = LinearRegression().fit(lr_X_train, lr_y_train)\n",
    "lr_y_hat = lr_model.predict(X_test)\n",
    "lr_y_hat = pd.Series(lr_y_hat, index=y_test.index, name='Predicted_TotalEntries')"
   ]
  },
  {
   "cell_type": "code",
   "execution_count": 14,
   "metadata": {},
   "outputs": [
    {
     "name": "stderr",
     "output_type": "stream",
     "text": [
      "100%|██████████| 2/2 [00:02<00:00,  1.15s/it]"
     ]
    },
    {
     "name": "stdout",
     "output_type": "stream",
     "text": [
      "2.3840224742889404\n"
     ]
    },
    {
     "name": "stderr",
     "output_type": "stream",
     "text": [
      "\n"
     ]
    }
   ],
   "source": [
    "from ipynb.fs.full.get_all_predictions import get_all_predictions\n",
    "import time\n",
    "start = time.time()\n",
    "\n",
    "all_future_df = get_all_predictions(no_lags_marag, X_train, X_test, lr_model)\n",
    "\n",
    "end = time.time()\n",
    "print(end - start)"
   ]
  },
  {
   "cell_type": "code",
   "execution_count": null,
   "metadata": {},
   "outputs": [],
   "source": [
    "all_future_df.columns = ['TotEntr_PUF_allcols']"
   ]
  },
  {
   "cell_type": "code",
   "execution_count": 9,
   "metadata": {},
   "outputs": [],
   "source": [
    "all_future_df.to_csv('./../../../Databases/TotEntre_PUF_alcols.csv', index=True)"
   ]
  }
 ],
 "metadata": {
  "kernelspec": {
   "display_name": "Python 3",
   "language": "python",
   "name": "python3"
  },
  "language_info": {
   "codemirror_mode": {
    "name": "ipython",
    "version": 3
   },
   "file_extension": ".py",
   "mimetype": "text/x-python",
   "name": "python",
   "nbconvert_exporter": "python",
   "pygments_lexer": "ipython3",
   "version": "3.6.8"
  }
 },
 "nbformat": 4,
 "nbformat_minor": 2
}
