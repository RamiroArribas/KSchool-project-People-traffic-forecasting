{
 "cells": [
  {
   "cell_type": "code",
   "execution_count": 1,
   "metadata": {},
   "outputs": [],
   "source": [
    "import numpy as np\n",
    "import pandas as pd\n",
    "import datetime\n",
    "import time\n",
    "from tqdm import tqdm\n",
    "from sklearn.metrics import mean_squared_error\n",
    "from sklearn.metrics import r2_score\n",
    "from scipy import stats\n",
    "from math import sqrt\n",
    "from sklearn.model_selection import GridSearchCV\n",
    "%run ./../custom_functions/train_dev_test_split.ipynb\n",
    "%run ./../custom_functions/get_future_predictions.ipynb\n",
    "\n",
    "#from ipynb.fs.full.train_dev_test_split import train_dev_test_split\n",
    "#from ipynb.fs.full.get_future_predictions import get_future_preds\n",
    "#from ipynb.fs.full.get_scoring_measures import get_scoring_measures\n",
    "\n",
    "from sklearn.ensemble import RandomForestRegressor"
   ]
  },
  {
   "cell_type": "code",
   "execution_count": 2,
   "metadata": {},
   "outputs": [],
   "source": [
    "from sklearn.metrics import mean_squared_error\n",
    "from sklearn.metrics import r2_score\n",
    "from scipy import stats\n",
    "from math import sqrt"
   ]
  },
  {
   "cell_type": "code",
   "execution_count": 3,
   "metadata": {},
   "outputs": [],
   "source": [
    "marag_df = pd.read_csv('./../../../Databases/clean_data/marag_lags_data.csv')\n",
    "marag_df['Timestamp'] = pd.to_datetime(marag_df['Timestamp'], dayfirst=True)\n",
    "marag_df.set_index('Timestamp', inplace=True)\n",
    "marag_df.sort_index(inplace=True)\n",
    "\n",
    "marag_daily = pd.read_csv('./../../../Databases/clean_data/marag_dailylags_data.csv')\n",
    "marag_daily.set_index('Timestamp', inplace=True)\n",
    "marag_daily.sort_index(inplace=True)\n",
    "\n",
    "# For the time being we will not use the outliers column, so we will drop it\n",
    "marag_df.drop(['outliers'], axis=1, inplace=True)"
   ]
  },
  {
   "cell_type": "code",
   "execution_count": 4,
   "metadata": {},
   "outputs": [],
   "source": [
    "# Let's import the marag data with no lags for future comparative purposes\n",
    "no_lags_marag = pd.read_csv('./../../../Databases/clean_data/marag_data.csv')\n",
    "no_lags_marag.set_index('Timestamp', inplace=True)\n",
    "no_lags_marag.sort_index(inplace=True)\n",
    "no_lags_marag.drop(['outliers'], axis=1, inplace=True)\n",
    "\n",
    "daily_nolags_marag = pd.read_csv('./../../../Databases/clean_data/marag_daily_data.csv')\n",
    "daily_nolags_marag.set_index('Timestamp', inplace=True)\n",
    "daily_nolags_marag.sort_index(inplace=True)"
   ]
  },
  {
   "cell_type": "code",
   "execution_count": 5,
   "metadata": {},
   "outputs": [],
   "source": [
    "# Let's create a dataframe in which we'll append all the estimated predictions, and another\n",
    "# containing the running times of each scenario.\n",
    "\n",
    "rf_results_df = pd.DataFrame\n",
    "rf_runtime_df = pd.DataFrame\n",
    "\n",
    "rf_dailyresults_df = pd.DataFrame\n",
    "rf_runtime_dailydf = pd.DataFrame"
   ]
  },
  {
   "cell_type": "markdown",
   "metadata": {},
   "source": [
    "## Model tuning"
   ]
  },
  {
   "cell_type": "code",
   "execution_count": 6,
   "metadata": {},
   "outputs": [],
   "source": [
    "X_train, X_dev, X_test, y_train, y_dev, y_test = train_dev_test_split(marag_df.drop(['TotalEntries'], axis=1), \n",
    "                                                                      marag_df['TotalEntries'])\n",
    "rftune_X_train = pd.concat([X_train, X_dev])\n",
    "rftune_X_train.sort_index(inplace=True)\n",
    "rftune_y_train = pd.concat([y_train, y_dev])\n",
    "rftune_y_train.sort_index(inplace=True)"
   ]
  },
  {
   "cell_type": "code",
   "execution_count": 7,
   "metadata": {},
   "outputs": [],
   "source": [
    "# RF baseline"
   ]
  },
  {
   "cell_type": "code",
   "execution_count": 8,
   "metadata": {},
   "outputs": [
    {
     "name": "stderr",
     "output_type": "stream",
     "text": [
      "/home/quark/anaconda3/envs/mpro/lib/python3.6/site-packages/sklearn/ensemble/forest.py:246: FutureWarning: The default value of n_estimators will change from 10 in version 0.20 to 100 in 0.22.\n",
      "  \"10 in version 0.20 to 100 in 0.22.\", FutureWarning)\n"
     ]
    }
   ],
   "source": [
    "rf = RandomForestRegressor(random_state = 42)\n",
    "rf.fit(X_train, y_train)\n",
    "RF_baseline_y_hat = rf.predict(X_dev)"
   ]
  },
  {
   "cell_type": "code",
   "execution_count": 9,
   "metadata": {},
   "outputs": [
    {
     "data": {
      "text/html": [
       "<div>\n",
       "<style scoped>\n",
       "    .dataframe tbody tr th:only-of-type {\n",
       "        vertical-align: middle;\n",
       "    }\n",
       "\n",
       "    .dataframe tbody tr th {\n",
       "        vertical-align: top;\n",
       "    }\n",
       "\n",
       "    .dataframe thead th {\n",
       "        text-align: right;\n",
       "    }\n",
       "</style>\n",
       "<table border=\"1\" class=\"dataframe\">\n",
       "  <thead>\n",
       "    <tr style=\"text-align: right;\">\n",
       "      <th></th>\n",
       "      <th>RMSE</th>\n",
       "    </tr>\n",
       "  </thead>\n",
       "  <tbody>\n",
       "    <tr>\n",
       "      <th>0</th>\n",
       "      <td>33.85374</td>\n",
       "    </tr>\n",
       "  </tbody>\n",
       "</table>\n",
       "</div>"
      ],
      "text/plain": [
       "       RMSE\n",
       "0  33.85374"
      ]
     },
     "execution_count": 9,
     "metadata": {},
     "output_type": "execute_result"
    }
   ],
   "source": [
    "baseline_RMSE = pd.DataFrame(pd.Series(np.sqrt(mean_squared_error(y_dev, RF_baseline_y_hat)), name = 'RMSE'))\n",
    "baseline_RMSE"
   ]
  },
  {
   "cell_type": "code",
   "execution_count": 13,
   "metadata": {},
   "outputs": [
    {
     "name": "stderr",
     "output_type": "stream",
     "text": [
      "\n",
      "\n",
      "  0%|          | 0/4 [00:00<?, ?it/s]\u001b[A\u001b[A\n",
      "\n",
      "\n",
      "  0%|          | 0/4 [00:00<?, ?it/s]\u001b[A\u001b[A\u001b[A\n",
      "\n",
      "\n",
      " 25%|██▌       | 1/4 [01:25<04:17, 85.93s/it]\u001b[A\u001b[A\u001b[A\n",
      "\n",
      "\n",
      " 50%|█████     | 2/4 [03:34<03:17, 98.70s/it]\u001b[A\u001b[A\u001b[A\n",
      "\n",
      "\n",
      " 75%|███████▌  | 3/4 [05:45<01:48, 108.45s/it]\u001b[A\u001b[A\u001b[A\n",
      "\n",
      "\n",
      "100%|██████████| 4/4 [07:58<00:00, 115.83s/it]\u001b[A\u001b[A\u001b[A\n",
      "\n",
      " 25%|██▌       | 1/4 [07:58<23:56, 478.67s/it]\u001b[A\u001b[A\n",
      "\n",
      "\n",
      "  0%|          | 0/4 [00:00<?, ?it/s]\u001b[A\u001b[A\u001b[A\n",
      "\n",
      "\n",
      " 25%|██▌       | 1/4 [02:45<08:16, 165.62s/it]\u001b[A\u001b[A\u001b[A\n",
      "\n",
      "\n",
      " 50%|█████     | 2/4 [07:01<06:25, 192.77s/it]\u001b[A\u001b[A\u001b[A\n",
      "\n",
      "\n",
      " 75%|███████▌  | 3/4 [11:17<03:31, 211.67s/it]\u001b[A\u001b[A\u001b[A\n",
      "\n",
      "\n",
      "100%|██████████| 4/4 [15:35<00:00, 225.67s/it]\u001b[A\u001b[A\u001b[A\n",
      "\n",
      " 50%|█████     | 2/4 [23:34<20:31, 615.83s/it]\u001b[A\u001b[A\n",
      "\n",
      "\n",
      "  0%|          | 0/4 [00:00<?, ?it/s]\u001b[A\u001b[A\u001b[A\n",
      "\n",
      "\n",
      " 25%|██▌       | 1/4 [05:20<16:00, 320.09s/it]\u001b[A\u001b[A\u001b[A\n",
      "\n",
      "\n",
      " 50%|█████     | 2/4 [13:52<12:35, 377.70s/it]\u001b[A\u001b[A\u001b[A\n",
      "\n",
      "\n",
      " 75%|███████▌  | 3/4 [22:35<07:01, 421.41s/it]\u001b[A\u001b[A\u001b[A\n",
      "\n",
      "\n",
      "100%|██████████| 4/4 [31:05<00:00, 447.97s/it]\u001b[A\u001b[A\u001b[A\n",
      "\n",
      " 75%|███████▌  | 3/4 [54:40<16:30, 990.75s/it]\u001b[A\u001b[A\n",
      "\n",
      "\n",
      "  0%|          | 0/4 [00:00<?, ?it/s]\u001b[A\u001b[A\u001b[A\n",
      "\n",
      "\n",
      " 25%|██▌       | 1/4 [07:57<23:52, 477.61s/it]\u001b[A\u001b[A\u001b[A\n",
      "\n",
      "\n",
      " 50%|█████     | 2/4 [20:56<18:55, 567.97s/it]\u001b[A\u001b[A\u001b[A\n",
      "\n",
      "\n",
      " 75%|███████▌  | 3/4 [33:46<10:28, 628.50s/it]\u001b[A\u001b[A\u001b[A\n",
      "\n",
      "\n",
      "100%|██████████| 4/4 [46:30<00:00, 669.40s/it]\u001b[A\u001b[A\u001b[A\n",
      "\n",
      "100%|██████████| 4/4 [1:41:11<00:00, 1530.82s/it]\u001b[A\u001b[A"
     ]
    }
   ],
   "source": [
    "n_estimators = [100, 200, 400, 600]\n",
    "max_depth = [10, 30, 60, 100]\n",
    "best_RMSE = []\n",
    "\n",
    "start_rf_tune = time.time()\n",
    "\n",
    "for ne in tqdm(n_estimators):\n",
    "    for md in tqdm(max_depth):\n",
    "        rf = RandomForestRegressor(n_estimators = ne, max_depth = md, n_jobs = -1, random_state = 42)\n",
    "        rf.fit(X_train, y_train)\n",
    "        y_dev_hat = rf.predict(X_dev)\n",
    "        RMSE_rfparams = sqrt(mean_squared_error(y_dev, y_dev_hat))\n",
    "        \n",
    "        if pd.DataFrame(best_RMSE).empty:\n",
    "            best_RMSE = [ne, md, RMSE_rfparams]\n",
    "        else:\n",
    "            if RMSE_rfparams < best_RMSE[2]:\n",
    "                best_RMSE = [ne, md, RMSE_rfparams]\n",
    "        \n",
    "end_rf_tune = time.time()\n",
    "rf_tune_runtime = end_rf_tune - start_rf_tune"
   ]
  },
  {
   "cell_type": "code",
   "execution_count": 14,
   "metadata": {},
   "outputs": [
    {
     "name": "stdout",
     "output_type": "stream",
     "text": [
      "[400, 30, 32.32575519464866] 6071.081792593002\n"
     ]
    }
   ],
   "source": [
    "print(best_RMSE, rf_tune_runtime)"
   ]
  },
  {
   "cell_type": "code",
   "execution_count": null,
   "metadata": {},
   "outputs": [],
   "source": []
  },
  {
   "cell_type": "code",
   "execution_count": null,
   "metadata": {},
   "outputs": [],
   "source": []
  },
  {
   "cell_type": "code",
   "execution_count": null,
   "metadata": {},
   "outputs": [],
   "source": []
  },
  {
   "cell_type": "code",
   "execution_count": null,
   "metadata": {},
   "outputs": [],
   "source": []
  },
  {
   "cell_type": "code",
   "execution_count": null,
   "metadata": {},
   "outputs": [],
   "source": []
  },
  {
   "cell_type": "code",
   "execution_count": 63,
   "metadata": {},
   "outputs": [],
   "source": [
    "# CAREFUL!!! Review below code\n",
    "\n",
    "\n",
    "n_estimators = [int(x) for x in np.linspace(start = 200, stop = 2000, num = 10)]\n",
    "# Number of features to consider at every split\n",
    "max_features = ['auto', 'sqrt']\n",
    "# Maximum number of levels in tree\n",
    "max_depth = [int(x) for x in np.linspace(10, 110, num = 11)]\n",
    "max_depth.append(None)\n",
    "# Minimum number of samples required to split a node\n",
    "min_samples_split = [2, 5, 10]\n",
    "# Minimum number of samples required at each leaf node\n",
    "min_samples_leaf = [1, 2, 4]\n",
    "# Method of selecting samples for training each tree\n",
    "bootstrap = [True, False]\n",
    "# Create the random grid\n",
    "hyperparameters_grid = {'n_estimators': n_estimators,\n",
    "               'max_features': max_features,\n",
    "               'max_depth': max_depth,\n",
    "               'min_samples_split': min_samples_split,\n",
    "               'min_samples_leaf': min_samples_leaf,\n",
    "               'bootstrap': bootstrap}\n",
    "\n",
    "#cv = (np.array(X_train.index), np.array(X_dev.index))"
   ]
  },
  {
   "cell_type": "markdown",
   "metadata": {},
   "source": [
    "For the hyperparameter tunning, it will be used GridSearchCV as a way to test a predefined grid of parameters, and the TimeSeriesSplit function as a generator for the cv parameter."
   ]
  },
  {
   "cell_type": "code",
   "execution_count": 66,
   "metadata": {},
   "outputs": [
    {
     "name": "stdout",
     "output_type": "stream",
     "text": [
      "Fitting 2 folds for each of 4320 candidates, totalling 8640 fits\n"
     ]
    },
    {
     "name": "stderr",
     "output_type": "stream",
     "text": [
      "[Parallel(n_jobs=-1)]: Using backend LokyBackend with 4 concurrent workers.\n",
      "[Parallel(n_jobs=-1)]: Done  24 tasks      | elapsed: 203.8min\n",
      "[Parallel(n_jobs=-1)]: Done 120 tasks      | elapsed: 1151.5min\n"
     ]
    },
    {
     "ename": "KeyboardInterrupt",
     "evalue": "",
     "output_type": "error",
     "traceback": [
      "\u001b[0;31m---------------------------------------------------------------------------\u001b[0m",
      "\u001b[0;31mKeyboardInterrupt\u001b[0m                         Traceback (most recent call last)",
      "\u001b[0;32m<ipython-input-66-fd64e39320db>\u001b[0m in \u001b[0;36m<module>\u001b[0;34m\u001b[0m\n\u001b[1;32m      2\u001b[0m \u001b[0mcv\u001b[0m \u001b[0;34m=\u001b[0m \u001b[0mTimeSeriesSplit\u001b[0m\u001b[0;34m(\u001b[0m\u001b[0mn_splits\u001b[0m\u001b[0;34m=\u001b[0m\u001b[0;36m2\u001b[0m\u001b[0;34m)\u001b[0m\u001b[0;34m.\u001b[0m\u001b[0msplit\u001b[0m\u001b[0;34m(\u001b[0m\u001b[0mrftune_X_train\u001b[0m\u001b[0;34m)\u001b[0m\u001b[0;34m\u001b[0m\u001b[0;34m\u001b[0m\u001b[0m\n\u001b[1;32m      3\u001b[0m \u001b[0mrfr_tunned\u001b[0m \u001b[0;34m=\u001b[0m \u001b[0mGridSearchCV\u001b[0m\u001b[0;34m(\u001b[0m\u001b[0mestimator\u001b[0m\u001b[0;34m=\u001b[0m\u001b[0mrf\u001b[0m\u001b[0;34m,\u001b[0m \u001b[0mparam_grid\u001b[0m\u001b[0;34m=\u001b[0m\u001b[0mhyperparameters_grid\u001b[0m\u001b[0;34m,\u001b[0m \u001b[0mcv\u001b[0m\u001b[0;34m=\u001b[0m\u001b[0mcv\u001b[0m\u001b[0;34m,\u001b[0m \u001b[0mverbose\u001b[0m\u001b[0;34m=\u001b[0m\u001b[0;36m3\u001b[0m\u001b[0;34m,\u001b[0m \u001b[0mn_jobs\u001b[0m\u001b[0;34m=\u001b[0m\u001b[0;34m-\u001b[0m\u001b[0;36m1\u001b[0m\u001b[0;34m,\u001b[0m \u001b[0mpre_dispatch\u001b[0m\u001b[0;34m=\u001b[0m\u001b[0;34m'2*n_jobs'\u001b[0m\u001b[0;34m)\u001b[0m\u001b[0;34m\u001b[0m\u001b[0;34m\u001b[0m\u001b[0m\n\u001b[0;32m----> 4\u001b[0;31m \u001b[0mrfr_tunned\u001b[0m\u001b[0;34m.\u001b[0m\u001b[0mfit\u001b[0m\u001b[0;34m(\u001b[0m\u001b[0mrftune_X_train\u001b[0m\u001b[0;34m,\u001b[0m \u001b[0mrftune_y_train\u001b[0m\u001b[0;34m)\u001b[0m\u001b[0;34m\u001b[0m\u001b[0;34m\u001b[0m\u001b[0m\n\u001b[0m\u001b[1;32m      5\u001b[0m \u001b[0;34m\u001b[0m\u001b[0m\n\u001b[1;32m      6\u001b[0m \u001b[0mend_rf_tune\u001b[0m \u001b[0;34m=\u001b[0m \u001b[0mtime\u001b[0m\u001b[0;34m.\u001b[0m\u001b[0mtime\u001b[0m\u001b[0;34m(\u001b[0m\u001b[0;34m)\u001b[0m\u001b[0;34m\u001b[0m\u001b[0;34m\u001b[0m\u001b[0m\n",
      "\u001b[0;32m~/anaconda3/envs/mpro/lib/python3.6/site-packages/sklearn/model_selection/_search.py\u001b[0m in \u001b[0;36mfit\u001b[0;34m(self, X, y, groups, **fit_params)\u001b[0m\n\u001b[1;32m    720\u001b[0m                 \u001b[0;32mreturn\u001b[0m \u001b[0mresults_container\u001b[0m\u001b[0;34m[\u001b[0m\u001b[0;36m0\u001b[0m\u001b[0;34m]\u001b[0m\u001b[0;34m\u001b[0m\u001b[0;34m\u001b[0m\u001b[0m\n\u001b[1;32m    721\u001b[0m \u001b[0;34m\u001b[0m\u001b[0m\n\u001b[0;32m--> 722\u001b[0;31m             \u001b[0mself\u001b[0m\u001b[0;34m.\u001b[0m\u001b[0m_run_search\u001b[0m\u001b[0;34m(\u001b[0m\u001b[0mevaluate_candidates\u001b[0m\u001b[0;34m)\u001b[0m\u001b[0;34m\u001b[0m\u001b[0;34m\u001b[0m\u001b[0m\n\u001b[0m\u001b[1;32m    723\u001b[0m \u001b[0;34m\u001b[0m\u001b[0m\n\u001b[1;32m    724\u001b[0m         \u001b[0mresults\u001b[0m \u001b[0;34m=\u001b[0m \u001b[0mresults_container\u001b[0m\u001b[0;34m[\u001b[0m\u001b[0;36m0\u001b[0m\u001b[0;34m]\u001b[0m\u001b[0;34m\u001b[0m\u001b[0;34m\u001b[0m\u001b[0m\n",
      "\u001b[0;32m~/anaconda3/envs/mpro/lib/python3.6/site-packages/sklearn/model_selection/_search.py\u001b[0m in \u001b[0;36m_run_search\u001b[0;34m(self, evaluate_candidates)\u001b[0m\n\u001b[1;32m   1189\u001b[0m     \u001b[0;32mdef\u001b[0m \u001b[0m_run_search\u001b[0m\u001b[0;34m(\u001b[0m\u001b[0mself\u001b[0m\u001b[0;34m,\u001b[0m \u001b[0mevaluate_candidates\u001b[0m\u001b[0;34m)\u001b[0m\u001b[0;34m:\u001b[0m\u001b[0;34m\u001b[0m\u001b[0;34m\u001b[0m\u001b[0m\n\u001b[1;32m   1190\u001b[0m         \u001b[0;34m\"\"\"Search all candidates in param_grid\"\"\"\u001b[0m\u001b[0;34m\u001b[0m\u001b[0;34m\u001b[0m\u001b[0m\n\u001b[0;32m-> 1191\u001b[0;31m         \u001b[0mevaluate_candidates\u001b[0m\u001b[0;34m(\u001b[0m\u001b[0mParameterGrid\u001b[0m\u001b[0;34m(\u001b[0m\u001b[0mself\u001b[0m\u001b[0;34m.\u001b[0m\u001b[0mparam_grid\u001b[0m\u001b[0;34m)\u001b[0m\u001b[0;34m)\u001b[0m\u001b[0;34m\u001b[0m\u001b[0;34m\u001b[0m\u001b[0m\n\u001b[0m\u001b[1;32m   1192\u001b[0m \u001b[0;34m\u001b[0m\u001b[0m\n\u001b[1;32m   1193\u001b[0m \u001b[0;34m\u001b[0m\u001b[0m\n",
      "\u001b[0;32m~/anaconda3/envs/mpro/lib/python3.6/site-packages/sklearn/model_selection/_search.py\u001b[0m in \u001b[0;36mevaluate_candidates\u001b[0;34m(candidate_params)\u001b[0m\n\u001b[1;32m    709\u001b[0m                                \u001b[0;32mfor\u001b[0m \u001b[0mparameters\u001b[0m\u001b[0;34m,\u001b[0m \u001b[0;34m(\u001b[0m\u001b[0mtrain\u001b[0m\u001b[0;34m,\u001b[0m \u001b[0mtest\u001b[0m\u001b[0;34m)\u001b[0m\u001b[0;34m\u001b[0m\u001b[0;34m\u001b[0m\u001b[0m\n\u001b[1;32m    710\u001b[0m                                in product(candidate_params,\n\u001b[0;32m--> 711\u001b[0;31m                                           cv.split(X, y, groups)))\n\u001b[0m\u001b[1;32m    712\u001b[0m \u001b[0;34m\u001b[0m\u001b[0m\n\u001b[1;32m    713\u001b[0m                 \u001b[0mall_candidate_params\u001b[0m\u001b[0;34m.\u001b[0m\u001b[0mextend\u001b[0m\u001b[0;34m(\u001b[0m\u001b[0mcandidate_params\u001b[0m\u001b[0;34m)\u001b[0m\u001b[0;34m\u001b[0m\u001b[0;34m\u001b[0m\u001b[0m\n",
      "\u001b[0;32m~/anaconda3/envs/mpro/lib/python3.6/site-packages/sklearn/externals/joblib/parallel.py\u001b[0m in \u001b[0;36m__call__\u001b[0;34m(self, iterable)\u001b[0m\n\u001b[1;32m    928\u001b[0m \u001b[0;34m\u001b[0m\u001b[0m\n\u001b[1;32m    929\u001b[0m             \u001b[0;32mwith\u001b[0m \u001b[0mself\u001b[0m\u001b[0;34m.\u001b[0m\u001b[0m_backend\u001b[0m\u001b[0;34m.\u001b[0m\u001b[0mretrieval_context\u001b[0m\u001b[0;34m(\u001b[0m\u001b[0;34m)\u001b[0m\u001b[0;34m:\u001b[0m\u001b[0;34m\u001b[0m\u001b[0;34m\u001b[0m\u001b[0m\n\u001b[0;32m--> 930\u001b[0;31m                 \u001b[0mself\u001b[0m\u001b[0;34m.\u001b[0m\u001b[0mretrieve\u001b[0m\u001b[0;34m(\u001b[0m\u001b[0;34m)\u001b[0m\u001b[0;34m\u001b[0m\u001b[0;34m\u001b[0m\u001b[0m\n\u001b[0m\u001b[1;32m    931\u001b[0m             \u001b[0;31m# Make sure that we get a last message telling us we are done\u001b[0m\u001b[0;34m\u001b[0m\u001b[0;34m\u001b[0m\u001b[0;34m\u001b[0m\u001b[0m\n\u001b[1;32m    932\u001b[0m             \u001b[0melapsed_time\u001b[0m \u001b[0;34m=\u001b[0m \u001b[0mtime\u001b[0m\u001b[0;34m.\u001b[0m\u001b[0mtime\u001b[0m\u001b[0;34m(\u001b[0m\u001b[0;34m)\u001b[0m \u001b[0;34m-\u001b[0m \u001b[0mself\u001b[0m\u001b[0;34m.\u001b[0m\u001b[0m_start_time\u001b[0m\u001b[0;34m\u001b[0m\u001b[0;34m\u001b[0m\u001b[0m\n",
      "\u001b[0;32m~/anaconda3/envs/mpro/lib/python3.6/site-packages/sklearn/externals/joblib/parallel.py\u001b[0m in \u001b[0;36mretrieve\u001b[0;34m(self)\u001b[0m\n\u001b[1;32m    831\u001b[0m             \u001b[0;32mtry\u001b[0m\u001b[0;34m:\u001b[0m\u001b[0;34m\u001b[0m\u001b[0;34m\u001b[0m\u001b[0m\n\u001b[1;32m    832\u001b[0m                 \u001b[0;32mif\u001b[0m \u001b[0mgetattr\u001b[0m\u001b[0;34m(\u001b[0m\u001b[0mself\u001b[0m\u001b[0;34m.\u001b[0m\u001b[0m_backend\u001b[0m\u001b[0;34m,\u001b[0m \u001b[0;34m'supports_timeout'\u001b[0m\u001b[0;34m,\u001b[0m \u001b[0;32mFalse\u001b[0m\u001b[0;34m)\u001b[0m\u001b[0;34m:\u001b[0m\u001b[0;34m\u001b[0m\u001b[0;34m\u001b[0m\u001b[0m\n\u001b[0;32m--> 833\u001b[0;31m                     \u001b[0mself\u001b[0m\u001b[0;34m.\u001b[0m\u001b[0m_output\u001b[0m\u001b[0;34m.\u001b[0m\u001b[0mextend\u001b[0m\u001b[0;34m(\u001b[0m\u001b[0mjob\u001b[0m\u001b[0;34m.\u001b[0m\u001b[0mget\u001b[0m\u001b[0;34m(\u001b[0m\u001b[0mtimeout\u001b[0m\u001b[0;34m=\u001b[0m\u001b[0mself\u001b[0m\u001b[0;34m.\u001b[0m\u001b[0mtimeout\u001b[0m\u001b[0;34m)\u001b[0m\u001b[0;34m)\u001b[0m\u001b[0;34m\u001b[0m\u001b[0;34m\u001b[0m\u001b[0m\n\u001b[0m\u001b[1;32m    834\u001b[0m                 \u001b[0;32melse\u001b[0m\u001b[0;34m:\u001b[0m\u001b[0;34m\u001b[0m\u001b[0;34m\u001b[0m\u001b[0m\n\u001b[1;32m    835\u001b[0m                     \u001b[0mself\u001b[0m\u001b[0;34m.\u001b[0m\u001b[0m_output\u001b[0m\u001b[0;34m.\u001b[0m\u001b[0mextend\u001b[0m\u001b[0;34m(\u001b[0m\u001b[0mjob\u001b[0m\u001b[0;34m.\u001b[0m\u001b[0mget\u001b[0m\u001b[0;34m(\u001b[0m\u001b[0;34m)\u001b[0m\u001b[0;34m)\u001b[0m\u001b[0;34m\u001b[0m\u001b[0;34m\u001b[0m\u001b[0m\n",
      "\u001b[0;32m~/anaconda3/envs/mpro/lib/python3.6/site-packages/sklearn/externals/joblib/_parallel_backends.py\u001b[0m in \u001b[0;36mwrap_future_result\u001b[0;34m(future, timeout)\u001b[0m\n\u001b[1;32m    519\u001b[0m         AsyncResults.get from multiprocessing.\"\"\"\n\u001b[1;32m    520\u001b[0m         \u001b[0;32mtry\u001b[0m\u001b[0;34m:\u001b[0m\u001b[0;34m\u001b[0m\u001b[0;34m\u001b[0m\u001b[0m\n\u001b[0;32m--> 521\u001b[0;31m             \u001b[0;32mreturn\u001b[0m \u001b[0mfuture\u001b[0m\u001b[0;34m.\u001b[0m\u001b[0mresult\u001b[0m\u001b[0;34m(\u001b[0m\u001b[0mtimeout\u001b[0m\u001b[0;34m=\u001b[0m\u001b[0mtimeout\u001b[0m\u001b[0;34m)\u001b[0m\u001b[0;34m\u001b[0m\u001b[0;34m\u001b[0m\u001b[0m\n\u001b[0m\u001b[1;32m    522\u001b[0m         \u001b[0;32mexcept\u001b[0m \u001b[0mLokyTimeoutError\u001b[0m\u001b[0;34m:\u001b[0m\u001b[0;34m\u001b[0m\u001b[0;34m\u001b[0m\u001b[0m\n\u001b[1;32m    523\u001b[0m             \u001b[0;32mraise\u001b[0m \u001b[0mTimeoutError\u001b[0m\u001b[0;34m(\u001b[0m\u001b[0;34m)\u001b[0m\u001b[0;34m\u001b[0m\u001b[0;34m\u001b[0m\u001b[0m\n",
      "\u001b[0;32m~/anaconda3/envs/mpro/lib/python3.6/concurrent/futures/_base.py\u001b[0m in \u001b[0;36mresult\u001b[0;34m(self, timeout)\u001b[0m\n\u001b[1;32m    425\u001b[0m                 \u001b[0;32mreturn\u001b[0m \u001b[0mself\u001b[0m\u001b[0;34m.\u001b[0m\u001b[0m__get_result\u001b[0m\u001b[0;34m(\u001b[0m\u001b[0;34m)\u001b[0m\u001b[0;34m\u001b[0m\u001b[0;34m\u001b[0m\u001b[0m\n\u001b[1;32m    426\u001b[0m \u001b[0;34m\u001b[0m\u001b[0m\n\u001b[0;32m--> 427\u001b[0;31m             \u001b[0mself\u001b[0m\u001b[0;34m.\u001b[0m\u001b[0m_condition\u001b[0m\u001b[0;34m.\u001b[0m\u001b[0mwait\u001b[0m\u001b[0;34m(\u001b[0m\u001b[0mtimeout\u001b[0m\u001b[0;34m)\u001b[0m\u001b[0;34m\u001b[0m\u001b[0;34m\u001b[0m\u001b[0m\n\u001b[0m\u001b[1;32m    428\u001b[0m \u001b[0;34m\u001b[0m\u001b[0m\n\u001b[1;32m    429\u001b[0m             \u001b[0;32mif\u001b[0m \u001b[0mself\u001b[0m\u001b[0;34m.\u001b[0m\u001b[0m_state\u001b[0m \u001b[0;32min\u001b[0m \u001b[0;34m[\u001b[0m\u001b[0mCANCELLED\u001b[0m\u001b[0;34m,\u001b[0m \u001b[0mCANCELLED_AND_NOTIFIED\u001b[0m\u001b[0;34m]\u001b[0m\u001b[0;34m:\u001b[0m\u001b[0;34m\u001b[0m\u001b[0;34m\u001b[0m\u001b[0m\n",
      "\u001b[0;32m~/anaconda3/envs/mpro/lib/python3.6/threading.py\u001b[0m in \u001b[0;36mwait\u001b[0;34m(self, timeout)\u001b[0m\n\u001b[1;32m    293\u001b[0m         \u001b[0;32mtry\u001b[0m\u001b[0;34m:\u001b[0m    \u001b[0;31m# restore state no matter what (e.g., KeyboardInterrupt)\u001b[0m\u001b[0;34m\u001b[0m\u001b[0;34m\u001b[0m\u001b[0m\n\u001b[1;32m    294\u001b[0m             \u001b[0;32mif\u001b[0m \u001b[0mtimeout\u001b[0m \u001b[0;32mis\u001b[0m \u001b[0;32mNone\u001b[0m\u001b[0;34m:\u001b[0m\u001b[0;34m\u001b[0m\u001b[0;34m\u001b[0m\u001b[0m\n\u001b[0;32m--> 295\u001b[0;31m                 \u001b[0mwaiter\u001b[0m\u001b[0;34m.\u001b[0m\u001b[0macquire\u001b[0m\u001b[0;34m(\u001b[0m\u001b[0;34m)\u001b[0m\u001b[0;34m\u001b[0m\u001b[0;34m\u001b[0m\u001b[0m\n\u001b[0m\u001b[1;32m    296\u001b[0m                 \u001b[0mgotit\u001b[0m \u001b[0;34m=\u001b[0m \u001b[0;32mTrue\u001b[0m\u001b[0;34m\u001b[0m\u001b[0;34m\u001b[0m\u001b[0m\n\u001b[1;32m    297\u001b[0m             \u001b[0;32melse\u001b[0m\u001b[0;34m:\u001b[0m\u001b[0;34m\u001b[0m\u001b[0;34m\u001b[0m\u001b[0m\n",
      "\u001b[0;31mKeyboardInterrupt\u001b[0m: "
     ]
    }
   ],
   "source": [
    "start_rf_tune = time.time()\n",
    "cv = TimeSeriesSplit(n_splits=2).split(rftune_X_train)\n",
    "rfr_tunned = GridSearchCV(estimator=rf, param_grid=hyperparameters_grid, cv=cv, verbose=3, n_jobs=-1, pre_dispatch='2*n_jobs')\n",
    "rfr_tunned.fit(rftune_X_train, rftune_y_train)\n",
    "\n",
    "end_rf_tune = time.time()\n",
    "rf_tune_runtime = end_rf_tune - start_rf_tune"
   ]
  },
  {
   "cell_type": "code",
   "execution_count": null,
   "metadata": {},
   "outputs": [],
   "source": [
    "rfr_tunned.best_params_"
   ]
  },
  {
   "cell_type": "code",
   "execution_count": null,
   "metadata": {},
   "outputs": [],
   "source": []
  },
  {
   "cell_type": "code",
   "execution_count": null,
   "metadata": {},
   "outputs": [],
   "source": []
  },
  {
   "cell_type": "code",
   "execution_count": null,
   "metadata": {},
   "outputs": [],
   "source": []
  },
  {
   "cell_type": "code",
   "execution_count": null,
   "metadata": {},
   "outputs": [],
   "source": []
  },
  {
   "cell_type": "code",
   "execution_count": null,
   "metadata": {},
   "outputs": [],
   "source": []
  },
  {
   "cell_type": "code",
   "execution_count": null,
   "metadata": {},
   "outputs": [],
   "source": []
  },
  {
   "cell_type": "code",
   "execution_count": null,
   "metadata": {},
   "outputs": [],
   "source": []
  },
  {
   "cell_type": "code",
   "execution_count": null,
   "metadata": {},
   "outputs": [],
   "source": []
  },
  {
   "cell_type": "code",
   "execution_count": null,
   "metadata": {},
   "outputs": [],
   "source": []
  },
  {
   "cell_type": "code",
   "execution_count": null,
   "metadata": {},
   "outputs": [],
   "source": []
  },
  {
   "cell_type": "code",
   "execution_count": null,
   "metadata": {},
   "outputs": [],
   "source": []
  },
  {
   "cell_type": "code",
   "execution_count": null,
   "metadata": {},
   "outputs": [],
   "source": []
  },
  {
   "cell_type": "code",
   "execution_count": null,
   "metadata": {},
   "outputs": [],
   "source": []
  },
  {
   "cell_type": "code",
   "execution_count": null,
   "metadata": {},
   "outputs": [],
   "source": []
  },
  {
   "cell_type": "code",
   "execution_count": null,
   "metadata": {},
   "outputs": [],
   "source": []
  },
  {
   "cell_type": "code",
   "execution_count": null,
   "metadata": {},
   "outputs": [],
   "source": []
  },
  {
   "cell_type": "code",
   "execution_count": null,
   "metadata": {},
   "outputs": [],
   "source": []
  },
  {
   "cell_type": "code",
   "execution_count": null,
   "metadata": {},
   "outputs": [],
   "source": []
  },
  {
   "cell_type": "code",
   "execution_count": 15,
   "metadata": {},
   "outputs": [
    {
     "name": "stdout",
     "output_type": "stream",
     "text": [
      "Parameters currently in use:\n",
      "\n",
      "{'bootstrap': True,\n",
      " 'criterion': 'mse',\n",
      " 'max_depth': None,\n",
      " 'max_features': 'auto',\n",
      " 'max_leaf_nodes': None,\n",
      " 'min_impurity_decrease': 0.0,\n",
      " 'min_impurity_split': None,\n",
      " 'min_samples_leaf': 1,\n",
      " 'min_samples_split': 2,\n",
      " 'min_weight_fraction_leaf': 0.0,\n",
      " 'n_estimators': 'warn',\n",
      " 'n_jobs': None,\n",
      " 'oob_score': False,\n",
      " 'random_state': 42,\n",
      " 'verbose': 0,\n",
      " 'warm_start': False}\n"
     ]
    }
   ],
   "source": [
    "# CAREFUL!! TO BE ERASED\n",
    "\n",
    "rf = RandomForestRegressor(random_state = 42)\n",
    "from pprint import pprint\n",
    "# Look at parameters used by our current forest\n",
    "print('Parameters currently in use:\\n')\n",
    "pprint(rf.get_params())"
   ]
  },
  {
   "cell_type": "code",
   "execution_count": 14,
   "metadata": {},
   "outputs": [
    {
     "ename": "NameError",
     "evalue": "name 'pprint' is not defined",
     "output_type": "error",
     "traceback": [
      "\u001b[0;31m---------------------------------------------------------------------------\u001b[0m",
      "\u001b[0;31mNameError\u001b[0m                                 Traceback (most recent call last)",
      "\u001b[0;32m<ipython-input-14-20bce9feafcf>\u001b[0m in \u001b[0;36m<module>\u001b[0;34m\u001b[0m\n\u001b[1;32m     20\u001b[0m                \u001b[0;34m'min_samples_leaf'\u001b[0m\u001b[0;34m:\u001b[0m \u001b[0mmin_samples_leaf\u001b[0m\u001b[0;34m,\u001b[0m\u001b[0;34m\u001b[0m\u001b[0;34m\u001b[0m\u001b[0m\n\u001b[1;32m     21\u001b[0m                'bootstrap': bootstrap}\n\u001b[0;32m---> 22\u001b[0;31m \u001b[0mpprint\u001b[0m\u001b[0;34m(\u001b[0m\u001b[0mrandom_grid\u001b[0m\u001b[0;34m)\u001b[0m\u001b[0;34m\u001b[0m\u001b[0;34m\u001b[0m\u001b[0m\n\u001b[0m\u001b[1;32m     23\u001b[0m {'bootstrap': [True, False],\n\u001b[1;32m     24\u001b[0m  \u001b[0;34m'max_depth'\u001b[0m\u001b[0;34m:\u001b[0m \u001b[0;34m[\u001b[0m\u001b[0;36m10\u001b[0m\u001b[0;34m,\u001b[0m \u001b[0;36m20\u001b[0m\u001b[0;34m,\u001b[0m \u001b[0;36m30\u001b[0m\u001b[0;34m,\u001b[0m \u001b[0;36m40\u001b[0m\u001b[0;34m,\u001b[0m \u001b[0;36m50\u001b[0m\u001b[0;34m,\u001b[0m \u001b[0;36m60\u001b[0m\u001b[0;34m,\u001b[0m \u001b[0;36m70\u001b[0m\u001b[0;34m,\u001b[0m \u001b[0;36m80\u001b[0m\u001b[0;34m,\u001b[0m \u001b[0;36m90\u001b[0m\u001b[0;34m,\u001b[0m \u001b[0;36m100\u001b[0m\u001b[0;34m,\u001b[0m \u001b[0;32mNone\u001b[0m\u001b[0;34m]\u001b[0m\u001b[0;34m,\u001b[0m\u001b[0;34m\u001b[0m\u001b[0;34m\u001b[0m\u001b[0m\n",
      "\u001b[0;31mNameError\u001b[0m: name 'pprint' is not defined"
     ]
    }
   ],
   "source": [
    "from sklearn.model_selection import RandomizedSearchCV\n",
    "# Number of trees in random forest\n",
    "n_estimators = [int(x) for x in np.linspace(start = 200, stop = 2000, num = 10)]\n",
    "# Number of features to consider at every split\n",
    "max_features = ['auto', 'sqrt']\n",
    "# Maximum number of levels in tree\n",
    "max_depth = [int(x) for x in np.linspace(10, 110, num = 11)]\n",
    "max_depth.append(None)\n",
    "# Minimum number of samples required to split a node\n",
    "min_samples_split = [2, 5, 10]\n",
    "# Minimum number of samples required at each leaf node\n",
    "min_samples_leaf = [1, 2, 4]\n",
    "# Method of selecting samples for training each tree\n",
    "bootstrap = [True, False]\n",
    "# Create the random grid\n",
    "random_grid = {'n_estimators': n_estimators,\n",
    "               'max_features': max_features,\n",
    "               'max_depth': max_depth,\n",
    "               'min_samples_split': min_samples_split,\n",
    "               'min_samples_leaf': min_samples_leaf,\n",
    "               'bootstrap': bootstrap}\n",
    "pprint(random_grid)\n",
    "{'bootstrap': [True, False],\n",
    " 'max_depth': [10, 20, 30, 40, 50, 60, 70, 80, 90, 100, None],\n",
    " 'max_features': ['auto', 'sqrt'],\n",
    " 'min_samples_leaf': [1, 2, 4],\n",
    " 'min_samples_split': [2, 5, 10],\n",
    " 'n_estimators': [200, 400, 600, 800, 1000, 1200, 1400, 1600, 1800, 2000]}"
   ]
  },
  {
   "cell_type": "code",
   "execution_count": 18,
   "metadata": {},
   "outputs": [
    {
     "name": "stdout",
     "output_type": "stream",
     "text": [
      "Fitting 2 folds for each of 100 candidates, totalling 200 fits\n"
     ]
    },
    {
     "name": "stderr",
     "output_type": "stream",
     "text": [
      "[Parallel(n_jobs=-1)]: Using backend LokyBackend with 12 concurrent workers.\n",
      "[Parallel(n_jobs=-1)]: Done  17 tasks      | elapsed: 11.5min\n"
     ]
    },
    {
     "ename": "KeyboardInterrupt",
     "evalue": "",
     "output_type": "error",
     "traceback": [
      "\u001b[0;31m---------------------------------------------------------------------------\u001b[0m",
      "\u001b[0;31mKeyboardInterrupt\u001b[0m                         Traceback (most recent call last)",
      "\u001b[0;32m<ipython-input-18-bd99a900e004>\u001b[0m in \u001b[0;36m<module>\u001b[0;34m\u001b[0m\n\u001b[1;32m      6\u001b[0m \u001b[0mrf_random\u001b[0m \u001b[0;34m=\u001b[0m \u001b[0mRandomizedSearchCV\u001b[0m\u001b[0;34m(\u001b[0m\u001b[0mestimator\u001b[0m \u001b[0;34m=\u001b[0m \u001b[0mrf\u001b[0m\u001b[0;34m,\u001b[0m \u001b[0mparam_distributions\u001b[0m \u001b[0;34m=\u001b[0m \u001b[0mrandom_grid\u001b[0m\u001b[0;34m,\u001b[0m \u001b[0mn_iter\u001b[0m \u001b[0;34m=\u001b[0m \u001b[0;36m100\u001b[0m\u001b[0;34m,\u001b[0m \u001b[0mcv\u001b[0m \u001b[0;34m=\u001b[0m \u001b[0;36m2\u001b[0m\u001b[0;34m,\u001b[0m \u001b[0mverbose\u001b[0m\u001b[0;34m=\u001b[0m\u001b[0;36m2\u001b[0m\u001b[0;34m,\u001b[0m \u001b[0mrandom_state\u001b[0m\u001b[0;34m=\u001b[0m\u001b[0;36m42\u001b[0m\u001b[0;34m,\u001b[0m \u001b[0mn_jobs\u001b[0m \u001b[0;34m=\u001b[0m \u001b[0;34m-\u001b[0m\u001b[0;36m1\u001b[0m\u001b[0;34m)\u001b[0m\u001b[0;34m\u001b[0m\u001b[0;34m\u001b[0m\u001b[0m\n\u001b[1;32m      7\u001b[0m \u001b[0;31m# Fit the random search model\u001b[0m\u001b[0;34m\u001b[0m\u001b[0;34m\u001b[0m\u001b[0;34m\u001b[0m\u001b[0m\n\u001b[0;32m----> 8\u001b[0;31m \u001b[0mrf_random\u001b[0m\u001b[0;34m.\u001b[0m\u001b[0mfit\u001b[0m\u001b[0;34m(\u001b[0m\u001b[0mX_train\u001b[0m\u001b[0;34m,\u001b[0m \u001b[0my_train\u001b[0m\u001b[0;34m)\u001b[0m\u001b[0;34m\u001b[0m\u001b[0;34m\u001b[0m\u001b[0m\n\u001b[0m",
      "\u001b[0;32m~/anaconda3/envs/mpro/lib/python3.6/site-packages/sklearn/model_selection/_search.py\u001b[0m in \u001b[0;36mfit\u001b[0;34m(self, X, y, groups, **fit_params)\u001b[0m\n\u001b[1;32m    720\u001b[0m                 \u001b[0;32mreturn\u001b[0m \u001b[0mresults_container\u001b[0m\u001b[0;34m[\u001b[0m\u001b[0;36m0\u001b[0m\u001b[0;34m]\u001b[0m\u001b[0;34m\u001b[0m\u001b[0;34m\u001b[0m\u001b[0m\n\u001b[1;32m    721\u001b[0m \u001b[0;34m\u001b[0m\u001b[0m\n\u001b[0;32m--> 722\u001b[0;31m             \u001b[0mself\u001b[0m\u001b[0;34m.\u001b[0m\u001b[0m_run_search\u001b[0m\u001b[0;34m(\u001b[0m\u001b[0mevaluate_candidates\u001b[0m\u001b[0;34m)\u001b[0m\u001b[0;34m\u001b[0m\u001b[0;34m\u001b[0m\u001b[0m\n\u001b[0m\u001b[1;32m    723\u001b[0m \u001b[0;34m\u001b[0m\u001b[0m\n\u001b[1;32m    724\u001b[0m         \u001b[0mresults\u001b[0m \u001b[0;34m=\u001b[0m \u001b[0mresults_container\u001b[0m\u001b[0;34m[\u001b[0m\u001b[0;36m0\u001b[0m\u001b[0;34m]\u001b[0m\u001b[0;34m\u001b[0m\u001b[0;34m\u001b[0m\u001b[0m\n",
      "\u001b[0;32m~/anaconda3/envs/mpro/lib/python3.6/site-packages/sklearn/model_selection/_search.py\u001b[0m in \u001b[0;36m_run_search\u001b[0;34m(self, evaluate_candidates)\u001b[0m\n\u001b[1;32m   1513\u001b[0m         evaluate_candidates(ParameterSampler(\n\u001b[1;32m   1514\u001b[0m             \u001b[0mself\u001b[0m\u001b[0;34m.\u001b[0m\u001b[0mparam_distributions\u001b[0m\u001b[0;34m,\u001b[0m \u001b[0mself\u001b[0m\u001b[0;34m.\u001b[0m\u001b[0mn_iter\u001b[0m\u001b[0;34m,\u001b[0m\u001b[0;34m\u001b[0m\u001b[0;34m\u001b[0m\u001b[0m\n\u001b[0;32m-> 1515\u001b[0;31m             random_state=self.random_state))\n\u001b[0m",
      "\u001b[0;32m~/anaconda3/envs/mpro/lib/python3.6/site-packages/sklearn/model_selection/_search.py\u001b[0m in \u001b[0;36mevaluate_candidates\u001b[0;34m(candidate_params)\u001b[0m\n\u001b[1;32m    709\u001b[0m                                \u001b[0;32mfor\u001b[0m \u001b[0mparameters\u001b[0m\u001b[0;34m,\u001b[0m \u001b[0;34m(\u001b[0m\u001b[0mtrain\u001b[0m\u001b[0;34m,\u001b[0m \u001b[0mtest\u001b[0m\u001b[0;34m)\u001b[0m\u001b[0;34m\u001b[0m\u001b[0;34m\u001b[0m\u001b[0m\n\u001b[1;32m    710\u001b[0m                                in product(candidate_params,\n\u001b[0;32m--> 711\u001b[0;31m                                           cv.split(X, y, groups)))\n\u001b[0m\u001b[1;32m    712\u001b[0m \u001b[0;34m\u001b[0m\u001b[0m\n\u001b[1;32m    713\u001b[0m                 \u001b[0mall_candidate_params\u001b[0m\u001b[0;34m.\u001b[0m\u001b[0mextend\u001b[0m\u001b[0;34m(\u001b[0m\u001b[0mcandidate_params\u001b[0m\u001b[0;34m)\u001b[0m\u001b[0;34m\u001b[0m\u001b[0;34m\u001b[0m\u001b[0m\n",
      "\u001b[0;32m~/anaconda3/envs/mpro/lib/python3.6/site-packages/sklearn/externals/joblib/parallel.py\u001b[0m in \u001b[0;36m__call__\u001b[0;34m(self, iterable)\u001b[0m\n\u001b[1;32m    928\u001b[0m \u001b[0;34m\u001b[0m\u001b[0m\n\u001b[1;32m    929\u001b[0m             \u001b[0;32mwith\u001b[0m \u001b[0mself\u001b[0m\u001b[0;34m.\u001b[0m\u001b[0m_backend\u001b[0m\u001b[0;34m.\u001b[0m\u001b[0mretrieval_context\u001b[0m\u001b[0;34m(\u001b[0m\u001b[0;34m)\u001b[0m\u001b[0;34m:\u001b[0m\u001b[0;34m\u001b[0m\u001b[0;34m\u001b[0m\u001b[0m\n\u001b[0;32m--> 930\u001b[0;31m                 \u001b[0mself\u001b[0m\u001b[0;34m.\u001b[0m\u001b[0mretrieve\u001b[0m\u001b[0;34m(\u001b[0m\u001b[0;34m)\u001b[0m\u001b[0;34m\u001b[0m\u001b[0;34m\u001b[0m\u001b[0m\n\u001b[0m\u001b[1;32m    931\u001b[0m             \u001b[0;31m# Make sure that we get a last message telling us we are done\u001b[0m\u001b[0;34m\u001b[0m\u001b[0;34m\u001b[0m\u001b[0;34m\u001b[0m\u001b[0m\n\u001b[1;32m    932\u001b[0m             \u001b[0melapsed_time\u001b[0m \u001b[0;34m=\u001b[0m \u001b[0mtime\u001b[0m\u001b[0;34m.\u001b[0m\u001b[0mtime\u001b[0m\u001b[0;34m(\u001b[0m\u001b[0;34m)\u001b[0m \u001b[0;34m-\u001b[0m \u001b[0mself\u001b[0m\u001b[0;34m.\u001b[0m\u001b[0m_start_time\u001b[0m\u001b[0;34m\u001b[0m\u001b[0;34m\u001b[0m\u001b[0m\n",
      "\u001b[0;32m~/anaconda3/envs/mpro/lib/python3.6/site-packages/sklearn/externals/joblib/parallel.py\u001b[0m in \u001b[0;36mretrieve\u001b[0;34m(self)\u001b[0m\n\u001b[1;32m    831\u001b[0m             \u001b[0;32mtry\u001b[0m\u001b[0;34m:\u001b[0m\u001b[0;34m\u001b[0m\u001b[0;34m\u001b[0m\u001b[0m\n\u001b[1;32m    832\u001b[0m                 \u001b[0;32mif\u001b[0m \u001b[0mgetattr\u001b[0m\u001b[0;34m(\u001b[0m\u001b[0mself\u001b[0m\u001b[0;34m.\u001b[0m\u001b[0m_backend\u001b[0m\u001b[0;34m,\u001b[0m \u001b[0;34m'supports_timeout'\u001b[0m\u001b[0;34m,\u001b[0m \u001b[0;32mFalse\u001b[0m\u001b[0;34m)\u001b[0m\u001b[0;34m:\u001b[0m\u001b[0;34m\u001b[0m\u001b[0;34m\u001b[0m\u001b[0m\n\u001b[0;32m--> 833\u001b[0;31m                     \u001b[0mself\u001b[0m\u001b[0;34m.\u001b[0m\u001b[0m_output\u001b[0m\u001b[0;34m.\u001b[0m\u001b[0mextend\u001b[0m\u001b[0;34m(\u001b[0m\u001b[0mjob\u001b[0m\u001b[0;34m.\u001b[0m\u001b[0mget\u001b[0m\u001b[0;34m(\u001b[0m\u001b[0mtimeout\u001b[0m\u001b[0;34m=\u001b[0m\u001b[0mself\u001b[0m\u001b[0;34m.\u001b[0m\u001b[0mtimeout\u001b[0m\u001b[0;34m)\u001b[0m\u001b[0;34m)\u001b[0m\u001b[0;34m\u001b[0m\u001b[0;34m\u001b[0m\u001b[0m\n\u001b[0m\u001b[1;32m    834\u001b[0m                 \u001b[0;32melse\u001b[0m\u001b[0;34m:\u001b[0m\u001b[0;34m\u001b[0m\u001b[0;34m\u001b[0m\u001b[0m\n\u001b[1;32m    835\u001b[0m                     \u001b[0mself\u001b[0m\u001b[0;34m.\u001b[0m\u001b[0m_output\u001b[0m\u001b[0;34m.\u001b[0m\u001b[0mextend\u001b[0m\u001b[0;34m(\u001b[0m\u001b[0mjob\u001b[0m\u001b[0;34m.\u001b[0m\u001b[0mget\u001b[0m\u001b[0;34m(\u001b[0m\u001b[0;34m)\u001b[0m\u001b[0;34m)\u001b[0m\u001b[0;34m\u001b[0m\u001b[0;34m\u001b[0m\u001b[0m\n",
      "\u001b[0;32m~/anaconda3/envs/mpro/lib/python3.6/site-packages/sklearn/externals/joblib/_parallel_backends.py\u001b[0m in \u001b[0;36mwrap_future_result\u001b[0;34m(future, timeout)\u001b[0m\n\u001b[1;32m    519\u001b[0m         AsyncResults.get from multiprocessing.\"\"\"\n\u001b[1;32m    520\u001b[0m         \u001b[0;32mtry\u001b[0m\u001b[0;34m:\u001b[0m\u001b[0;34m\u001b[0m\u001b[0;34m\u001b[0m\u001b[0m\n\u001b[0;32m--> 521\u001b[0;31m             \u001b[0;32mreturn\u001b[0m \u001b[0mfuture\u001b[0m\u001b[0;34m.\u001b[0m\u001b[0mresult\u001b[0m\u001b[0;34m(\u001b[0m\u001b[0mtimeout\u001b[0m\u001b[0;34m=\u001b[0m\u001b[0mtimeout\u001b[0m\u001b[0;34m)\u001b[0m\u001b[0;34m\u001b[0m\u001b[0;34m\u001b[0m\u001b[0m\n\u001b[0m\u001b[1;32m    522\u001b[0m         \u001b[0;32mexcept\u001b[0m \u001b[0mLokyTimeoutError\u001b[0m\u001b[0;34m:\u001b[0m\u001b[0;34m\u001b[0m\u001b[0;34m\u001b[0m\u001b[0m\n\u001b[1;32m    523\u001b[0m             \u001b[0;32mraise\u001b[0m \u001b[0mTimeoutError\u001b[0m\u001b[0;34m(\u001b[0m\u001b[0;34m)\u001b[0m\u001b[0;34m\u001b[0m\u001b[0;34m\u001b[0m\u001b[0m\n",
      "\u001b[0;32m~/anaconda3/envs/mpro/lib/python3.6/concurrent/futures/_base.py\u001b[0m in \u001b[0;36mresult\u001b[0;34m(self, timeout)\u001b[0m\n\u001b[1;32m    425\u001b[0m                 \u001b[0;32mreturn\u001b[0m \u001b[0mself\u001b[0m\u001b[0;34m.\u001b[0m\u001b[0m__get_result\u001b[0m\u001b[0;34m(\u001b[0m\u001b[0;34m)\u001b[0m\u001b[0;34m\u001b[0m\u001b[0;34m\u001b[0m\u001b[0m\n\u001b[1;32m    426\u001b[0m \u001b[0;34m\u001b[0m\u001b[0m\n\u001b[0;32m--> 427\u001b[0;31m             \u001b[0mself\u001b[0m\u001b[0;34m.\u001b[0m\u001b[0m_condition\u001b[0m\u001b[0;34m.\u001b[0m\u001b[0mwait\u001b[0m\u001b[0;34m(\u001b[0m\u001b[0mtimeout\u001b[0m\u001b[0;34m)\u001b[0m\u001b[0;34m\u001b[0m\u001b[0;34m\u001b[0m\u001b[0m\n\u001b[0m\u001b[1;32m    428\u001b[0m \u001b[0;34m\u001b[0m\u001b[0m\n\u001b[1;32m    429\u001b[0m             \u001b[0;32mif\u001b[0m \u001b[0mself\u001b[0m\u001b[0;34m.\u001b[0m\u001b[0m_state\u001b[0m \u001b[0;32min\u001b[0m \u001b[0;34m[\u001b[0m\u001b[0mCANCELLED\u001b[0m\u001b[0;34m,\u001b[0m \u001b[0mCANCELLED_AND_NOTIFIED\u001b[0m\u001b[0;34m]\u001b[0m\u001b[0;34m:\u001b[0m\u001b[0;34m\u001b[0m\u001b[0;34m\u001b[0m\u001b[0m\n",
      "\u001b[0;32m~/anaconda3/envs/mpro/lib/python3.6/threading.py\u001b[0m in \u001b[0;36mwait\u001b[0;34m(self, timeout)\u001b[0m\n\u001b[1;32m    293\u001b[0m         \u001b[0;32mtry\u001b[0m\u001b[0;34m:\u001b[0m    \u001b[0;31m# restore state no matter what (e.g., KeyboardInterrupt)\u001b[0m\u001b[0;34m\u001b[0m\u001b[0;34m\u001b[0m\u001b[0m\n\u001b[1;32m    294\u001b[0m             \u001b[0;32mif\u001b[0m \u001b[0mtimeout\u001b[0m \u001b[0;32mis\u001b[0m \u001b[0;32mNone\u001b[0m\u001b[0;34m:\u001b[0m\u001b[0;34m\u001b[0m\u001b[0;34m\u001b[0m\u001b[0m\n\u001b[0;32m--> 295\u001b[0;31m                 \u001b[0mwaiter\u001b[0m\u001b[0;34m.\u001b[0m\u001b[0macquire\u001b[0m\u001b[0;34m(\u001b[0m\u001b[0;34m)\u001b[0m\u001b[0;34m\u001b[0m\u001b[0;34m\u001b[0m\u001b[0m\n\u001b[0m\u001b[1;32m    296\u001b[0m                 \u001b[0mgotit\u001b[0m \u001b[0;34m=\u001b[0m \u001b[0;32mTrue\u001b[0m\u001b[0;34m\u001b[0m\u001b[0;34m\u001b[0m\u001b[0m\n\u001b[1;32m    297\u001b[0m             \u001b[0;32melse\u001b[0m\u001b[0;34m:\u001b[0m\u001b[0;34m\u001b[0m\u001b[0;34m\u001b[0m\u001b[0m\n",
      "\u001b[0;31mKeyboardInterrupt\u001b[0m: "
     ]
    }
   ],
   "source": [
    "# Use the random grid to search for best hyperparameters\n",
    "# First create the base model to tune\n",
    "rf = RandomForestRegressor()\n",
    "# Random search of parameters, using 2 fold cross validation, \n",
    "# search across 100 different combinations, and use all available cores\n",
    "rf_random = RandomizedSearchCV(estimator = rf, param_distributions = random_grid, n_iter = 100, cv = 2, verbose=2, random_state=42, n_jobs = -1)\n",
    "# Fit the random search model\n",
    "rf_random.fit(X_train, y_train)"
   ]
  },
  {
   "cell_type": "code",
   "execution_count": null,
   "metadata": {},
   "outputs": [],
   "source": [
    "rf_random.best_params_"
   ]
  },
  {
   "cell_type": "code",
   "execution_count": null,
   "metadata": {},
   "outputs": [],
   "source": [
    "def evaluate(model, test_features, test_labels):\n",
    "    predictions = model.predict(test_features)\n",
    "    errors = abs(predictions - test_labels)\n",
    "    mape = 100 * np.mean(errors / test_labels)\n",
    "    accuracy = 100 - mape\n",
    "    print('Model Performance')\n",
    "    print('Average Error: {:0.4f} degrees.'.format(np.mean(errors)))\n",
    "    print('Accuracy = {:0.2f}%.'.format(accuracy))\n",
    "    \n",
    "    return accuracy\n",
    "base_model = RandomForestRegressor(n_estimators = 10, random_state = 42)\n",
    "base_model.fit(X_train, y_train)\n",
    "base_accuracy = evaluate(base_model, X_dev, y_dev)"
   ]
  },
  {
   "cell_type": "code",
   "execution_count": null,
   "metadata": {},
   "outputs": [],
   "source": [
    "best_random = rf_random.best_estimator_\n",
    "random_accuracy = evaluate(best_random, test_features, test_labels)"
   ]
  },
  {
   "cell_type": "code",
   "execution_count": null,
   "metadata": {},
   "outputs": [],
   "source": [
    "print('Improvement of {:0.2f}%.'.format( 100 * (random_accuracy - base_accuracy) / base_accuracy))"
   ]
  },
  {
   "cell_type": "code",
   "execution_count": null,
   "metadata": {},
   "outputs": [],
   "source": []
  },
  {
   "cell_type": "code",
   "execution_count": null,
   "metadata": {},
   "outputs": [],
   "source": []
  },
  {
   "cell_type": "code",
   "execution_count": null,
   "metadata": {},
   "outputs": [],
   "source": []
  },
  {
   "cell_type": "markdown",
   "metadata": {},
   "source": [
    "## Alternative method creating custom idxs for cross validation:\n",
    "\n",
    "https://stackoverflow.com/questions/37583263/scikit-learn-cross-validation-custom-splits-for-time-series-data\n",
    "\n",
    "https://www.kaggle.com/sociopath00/random-forest-using-gridsearchcv\n",
    "\n",
    "https://stackoverflow.com/questions/30102973/how-to-get-best-estimator-on-gridsearchcv-random-forest-classifier-scikit"
   ]
  },
  {
   "cell_type": "code",
   "execution_count": 43,
   "metadata": {},
   "outputs": [],
   "source": [
    "from sklearn.model_selection import TimeSeriesSplit, GridSearchCV\n",
    "my_cv = TimeSeriesSplit(n_splits=2).split(rftune_X_train)"
   ]
  },
  {
   "cell_type": "code",
   "execution_count": 47,
   "metadata": {},
   "outputs": [
    {
     "name": "stdout",
     "output_type": "stream",
     "text": [
      "<generator object TimeSeriesSplit.split at 0x7f8902dcce60>\n"
     ]
    }
   ],
   "source": [
    "my_cv."
   ]
  },
  {
   "cell_type": "code",
   "execution_count": null,
   "metadata": {},
   "outputs": [],
   "source": []
  },
  {
   "cell_type": "code",
   "execution_count": null,
   "metadata": {},
   "outputs": [],
   "source": []
  },
  {
   "cell_type": "code",
   "execution_count": 9,
   "metadata": {},
   "outputs": [],
   "source": [
    "X_train, X_dev, X_test, y_train, y_dev, y_test = train_dev_test_split(marag_df.drop(['TotalEntries'], axis=1), \n",
    "                                                                      marag_df['TotalEntries'])\n",
    "\n",
    "X_train = pd.concat([X_train, X_dev])\n",
    "X_train.sort_index(inplace=True)\n",
    "y_train = pd.concat([y_train, y_dev])\n",
    "y_train.sort_index(inplace=True)\n",
    "\n",
    "cv = [(X_train, y_train)]"
   ]
  },
  {
   "cell_type": "code",
   "execution_count": 24,
   "metadata": {},
   "outputs": [
    {
     "name": "stderr",
     "output_type": "stream",
     "text": [
      "/home/quark/anaconda3/envs/mpro/lib/python3.6/site-packages/sklearn/ensemble/forest.py:246: FutureWarning: The default value of n_estimators will change from 10 in version 0.20 to 100 in 0.22.\n",
      "  \"10 in version 0.20 to 100 in 0.22.\", FutureWarning)\n"
     ]
    },
    {
     "data": {
      "text/plain": [
       "RandomForestRegressor(bootstrap=True, criterion='mse', max_depth=None,\n",
       "           max_features='auto', max_leaf_nodes=None,\n",
       "           min_impurity_decrease=0.0, min_impurity_split=None,\n",
       "           min_samples_leaf=1, min_samples_split=2,\n",
       "           min_weight_fraction_leaf=0.0, n_estimators=10, n_jobs=None,\n",
       "           oob_score=False, random_state=42, verbose=0, warm_start=False)"
      ]
     },
     "execution_count": 24,
     "metadata": {},
     "output_type": "execute_result"
    }
   ],
   "source": [
    "from sklearn.model_selection import GridSearchCV\n",
    "\n",
    "rf = RandomForestRegressor(random_state = 42)\n",
    "rf.fit(X_train, y_train)"
   ]
  },
  {
   "cell_type": "code",
   "execution_count": null,
   "metadata": {},
   "outputs": [],
   "source": [
    "(estimator = rf, param_distributions = random_grid, n_iter = 100, cv = 2, verbose=2, random_state=42, n_jobs = -1)"
   ]
  },
  {
   "cell_type": "code",
   "execution_count": 15,
   "metadata": {},
   "outputs": [],
   "source": [
    "random_grid = {'n_estimators': n_estimators,\n",
    "               'max_features': max_features,\n",
    "               'max_depth': max_depth,\n",
    "               'min_samples_split': min_samples_split,\n",
    "               'min_samples_leaf': min_samples_leaf,\n",
    "               'bootstrap': bootstrap}"
   ]
  },
  {
   "cell_type": "code",
   "execution_count": 25,
   "metadata": {},
   "outputs": [],
   "source": [
    "(estimator = rf, param_distributions = random_grid, n_iter = 100, cv = 2, verbose=2, random_state=42, n_jobs = -1)\n",
    "\n",
    "rf_tune = GridSearchCV(rf, param_grid = random_grid, cv=cv, n_jobs=-1)"
   ]
  },
  {
   "cell_type": "code",
   "execution_count": 21,
   "metadata": {},
   "outputs": [
    {
     "data": {
      "text/plain": [
       "sklearn.model_selection._search.GridSearchCV"
      ]
     },
     "execution_count": 21,
     "metadata": {},
     "output_type": "execute_result"
    }
   ],
   "source": [
    "type(rf_tune)"
   ]
  },
  {
   "cell_type": "code",
   "execution_count": null,
   "metadata": {},
   "outputs": [],
   "source": [
    "for i in tqdm range(4320):\n",
    "    fit\n",
    "    i = i+1\n",
    "    "
   ]
  },
  {
   "cell_type": "code",
   "execution_count": null,
   "metadata": {},
   "outputs": [],
   "source": []
  },
  {
   "cell_type": "code",
   "execution_count": null,
   "metadata": {},
   "outputs": [],
   "source": []
  },
  {
   "cell_type": "code",
   "execution_count": null,
   "metadata": {},
   "outputs": [],
   "source": []
  },
  {
   "cell_type": "code",
   "execution_count": 49,
   "metadata": {},
   "outputs": [],
   "source": [
    "#groups = marag_df.groupby(marag_df['Timestamp'].dt.year).groups\n",
    "\n",
    "#sorted_groups = [value for (key, value) in sorted(groups.items())] \n",
    "\n",
    "\n",
    "cv = [(sorted_groups[0] + sorted_groups[1], sorted_groups[2])]"
   ]
  },
  {
   "cell_type": "code",
   "execution_count": 52,
   "metadata": {},
   "outputs": [
    {
     "data": {
      "text/plain": [
       "1"
      ]
     },
     "execution_count": 52,
     "metadata": {},
     "output_type": "execute_result"
    }
   ],
   "source": [
    "len(cv)"
   ]
  },
  {
   "cell_type": "code",
   "execution_count": 37,
   "metadata": {},
   "outputs": [
    {
     "data": {
      "text/plain": [
       "[(                     TotalEntries  Temperature  Precipitation  Open/Closed  \\\n",
       "  Timestamp                                                                    \n",
       "  2017-01-16 00:00:00           NaN          NaN            NaN          NaN   \n",
       "  2017-01-16 00:30:00           NaN          NaN            NaN          NaN   \n",
       "  2017-01-16 01:00:00           NaN          NaN            NaN          NaN   \n",
       "  2017-01-16 01:30:00           NaN          NaN            NaN          NaN   \n",
       "  2017-01-16 02:00:00           NaN          NaN            NaN          NaN   \n",
       "  2017-01-16 02:30:00           NaN          NaN            NaN          NaN   \n",
       "  2017-01-16 03:00:00           NaN          NaN            NaN          NaN   \n",
       "  2017-01-16 03:30:00           NaN          NaN            NaN          NaN   \n",
       "  2017-01-16 04:00:00           NaN          NaN            NaN          NaN   \n",
       "  2017-01-16 04:30:00           NaN          NaN            NaN          NaN   \n",
       "  2017-01-16 05:00:00           NaN          NaN            NaN          NaN   \n",
       "  2017-01-16 05:30:00           NaN          NaN            NaN          NaN   \n",
       "  2017-01-16 06:00:00           NaN          NaN            NaN          NaN   \n",
       "  2017-01-16 06:30:00           NaN          NaN            NaN          NaN   \n",
       "  2017-01-16 07:00:00           NaN          NaN            NaN          NaN   \n",
       "  2017-01-16 07:30:00           NaN          NaN            NaN          NaN   \n",
       "  2017-01-16 08:00:00           NaN          NaN            NaN          NaN   \n",
       "  2017-01-16 08:30:00           NaN          NaN            NaN          NaN   \n",
       "  2017-01-16 09:00:00           NaN          NaN            NaN          NaN   \n",
       "  2017-01-16 09:30:00           NaN          NaN            NaN          NaN   \n",
       "  2017-01-16 10:00:00           NaN          NaN            NaN          NaN   \n",
       "  2017-01-16 10:30:00           NaN          NaN            NaN          NaN   \n",
       "  2017-01-16 11:00:00           NaN          NaN            NaN          NaN   \n",
       "  2017-01-16 11:30:00           NaN          NaN            NaN          NaN   \n",
       "  2017-01-16 12:00:00           NaN          NaN            NaN          NaN   \n",
       "  2017-01-16 12:30:00           NaN          NaN            NaN          NaN   \n",
       "  2017-01-16 13:00:00           NaN          NaN            NaN          NaN   \n",
       "  2017-01-16 13:30:00           NaN          NaN            NaN          NaN   \n",
       "  2017-01-16 14:00:00           NaN          NaN            NaN          NaN   \n",
       "  2017-01-16 14:30:00           NaN          NaN            NaN          NaN   \n",
       "  ...                           ...          ...            ...          ...   \n",
       "  2018-12-31 09:00:00           NaN          NaN            NaN          NaN   \n",
       "  2018-12-31 09:30:00           NaN          NaN            NaN          NaN   \n",
       "  2018-12-31 10:00:00           NaN          NaN            NaN          NaN   \n",
       "  2018-12-31 10:30:00           NaN          NaN            NaN          NaN   \n",
       "  2018-12-31 11:00:00           NaN          NaN            NaN          NaN   \n",
       "  2018-12-31 11:30:00           NaN          NaN            NaN          NaN   \n",
       "  2018-12-31 12:00:00           NaN          NaN            NaN          NaN   \n",
       "  2018-12-31 12:30:00           NaN          NaN            NaN          NaN   \n",
       "  2018-12-31 13:00:00           NaN          NaN            NaN          NaN   \n",
       "  2018-12-31 13:30:00           NaN          NaN            NaN          NaN   \n",
       "  2018-12-31 14:00:00           NaN          NaN            NaN          NaN   \n",
       "  2018-12-31 14:30:00           NaN          NaN            NaN          NaN   \n",
       "  2018-12-31 15:00:00           NaN          NaN            NaN          NaN   \n",
       "  2018-12-31 15:30:00           NaN          NaN            NaN          NaN   \n",
       "  2018-12-31 16:00:00           NaN          NaN            NaN          NaN   \n",
       "  2018-12-31 16:30:00           NaN          NaN            NaN          NaN   \n",
       "  2018-12-31 17:00:00           NaN          NaN            NaN          NaN   \n",
       "  2018-12-31 17:30:00           NaN          NaN            NaN          NaN   \n",
       "  2018-12-31 18:00:00           NaN          NaN            NaN          NaN   \n",
       "  2018-12-31 18:30:00           NaN          NaN            NaN          NaN   \n",
       "  2018-12-31 19:00:00           NaN          NaN            NaN          NaN   \n",
       "  2018-12-31 19:30:00           NaN          NaN            NaN          NaN   \n",
       "  2018-12-31 20:00:00           NaN          NaN            NaN          NaN   \n",
       "  2018-12-31 20:30:00           NaN          NaN            NaN          NaN   \n",
       "  2018-12-31 21:00:00           NaN          NaN            NaN          NaN   \n",
       "  2018-12-31 21:30:00           NaN          NaN            NaN          NaN   \n",
       "  2018-12-31 22:00:00           NaN          NaN            NaN          NaN   \n",
       "  2018-12-31 22:30:00           NaN          NaN            NaN          NaN   \n",
       "  2018-12-31 23:00:00           NaN          NaN            NaN          NaN   \n",
       "  2018-12-31 23:30:00           NaN          NaN            NaN          NaN   \n",
       "  \n",
       "                       Weekday/Weekend  t-1  t-2  t-3  t-4  t-5  ...  t-327  \\\n",
       "  Timestamp                                                      ...          \n",
       "  2017-01-16 00:00:00              NaN  NaN  NaN  NaN  NaN  NaN  ...    NaN   \n",
       "  2017-01-16 00:30:00              NaN  NaN  NaN  NaN  NaN  NaN  ...    NaN   \n",
       "  2017-01-16 01:00:00              NaN  NaN  NaN  NaN  NaN  NaN  ...    NaN   \n",
       "  2017-01-16 01:30:00              NaN  NaN  NaN  NaN  NaN  NaN  ...    NaN   \n",
       "  2017-01-16 02:00:00              NaN  NaN  NaN  NaN  NaN  NaN  ...    NaN   \n",
       "  2017-01-16 02:30:00              NaN  NaN  NaN  NaN  NaN  NaN  ...    NaN   \n",
       "  2017-01-16 03:00:00              NaN  NaN  NaN  NaN  NaN  NaN  ...    NaN   \n",
       "  2017-01-16 03:30:00              NaN  NaN  NaN  NaN  NaN  NaN  ...    NaN   \n",
       "  2017-01-16 04:00:00              NaN  NaN  NaN  NaN  NaN  NaN  ...    NaN   \n",
       "  2017-01-16 04:30:00              NaN  NaN  NaN  NaN  NaN  NaN  ...    NaN   \n",
       "  2017-01-16 05:00:00              NaN  NaN  NaN  NaN  NaN  NaN  ...    NaN   \n",
       "  2017-01-16 05:30:00              NaN  NaN  NaN  NaN  NaN  NaN  ...    NaN   \n",
       "  2017-01-16 06:00:00              NaN  NaN  NaN  NaN  NaN  NaN  ...    NaN   \n",
       "  2017-01-16 06:30:00              NaN  NaN  NaN  NaN  NaN  NaN  ...    NaN   \n",
       "  2017-01-16 07:00:00              NaN  NaN  NaN  NaN  NaN  NaN  ...    NaN   \n",
       "  2017-01-16 07:30:00              NaN  NaN  NaN  NaN  NaN  NaN  ...    NaN   \n",
       "  2017-01-16 08:00:00              NaN  NaN  NaN  NaN  NaN  NaN  ...    NaN   \n",
       "  2017-01-16 08:30:00              NaN  NaN  NaN  NaN  NaN  NaN  ...    NaN   \n",
       "  2017-01-16 09:00:00              NaN  NaN  NaN  NaN  NaN  NaN  ...    NaN   \n",
       "  2017-01-16 09:30:00              NaN  NaN  NaN  NaN  NaN  NaN  ...    NaN   \n",
       "  2017-01-16 10:00:00              NaN  NaN  NaN  NaN  NaN  NaN  ...    NaN   \n",
       "  2017-01-16 10:30:00              NaN  NaN  NaN  NaN  NaN  NaN  ...    NaN   \n",
       "  2017-01-16 11:00:00              NaN  NaN  NaN  NaN  NaN  NaN  ...    NaN   \n",
       "  2017-01-16 11:30:00              NaN  NaN  NaN  NaN  NaN  NaN  ...    NaN   \n",
       "  2017-01-16 12:00:00              NaN  NaN  NaN  NaN  NaN  NaN  ...    NaN   \n",
       "  2017-01-16 12:30:00              NaN  NaN  NaN  NaN  NaN  NaN  ...    NaN   \n",
       "  2017-01-16 13:00:00              NaN  NaN  NaN  NaN  NaN  NaN  ...    NaN   \n",
       "  2017-01-16 13:30:00              NaN  NaN  NaN  NaN  NaN  NaN  ...    NaN   \n",
       "  2017-01-16 14:00:00              NaN  NaN  NaN  NaN  NaN  NaN  ...    NaN   \n",
       "  2017-01-16 14:30:00              NaN  NaN  NaN  NaN  NaN  NaN  ...    NaN   \n",
       "  ...                              ...  ...  ...  ...  ...  ...  ...    ...   \n",
       "  2018-12-31 09:00:00              NaN  NaN  NaN  NaN  NaN  NaN  ...    NaN   \n",
       "  2018-12-31 09:30:00              NaN  NaN  NaN  NaN  NaN  NaN  ...    NaN   \n",
       "  2018-12-31 10:00:00              NaN  NaN  NaN  NaN  NaN  NaN  ...    NaN   \n",
       "  2018-12-31 10:30:00              NaN  NaN  NaN  NaN  NaN  NaN  ...    NaN   \n",
       "  2018-12-31 11:00:00              NaN  NaN  NaN  NaN  NaN  NaN  ...    NaN   \n",
       "  2018-12-31 11:30:00              NaN  NaN  NaN  NaN  NaN  NaN  ...    NaN   \n",
       "  2018-12-31 12:00:00              NaN  NaN  NaN  NaN  NaN  NaN  ...    NaN   \n",
       "  2018-12-31 12:30:00              NaN  NaN  NaN  NaN  NaN  NaN  ...    NaN   \n",
       "  2018-12-31 13:00:00              NaN  NaN  NaN  NaN  NaN  NaN  ...    NaN   \n",
       "  2018-12-31 13:30:00              NaN  NaN  NaN  NaN  NaN  NaN  ...    NaN   \n",
       "  2018-12-31 14:00:00              NaN  NaN  NaN  NaN  NaN  NaN  ...    NaN   \n",
       "  2018-12-31 14:30:00              NaN  NaN  NaN  NaN  NaN  NaN  ...    NaN   \n",
       "  2018-12-31 15:00:00              NaN  NaN  NaN  NaN  NaN  NaN  ...    NaN   \n",
       "  2018-12-31 15:30:00              NaN  NaN  NaN  NaN  NaN  NaN  ...    NaN   \n",
       "  2018-12-31 16:00:00              NaN  NaN  NaN  NaN  NaN  NaN  ...    NaN   \n",
       "  2018-12-31 16:30:00              NaN  NaN  NaN  NaN  NaN  NaN  ...    NaN   \n",
       "  2018-12-31 17:00:00              NaN  NaN  NaN  NaN  NaN  NaN  ...    NaN   \n",
       "  2018-12-31 17:30:00              NaN  NaN  NaN  NaN  NaN  NaN  ...    NaN   \n",
       "  2018-12-31 18:00:00              NaN  NaN  NaN  NaN  NaN  NaN  ...    NaN   \n",
       "  2018-12-31 18:30:00              NaN  NaN  NaN  NaN  NaN  NaN  ...    NaN   \n",
       "  2018-12-31 19:00:00              NaN  NaN  NaN  NaN  NaN  NaN  ...    NaN   \n",
       "  2018-12-31 19:30:00              NaN  NaN  NaN  NaN  NaN  NaN  ...    NaN   \n",
       "  2018-12-31 20:00:00              NaN  NaN  NaN  NaN  NaN  NaN  ...    NaN   \n",
       "  2018-12-31 20:30:00              NaN  NaN  NaN  NaN  NaN  NaN  ...    NaN   \n",
       "  2018-12-31 21:00:00              NaN  NaN  NaN  NaN  NaN  NaN  ...    NaN   \n",
       "  2018-12-31 21:30:00              NaN  NaN  NaN  NaN  NaN  NaN  ...    NaN   \n",
       "  2018-12-31 22:00:00              NaN  NaN  NaN  NaN  NaN  NaN  ...    NaN   \n",
       "  2018-12-31 22:30:00              NaN  NaN  NaN  NaN  NaN  NaN  ...    NaN   \n",
       "  2018-12-31 23:00:00              NaN  NaN  NaN  NaN  NaN  NaN  ...    NaN   \n",
       "  2018-12-31 23:30:00              NaN  NaN  NaN  NaN  NaN  NaN  ...    NaN   \n",
       "  \n",
       "                       t-328  t-329  t-330  t-331  t-332  t-333  t-334  t-335  \\\n",
       "  Timestamp                                                                     \n",
       "  2017-01-16 00:00:00    NaN    NaN    NaN    NaN    NaN    NaN    NaN    NaN   \n",
       "  2017-01-16 00:30:00    NaN    NaN    NaN    NaN    NaN    NaN    NaN    NaN   \n",
       "  2017-01-16 01:00:00    NaN    NaN    NaN    NaN    NaN    NaN    NaN    NaN   \n",
       "  2017-01-16 01:30:00    NaN    NaN    NaN    NaN    NaN    NaN    NaN    NaN   \n",
       "  2017-01-16 02:00:00    NaN    NaN    NaN    NaN    NaN    NaN    NaN    NaN   \n",
       "  2017-01-16 02:30:00    NaN    NaN    NaN    NaN    NaN    NaN    NaN    NaN   \n",
       "  2017-01-16 03:00:00    NaN    NaN    NaN    NaN    NaN    NaN    NaN    NaN   \n",
       "  2017-01-16 03:30:00    NaN    NaN    NaN    NaN    NaN    NaN    NaN    NaN   \n",
       "  2017-01-16 04:00:00    NaN    NaN    NaN    NaN    NaN    NaN    NaN    NaN   \n",
       "  2017-01-16 04:30:00    NaN    NaN    NaN    NaN    NaN    NaN    NaN    NaN   \n",
       "  2017-01-16 05:00:00    NaN    NaN    NaN    NaN    NaN    NaN    NaN    NaN   \n",
       "  2017-01-16 05:30:00    NaN    NaN    NaN    NaN    NaN    NaN    NaN    NaN   \n",
       "  2017-01-16 06:00:00    NaN    NaN    NaN    NaN    NaN    NaN    NaN    NaN   \n",
       "  2017-01-16 06:30:00    NaN    NaN    NaN    NaN    NaN    NaN    NaN    NaN   \n",
       "  2017-01-16 07:00:00    NaN    NaN    NaN    NaN    NaN    NaN    NaN    NaN   \n",
       "  2017-01-16 07:30:00    NaN    NaN    NaN    NaN    NaN    NaN    NaN    NaN   \n",
       "  2017-01-16 08:00:00    NaN    NaN    NaN    NaN    NaN    NaN    NaN    NaN   \n",
       "  2017-01-16 08:30:00    NaN    NaN    NaN    NaN    NaN    NaN    NaN    NaN   \n",
       "  2017-01-16 09:00:00    NaN    NaN    NaN    NaN    NaN    NaN    NaN    NaN   \n",
       "  2017-01-16 09:30:00    NaN    NaN    NaN    NaN    NaN    NaN    NaN    NaN   \n",
       "  2017-01-16 10:00:00    NaN    NaN    NaN    NaN    NaN    NaN    NaN    NaN   \n",
       "  2017-01-16 10:30:00    NaN    NaN    NaN    NaN    NaN    NaN    NaN    NaN   \n",
       "  2017-01-16 11:00:00    NaN    NaN    NaN    NaN    NaN    NaN    NaN    NaN   \n",
       "  2017-01-16 11:30:00    NaN    NaN    NaN    NaN    NaN    NaN    NaN    NaN   \n",
       "  2017-01-16 12:00:00    NaN    NaN    NaN    NaN    NaN    NaN    NaN    NaN   \n",
       "  2017-01-16 12:30:00    NaN    NaN    NaN    NaN    NaN    NaN    NaN    NaN   \n",
       "  2017-01-16 13:00:00    NaN    NaN    NaN    NaN    NaN    NaN    NaN    NaN   \n",
       "  2017-01-16 13:30:00    NaN    NaN    NaN    NaN    NaN    NaN    NaN    NaN   \n",
       "  2017-01-16 14:00:00    NaN    NaN    NaN    NaN    NaN    NaN    NaN    NaN   \n",
       "  2017-01-16 14:30:00    NaN    NaN    NaN    NaN    NaN    NaN    NaN    NaN   \n",
       "  ...                    ...    ...    ...    ...    ...    ...    ...    ...   \n",
       "  2018-12-31 09:00:00    NaN    NaN    NaN    NaN    NaN    NaN    NaN    NaN   \n",
       "  2018-12-31 09:30:00    NaN    NaN    NaN    NaN    NaN    NaN    NaN    NaN   \n",
       "  2018-12-31 10:00:00    NaN    NaN    NaN    NaN    NaN    NaN    NaN    NaN   \n",
       "  2018-12-31 10:30:00    NaN    NaN    NaN    NaN    NaN    NaN    NaN    NaN   \n",
       "  2018-12-31 11:00:00    NaN    NaN    NaN    NaN    NaN    NaN    NaN    NaN   \n",
       "  2018-12-31 11:30:00    NaN    NaN    NaN    NaN    NaN    NaN    NaN    NaN   \n",
       "  2018-12-31 12:00:00    NaN    NaN    NaN    NaN    NaN    NaN    NaN    NaN   \n",
       "  2018-12-31 12:30:00    NaN    NaN    NaN    NaN    NaN    NaN    NaN    NaN   \n",
       "  2018-12-31 13:00:00    NaN    NaN    NaN    NaN    NaN    NaN    NaN    NaN   \n",
       "  2018-12-31 13:30:00    NaN    NaN    NaN    NaN    NaN    NaN    NaN    NaN   \n",
       "  2018-12-31 14:00:00    NaN    NaN    NaN    NaN    NaN    NaN    NaN    NaN   \n",
       "  2018-12-31 14:30:00    NaN    NaN    NaN    NaN    NaN    NaN    NaN    NaN   \n",
       "  2018-12-31 15:00:00    NaN    NaN    NaN    NaN    NaN    NaN    NaN    NaN   \n",
       "  2018-12-31 15:30:00    NaN    NaN    NaN    NaN    NaN    NaN    NaN    NaN   \n",
       "  2018-12-31 16:00:00    NaN    NaN    NaN    NaN    NaN    NaN    NaN    NaN   \n",
       "  2018-12-31 16:30:00    NaN    NaN    NaN    NaN    NaN    NaN    NaN    NaN   \n",
       "  2018-12-31 17:00:00    NaN    NaN    NaN    NaN    NaN    NaN    NaN    NaN   \n",
       "  2018-12-31 17:30:00    NaN    NaN    NaN    NaN    NaN    NaN    NaN    NaN   \n",
       "  2018-12-31 18:00:00    NaN    NaN    NaN    NaN    NaN    NaN    NaN    NaN   \n",
       "  2018-12-31 18:30:00    NaN    NaN    NaN    NaN    NaN    NaN    NaN    NaN   \n",
       "  2018-12-31 19:00:00    NaN    NaN    NaN    NaN    NaN    NaN    NaN    NaN   \n",
       "  2018-12-31 19:30:00    NaN    NaN    NaN    NaN    NaN    NaN    NaN    NaN   \n",
       "  2018-12-31 20:00:00    NaN    NaN    NaN    NaN    NaN    NaN    NaN    NaN   \n",
       "  2018-12-31 20:30:00    NaN    NaN    NaN    NaN    NaN    NaN    NaN    NaN   \n",
       "  2018-12-31 21:00:00    NaN    NaN    NaN    NaN    NaN    NaN    NaN    NaN   \n",
       "  2018-12-31 21:30:00    NaN    NaN    NaN    NaN    NaN    NaN    NaN    NaN   \n",
       "  2018-12-31 22:00:00    NaN    NaN    NaN    NaN    NaN    NaN    NaN    NaN   \n",
       "  2018-12-31 22:30:00    NaN    NaN    NaN    NaN    NaN    NaN    NaN    NaN   \n",
       "  2018-12-31 23:00:00    NaN    NaN    NaN    NaN    NaN    NaN    NaN    NaN   \n",
       "  2018-12-31 23:30:00    NaN    NaN    NaN    NaN    NaN    NaN    NaN    NaN   \n",
       "  \n",
       "                       t-336  \n",
       "  Timestamp                   \n",
       "  2017-01-16 00:00:00    NaN  \n",
       "  2017-01-16 00:30:00    NaN  \n",
       "  2017-01-16 01:00:00    NaN  \n",
       "  2017-01-16 01:30:00    NaN  \n",
       "  2017-01-16 02:00:00    NaN  \n",
       "  2017-01-16 02:30:00    NaN  \n",
       "  2017-01-16 03:00:00    NaN  \n",
       "  2017-01-16 03:30:00    NaN  \n",
       "  2017-01-16 04:00:00    NaN  \n",
       "  2017-01-16 04:30:00    NaN  \n",
       "  2017-01-16 05:00:00    NaN  \n",
       "  2017-01-16 05:30:00    NaN  \n",
       "  2017-01-16 06:00:00    NaN  \n",
       "  2017-01-16 06:30:00    NaN  \n",
       "  2017-01-16 07:00:00    NaN  \n",
       "  2017-01-16 07:30:00    NaN  \n",
       "  2017-01-16 08:00:00    NaN  \n",
       "  2017-01-16 08:30:00    NaN  \n",
       "  2017-01-16 09:00:00    NaN  \n",
       "  2017-01-16 09:30:00    NaN  \n",
       "  2017-01-16 10:00:00    NaN  \n",
       "  2017-01-16 10:30:00    NaN  \n",
       "  2017-01-16 11:00:00    NaN  \n",
       "  2017-01-16 11:30:00    NaN  \n",
       "  2017-01-16 12:00:00    NaN  \n",
       "  2017-01-16 12:30:00    NaN  \n",
       "  2017-01-16 13:00:00    NaN  \n",
       "  2017-01-16 13:30:00    NaN  \n",
       "  2017-01-16 14:00:00    NaN  \n",
       "  2017-01-16 14:30:00    NaN  \n",
       "  ...                    ...  \n",
       "  2018-12-31 09:00:00    NaN  \n",
       "  2018-12-31 09:30:00    NaN  \n",
       "  2018-12-31 10:00:00    NaN  \n",
       "  2018-12-31 10:30:00    NaN  \n",
       "  2018-12-31 11:00:00    NaN  \n",
       "  2018-12-31 11:30:00    NaN  \n",
       "  2018-12-31 12:00:00    NaN  \n",
       "  2018-12-31 12:30:00    NaN  \n",
       "  2018-12-31 13:00:00    NaN  \n",
       "  2018-12-31 13:30:00    NaN  \n",
       "  2018-12-31 14:00:00    NaN  \n",
       "  2018-12-31 14:30:00    NaN  \n",
       "  2018-12-31 15:00:00    NaN  \n",
       "  2018-12-31 15:30:00    NaN  \n",
       "  2018-12-31 16:00:00    NaN  \n",
       "  2018-12-31 16:30:00    NaN  \n",
       "  2018-12-31 17:00:00    NaN  \n",
       "  2018-12-31 17:30:00    NaN  \n",
       "  2018-12-31 18:00:00    NaN  \n",
       "  2018-12-31 18:30:00    NaN  \n",
       "  2018-12-31 19:00:00    NaN  \n",
       "  2018-12-31 19:30:00    NaN  \n",
       "  2018-12-31 20:00:00    NaN  \n",
       "  2018-12-31 20:30:00    NaN  \n",
       "  2018-12-31 21:00:00    NaN  \n",
       "  2018-12-31 21:30:00    NaN  \n",
       "  2018-12-31 22:00:00    NaN  \n",
       "  2018-12-31 22:30:00    NaN  \n",
       "  2018-12-31 23:00:00    NaN  \n",
       "  2018-12-31 23:30:00    NaN  \n",
       "  \n",
       "  [34320 rows x 341 columns],\n",
       "                       TotalEntries  Temperature  Precipitation  Open/Closed  \\\n",
       "  Timestamp                                                                    \n",
       "  2019-01-01 00:00:00             0         11.1            0.0            1   \n",
       "  2019-01-01 00:30:00             0         10.1            0.0            0   \n",
       "  2019-01-01 01:00:00             0         10.0            0.0            0   \n",
       "  2019-01-01 01:30:00             0         10.6            0.0            0   \n",
       "  2019-01-01 02:00:00             0          9.5            0.0            0   \n",
       "  2019-01-01 02:30:00             0          8.9            0.0            0   \n",
       "  2019-01-01 03:00:00             0          8.8            0.0            0   \n",
       "  2019-01-01 03:30:00             0          9.4            0.0            0   \n",
       "  2019-01-01 04:00:00             0          9.8            0.0            0   \n",
       "  2019-01-01 04:30:00             4          9.7            0.0            1   \n",
       "  2019-01-01 05:00:00            16          9.5            0.0            1   \n",
       "  2019-01-01 05:30:00            35          9.5            0.0            1   \n",
       "  2019-01-01 06:00:00            38          9.6            0.0            1   \n",
       "  2019-01-01 06:30:00            52         10.3            0.0            1   \n",
       "  2019-01-01 07:00:00            62         12.0            0.0            1   \n",
       "  2019-01-01 07:30:00            42         13.0            0.0            1   \n",
       "  2019-01-01 08:00:00            52         14.0            0.0            1   \n",
       "  2019-01-01 08:30:00            41         14.4            0.0            1   \n",
       "  2019-01-01 09:00:00            72         15.1            0.0            1   \n",
       "  2019-01-01 09:30:00            46         15.4            0.0            1   \n",
       "  2019-01-01 10:00:00            44         15.2            0.0            1   \n",
       "  2019-01-01 10:30:00            77         15.3            0.0            1   \n",
       "  2019-01-01 11:00:00            83         15.5            0.0            1   \n",
       "  2019-01-01 11:30:00           111         15.6            0.0            1   \n",
       "  2019-01-01 12:00:00            95         15.5            0.0            1   \n",
       "  2019-01-01 12:30:00           130         15.3            0.0            1   \n",
       "  2019-01-01 13:00:00           117         15.2            0.0            1   \n",
       "  2019-01-01 13:30:00            93         14.6            0.0            1   \n",
       "  2019-01-01 14:00:00            78         14.5            0.0            1   \n",
       "  2019-01-01 14:30:00            90         14.3            0.0            1   \n",
       "  ...                           ...          ...            ...          ...   \n",
       "  2019-02-24 09:00:00            93         14.8            0.0            1   \n",
       "  2019-02-24 09:30:00           167         14.7            0.0            1   \n",
       "  2019-02-24 10:00:00           124         14.5            0.0            1   \n",
       "  2019-02-24 10:30:00           168         14.2            0.0            1   \n",
       "  2019-02-24 11:00:00           160         14.5            0.0            1   \n",
       "  2019-02-24 11:30:00           183         14.5            0.0            1   \n",
       "  2019-02-24 12:00:00           162         14.4            0.0            1   \n",
       "  2019-02-24 12:30:00           166         14.2            0.0            1   \n",
       "  2019-02-24 13:00:00           177         14.1            0.0            1   \n",
       "  2019-02-24 13:30:00           140         14.1            0.0            1   \n",
       "  2019-02-24 14:00:00           126         14.4            0.0            1   \n",
       "  2019-02-24 14:30:00           100         13.9            0.0            1   \n",
       "  2019-02-24 15:00:00           112         13.7            0.0            1   \n",
       "  2019-02-24 15:30:00            76         13.3            0.0            1   \n",
       "  2019-02-24 16:00:00           100         13.1            0.0            1   \n",
       "  2019-02-24 16:30:00           143         12.8            0.0            1   \n",
       "  2019-02-24 17:00:00           109         12.7            0.0            1   \n",
       "  2019-02-24 17:30:00           101         12.5            0.0            1   \n",
       "  2019-02-24 18:00:00           114         12.3            0.0            1   \n",
       "  2019-02-24 18:30:00           107         12.1            0.0            1   \n",
       "  2019-02-24 19:00:00           144         12.0            0.0            1   \n",
       "  2019-02-24 19:30:00           123         12.0            0.0            1   \n",
       "  2019-02-24 20:00:00           105         11.8            0.0            1   \n",
       "  2019-02-24 20:30:00           124         11.7            0.0            1   \n",
       "  2019-02-24 21:00:00            91         11.5            0.0            1   \n",
       "  2019-02-24 21:30:00            79         11.3            0.0            1   \n",
       "  2019-02-24 22:00:00            53         11.2            0.0            1   \n",
       "  2019-02-24 22:30:00            29         11.1            0.0            1   \n",
       "  2019-02-24 23:00:00            20         11.2            0.0            1   \n",
       "  2019-02-24 23:30:00            13         11.2            0.0            1   \n",
       "  \n",
       "                       Weekday/Weekend    t-1    t-2    t-3    t-4    t-5  ...  \\\n",
       "  Timestamp                                                                ...   \n",
       "  2019-01-01 00:00:00                1    7.0   29.0   24.0   36.0   51.0  ...   \n",
       "  2019-01-01 00:30:00                1    0.0    7.0   29.0   24.0   36.0  ...   \n",
       "  2019-01-01 01:00:00                1    0.0    0.0    7.0   29.0   24.0  ...   \n",
       "  2019-01-01 01:30:00                1    0.0    0.0    0.0    7.0   29.0  ...   \n",
       "  2019-01-01 02:00:00                1    0.0    0.0    0.0    0.0    7.0  ...   \n",
       "  2019-01-01 02:30:00                1    0.0    0.0    0.0    0.0    0.0  ...   \n",
       "  2019-01-01 03:00:00                1    0.0    0.0    0.0    0.0    0.0  ...   \n",
       "  2019-01-01 03:30:00                1    0.0    0.0    0.0    0.0    0.0  ...   \n",
       "  2019-01-01 04:00:00                1    0.0    0.0    0.0    0.0    0.0  ...   \n",
       "  2019-01-01 04:30:00                1    0.0    0.0    0.0    0.0    0.0  ...   \n",
       "  2019-01-01 05:00:00                1    4.0    0.0    0.0    0.0    0.0  ...   \n",
       "  2019-01-01 05:30:00                1   16.0    4.0    0.0    0.0    0.0  ...   \n",
       "  2019-01-01 06:00:00                1   35.0   16.0    4.0    0.0    0.0  ...   \n",
       "  2019-01-01 06:30:00                1   38.0   35.0   16.0    4.0    0.0  ...   \n",
       "  2019-01-01 07:00:00                1   52.0   38.0   35.0   16.0    4.0  ...   \n",
       "  2019-01-01 07:30:00                1   62.0   52.0   38.0   35.0   16.0  ...   \n",
       "  2019-01-01 08:00:00                1   42.0   62.0   52.0   38.0   35.0  ...   \n",
       "  2019-01-01 08:30:00                1   52.0   42.0   62.0   52.0   38.0  ...   \n",
       "  2019-01-01 09:00:00                1   41.0   52.0   42.0   62.0   52.0  ...   \n",
       "  2019-01-01 09:30:00                1   72.0   41.0   52.0   42.0   62.0  ...   \n",
       "  2019-01-01 10:00:00                1   46.0   72.0   41.0   52.0   42.0  ...   \n",
       "  2019-01-01 10:30:00                1   44.0   46.0   72.0   41.0   52.0  ...   \n",
       "  2019-01-01 11:00:00                1   77.0   44.0   46.0   72.0   41.0  ...   \n",
       "  2019-01-01 11:30:00                1   83.0   77.0   44.0   46.0   72.0  ...   \n",
       "  2019-01-01 12:00:00                1  111.0   83.0   77.0   44.0   46.0  ...   \n",
       "  2019-01-01 12:30:00                1   95.0  111.0   83.0   77.0   44.0  ...   \n",
       "  2019-01-01 13:00:00                1  130.0   95.0  111.0   83.0   77.0  ...   \n",
       "  2019-01-01 13:30:00                1  117.0  130.0   95.0  111.0   83.0  ...   \n",
       "  2019-01-01 14:00:00                1   93.0  117.0  130.0   95.0  111.0  ...   \n",
       "  2019-01-01 14:30:00                1   78.0   93.0  117.0  130.0   95.0  ...   \n",
       "  ...                              ...    ...    ...    ...    ...    ...  ...   \n",
       "  2019-02-24 09:00:00                0  137.0   91.0   80.0   33.0   56.0  ...   \n",
       "  2019-02-24 09:30:00                0   93.0  137.0   91.0   80.0   33.0  ...   \n",
       "  2019-02-24 10:00:00                0  167.0   93.0  137.0   91.0   80.0  ...   \n",
       "  2019-02-24 10:30:00                0  124.0  167.0   93.0  137.0   91.0  ...   \n",
       "  2019-02-24 11:00:00                0  168.0  124.0  167.0   93.0  137.0  ...   \n",
       "  2019-02-24 11:30:00                0  160.0  168.0  124.0  167.0   93.0  ...   \n",
       "  2019-02-24 12:00:00                0  183.0  160.0  168.0  124.0  167.0  ...   \n",
       "  2019-02-24 12:30:00                0  162.0  183.0  160.0  168.0  124.0  ...   \n",
       "  2019-02-24 13:00:00                0  166.0  162.0  183.0  160.0  168.0  ...   \n",
       "  2019-02-24 13:30:00                0  177.0  166.0  162.0  183.0  160.0  ...   \n",
       "  2019-02-24 14:00:00                0  140.0  177.0  166.0  162.0  183.0  ...   \n",
       "  2019-02-24 14:30:00                0  126.0  140.0  177.0  166.0  162.0  ...   \n",
       "  2019-02-24 15:00:00                0  100.0  126.0  140.0  177.0  166.0  ...   \n",
       "  2019-02-24 15:30:00                0  112.0  100.0  126.0  140.0  177.0  ...   \n",
       "  2019-02-24 16:00:00                0   76.0  112.0  100.0  126.0  140.0  ...   \n",
       "  2019-02-24 16:30:00                0  100.0   76.0  112.0  100.0  126.0  ...   \n",
       "  2019-02-24 17:00:00                0  143.0  100.0   76.0  112.0  100.0  ...   \n",
       "  2019-02-24 17:30:00                0  109.0  143.0  100.0   76.0  112.0  ...   \n",
       "  2019-02-24 18:00:00                0  101.0  109.0  143.0  100.0   76.0  ...   \n",
       "  2019-02-24 18:30:00                0  114.0  101.0  109.0  143.0  100.0  ...   \n",
       "  2019-02-24 19:00:00                0  107.0  114.0  101.0  109.0  143.0  ...   \n",
       "  2019-02-24 19:30:00                0  144.0  107.0  114.0  101.0  109.0  ...   \n",
       "  2019-02-24 20:00:00                0  123.0  144.0  107.0  114.0  101.0  ...   \n",
       "  2019-02-24 20:30:00                0  105.0  123.0  144.0  107.0  114.0  ...   \n",
       "  2019-02-24 21:00:00                0  124.0  105.0  123.0  144.0  107.0  ...   \n",
       "  2019-02-24 21:30:00                0   91.0  124.0  105.0  123.0  144.0  ...   \n",
       "  2019-02-24 22:00:00                0   79.0   91.0  124.0  105.0  123.0  ...   \n",
       "  2019-02-24 22:30:00                0   53.0   79.0   91.0  124.0  105.0  ...   \n",
       "  2019-02-24 23:00:00                0   29.0   53.0   79.0   91.0  124.0  ...   \n",
       "  2019-02-24 23:30:00                0   20.0   29.0   53.0   79.0   91.0  ...   \n",
       "  \n",
       "                       t-327  t-328  t-329  t-330  t-331  t-332  t-333  t-334  \\\n",
       "  Timestamp                                                                     \n",
       "  2019-01-01 00:00:00    0.0    0.0    0.0    0.0    0.0    0.0    0.0    0.0   \n",
       "  2019-01-01 00:30:00    0.0    0.0    0.0    0.0    0.0    0.0    0.0    0.0   \n",
       "  2019-01-01 01:00:00    4.0    0.0    0.0    0.0    0.0    0.0    0.0    0.0   \n",
       "  2019-01-01 01:30:00    8.0    4.0    0.0    0.0    0.0    0.0    0.0    0.0   \n",
       "  2019-01-01 02:00:00   27.0    8.0    4.0    0.0    0.0    0.0    0.0    0.0   \n",
       "  2019-01-01 02:30:00   50.0   27.0    8.0    4.0    0.0    0.0    0.0    0.0   \n",
       "  2019-01-01 03:00:00   33.0   50.0   27.0    8.0    4.0    0.0    0.0    0.0   \n",
       "  2019-01-01 03:30:00   41.0   33.0   50.0   27.0    8.0    4.0    0.0    0.0   \n",
       "  2019-01-01 04:00:00   58.0   41.0   33.0   50.0   27.0    8.0    4.0    0.0   \n",
       "  2019-01-01 04:30:00   42.0   58.0   41.0   33.0   50.0   27.0    8.0    4.0   \n",
       "  2019-01-01 05:00:00   64.0   42.0   58.0   41.0   33.0   50.0   27.0    8.0   \n",
       "  2019-01-01 05:30:00   88.0   64.0   42.0   58.0   41.0   33.0   50.0   27.0   \n",
       "  2019-01-01 06:00:00  114.0   88.0   64.0   42.0   58.0   41.0   33.0   50.0   \n",
       "  2019-01-01 06:30:00  126.0  114.0   88.0   64.0   42.0   58.0   41.0   33.0   \n",
       "  2019-01-01 07:00:00  216.0  126.0  114.0   88.0   64.0   42.0   58.0   41.0   \n",
       "  2019-01-01 07:30:00  194.0  216.0  126.0  114.0   88.0   64.0   42.0   58.0   \n",
       "  2019-01-01 08:00:00  248.0  194.0  216.0  126.0  114.0   88.0   64.0   42.0   \n",
       "  2019-01-01 08:30:00  185.0  248.0  194.0  216.0  126.0  114.0   88.0   64.0   \n",
       "  2019-01-01 09:00:00  134.0  185.0  248.0  194.0  216.0  126.0  114.0   88.0   \n",
       "  2019-01-01 09:30:00   77.0  134.0  185.0  248.0  194.0  216.0  126.0  114.0   \n",
       "  2019-01-01 10:00:00   70.0   77.0  134.0  185.0  248.0  194.0  216.0  126.0   \n",
       "  2019-01-01 10:30:00   61.0   70.0   77.0  134.0  185.0  248.0  194.0  216.0   \n",
       "  2019-01-01 11:00:00   47.0   61.0   70.0   77.0  134.0  185.0  248.0  194.0   \n",
       "  2019-01-01 11:30:00   52.0   47.0   61.0   70.0   77.0  134.0  185.0  248.0   \n",
       "  2019-01-01 12:00:00   80.0   52.0   47.0   61.0   70.0   77.0  134.0  185.0   \n",
       "  2019-01-01 12:30:00  107.0   80.0   52.0   47.0   61.0   70.0   77.0  134.0   \n",
       "  2019-01-01 13:00:00  134.0  107.0   80.0   52.0   47.0   61.0   70.0   77.0   \n",
       "  2019-01-01 13:30:00  185.0  134.0  107.0   80.0   52.0   47.0   61.0   70.0   \n",
       "  2019-01-01 14:00:00  143.0  185.0  134.0  107.0   80.0   52.0   47.0   61.0   \n",
       "  2019-01-01 14:30:00  150.0  143.0  185.0  134.0  107.0   80.0   52.0   47.0   \n",
       "  ...                    ...    ...    ...    ...    ...    ...    ...    ...   \n",
       "  2019-02-24 09:00:00   37.0   38.0   36.0   33.0   45.0   40.0   29.0   19.0   \n",
       "  2019-02-24 09:30:00   25.0   37.0   38.0   36.0   33.0   45.0   40.0   29.0   \n",
       "  2019-02-24 10:00:00   16.0   25.0   37.0   38.0   36.0   33.0   45.0   40.0   \n",
       "  2019-02-24 10:30:00   18.0   16.0   25.0   37.0   38.0   36.0   33.0   45.0   \n",
       "  2019-02-24 11:00:00   24.0   18.0   16.0   25.0   37.0   38.0   36.0   33.0   \n",
       "  2019-02-24 11:30:00   26.0   24.0   18.0   16.0   25.0   37.0   38.0   36.0   \n",
       "  2019-02-24 12:00:00   30.0   26.0   24.0   18.0   16.0   25.0   37.0   38.0   \n",
       "  2019-02-24 12:30:00   30.0   30.0   26.0   24.0   18.0   16.0   25.0   37.0   \n",
       "  2019-02-24 13:00:00   14.0   30.0   30.0   26.0   24.0   18.0   16.0   25.0   \n",
       "  2019-02-24 13:30:00   25.0   14.0   30.0   30.0   26.0   24.0   18.0   16.0   \n",
       "  2019-02-24 14:00:00   24.0   25.0   14.0   30.0   30.0   26.0   24.0   18.0   \n",
       "  2019-02-24 14:30:00   24.0   24.0   25.0   14.0   30.0   30.0   26.0   24.0   \n",
       "  2019-02-24 15:00:00   29.0   24.0   24.0   25.0   14.0   30.0   30.0   26.0   \n",
       "  2019-02-24 15:30:00   33.0   29.0   24.0   24.0   25.0   14.0   30.0   30.0   \n",
       "  2019-02-24 16:00:00   22.0   33.0   29.0   24.0   24.0   25.0   14.0   30.0   \n",
       "  2019-02-24 16:30:00   23.0   22.0   33.0   29.0   24.0   24.0   25.0   14.0   \n",
       "  2019-02-24 17:00:00   17.0   23.0   22.0   33.0   29.0   24.0   24.0   25.0   \n",
       "  2019-02-24 17:30:00   12.0   17.0   23.0   22.0   33.0   29.0   24.0   24.0   \n",
       "  2019-02-24 18:00:00   12.0   12.0   17.0   23.0   22.0   33.0   29.0   24.0   \n",
       "  2019-02-24 18:30:00   16.0   12.0   12.0   17.0   23.0   22.0   33.0   29.0   \n",
       "  2019-02-24 19:00:00    9.0   16.0   12.0   12.0   17.0   23.0   22.0   33.0   \n",
       "  2019-02-24 19:30:00    3.0    9.0   16.0   12.0   12.0   17.0   23.0   22.0   \n",
       "  2019-02-24 20:00:00    0.0    3.0    9.0   16.0   12.0   12.0   17.0   23.0   \n",
       "  2019-02-24 20:30:00    0.0    0.0    3.0    9.0   16.0   12.0   12.0   17.0   \n",
       "  2019-02-24 21:00:00    0.0    0.0    0.0    3.0    9.0   16.0   12.0   12.0   \n",
       "  2019-02-24 21:30:00    0.0    0.0    0.0    0.0    3.0    9.0   16.0   12.0   \n",
       "  2019-02-24 22:00:00    0.0    0.0    0.0    0.0    0.0    3.0    9.0   16.0   \n",
       "  2019-02-24 22:30:00    0.0    0.0    0.0    0.0    0.0    0.0    3.0    9.0   \n",
       "  2019-02-24 23:00:00    0.0    0.0    0.0    0.0    0.0    0.0    0.0    3.0   \n",
       "  2019-02-24 23:30:00    0.0    0.0    0.0    0.0    0.0    0.0    0.0    0.0   \n",
       "  \n",
       "                       t-335  t-336  \n",
       "  Timestamp                          \n",
       "  2019-01-01 00:00:00    0.0    0.0  \n",
       "  2019-01-01 00:30:00    0.0    0.0  \n",
       "  2019-01-01 01:00:00    0.0    0.0  \n",
       "  2019-01-01 01:30:00    0.0    0.0  \n",
       "  2019-01-01 02:00:00    0.0    0.0  \n",
       "  2019-01-01 02:30:00    0.0    0.0  \n",
       "  2019-01-01 03:00:00    0.0    0.0  \n",
       "  2019-01-01 03:30:00    0.0    0.0  \n",
       "  2019-01-01 04:00:00    0.0    0.0  \n",
       "  2019-01-01 04:30:00    0.0    0.0  \n",
       "  2019-01-01 05:00:00    4.0    0.0  \n",
       "  2019-01-01 05:30:00    8.0    4.0  \n",
       "  2019-01-01 06:00:00   27.0    8.0  \n",
       "  2019-01-01 06:30:00   50.0   27.0  \n",
       "  2019-01-01 07:00:00   33.0   50.0  \n",
       "  2019-01-01 07:30:00   41.0   33.0  \n",
       "  2019-01-01 08:00:00   58.0   41.0  \n",
       "  2019-01-01 08:30:00   42.0   58.0  \n",
       "  2019-01-01 09:00:00   64.0   42.0  \n",
       "  2019-01-01 09:30:00   88.0   64.0  \n",
       "  2019-01-01 10:00:00  114.0   88.0  \n",
       "  2019-01-01 10:30:00  126.0  114.0  \n",
       "  2019-01-01 11:00:00  216.0  126.0  \n",
       "  2019-01-01 11:30:00  194.0  216.0  \n",
       "  2019-01-01 12:00:00  248.0  194.0  \n",
       "  2019-01-01 12:30:00  185.0  248.0  \n",
       "  2019-01-01 13:00:00  134.0  185.0  \n",
       "  2019-01-01 13:30:00   77.0  134.0  \n",
       "  2019-01-01 14:00:00   70.0   77.0  \n",
       "  2019-01-01 14:30:00   61.0   70.0  \n",
       "  ...                    ...    ...  \n",
       "  2019-02-24 09:00:00   30.0   16.0  \n",
       "  2019-02-24 09:30:00   19.0   30.0  \n",
       "  2019-02-24 10:00:00   29.0   19.0  \n",
       "  2019-02-24 10:30:00   40.0   29.0  \n",
       "  2019-02-24 11:00:00   45.0   40.0  \n",
       "  2019-02-24 11:30:00   33.0   45.0  \n",
       "  2019-02-24 12:00:00   36.0   33.0  \n",
       "  2019-02-24 12:30:00   38.0   36.0  \n",
       "  2019-02-24 13:00:00   37.0   38.0  \n",
       "  2019-02-24 13:30:00   25.0   37.0  \n",
       "  2019-02-24 14:00:00   16.0   25.0  \n",
       "  2019-02-24 14:30:00   18.0   16.0  \n",
       "  2019-02-24 15:00:00   24.0   18.0  \n",
       "  2019-02-24 15:30:00   26.0   24.0  \n",
       "  2019-02-24 16:00:00   30.0   26.0  \n",
       "  2019-02-24 16:30:00   30.0   30.0  \n",
       "  2019-02-24 17:00:00   14.0   30.0  \n",
       "  2019-02-24 17:30:00   25.0   14.0  \n",
       "  2019-02-24 18:00:00   24.0   25.0  \n",
       "  2019-02-24 18:30:00   24.0   24.0  \n",
       "  2019-02-24 19:00:00   29.0   24.0  \n",
       "  2019-02-24 19:30:00   33.0   29.0  \n",
       "  2019-02-24 20:00:00   22.0   33.0  \n",
       "  2019-02-24 20:30:00   23.0   22.0  \n",
       "  2019-02-24 21:00:00   17.0   23.0  \n",
       "  2019-02-24 21:30:00   12.0   17.0  \n",
       "  2019-02-24 22:00:00   12.0   12.0  \n",
       "  2019-02-24 22:30:00   16.0   12.0  \n",
       "  2019-02-24 23:00:00    9.0   16.0  \n",
       "  2019-02-24 23:30:00    3.0    9.0  \n",
       "  \n",
       "  [2640 rows x 341 columns])]"
      ]
     },
     "execution_count": 37,
     "metadata": {},
     "output_type": "execute_result"
    }
   ],
   "source": [
    "cv"
   ]
  },
  {
   "cell_type": "code",
   "execution_count": null,
   "metadata": {},
   "outputs": [],
   "source": []
  },
  {
   "cell_type": "code",
   "execution_count": null,
   "metadata": {},
   "outputs": [],
   "source": []
  },
  {
   "cell_type": "code",
   "execution_count": null,
   "metadata": {},
   "outputs": [],
   "source": []
  },
  {
   "cell_type": "code",
   "execution_count": null,
   "metadata": {},
   "outputs": [],
   "source": []
  },
  {
   "cell_type": "code",
   "execution_count": null,
   "metadata": {},
   "outputs": [],
   "source": []
  },
  {
   "cell_type": "code",
   "execution_count": null,
   "metadata": {},
   "outputs": [],
   "source": []
  },
  {
   "cell_type": "code",
   "execution_count": null,
   "metadata": {},
   "outputs": [],
   "source": []
  },
  {
   "cell_type": "code",
   "execution_count": null,
   "metadata": {},
   "outputs": [],
   "source": []
  },
  {
   "cell_type": "code",
   "execution_count": null,
   "metadata": {},
   "outputs": [],
   "source": []
  },
  {
   "cell_type": "code",
   "execution_count": null,
   "metadata": {},
   "outputs": [],
   "source": []
  },
  {
   "cell_type": "code",
   "execution_count": null,
   "metadata": {},
   "outputs": [],
   "source": []
  },
  {
   "cell_type": "code",
   "execution_count": null,
   "metadata": {},
   "outputs": [],
   "source": []
  },
  {
   "cell_type": "code",
   "execution_count": null,
   "metadata": {},
   "outputs": [],
   "source": []
  },
  {
   "cell_type": "code",
   "execution_count": null,
   "metadata": {},
   "outputs": [],
   "source": []
  },
  {
   "cell_type": "code",
   "execution_count": null,
   "metadata": {},
   "outputs": [],
   "source": []
  },
  {
   "cell_type": "code",
   "execution_count": null,
   "metadata": {},
   "outputs": [],
   "source": []
  },
  {
   "cell_type": "code",
   "execution_count": null,
   "metadata": {},
   "outputs": [
    {
     "name": "stderr",
     "output_type": "stream",
     "text": [
      "\n",
      "  0%|          | 0/199 [00:00<?, ?it/s]\u001b[A\n",
      "  1%|          | 1/199 [02:23<7:53:51, 143.60s/it]\u001b[A\n",
      "  1%|          | 2/199 [04:55<7:59:46, 146.12s/it]\u001b[A\n",
      "  2%|▏         | 3/199 [07:30<8:06:17, 148.87s/it]\u001b[A\n",
      "  2%|▏         | 4/199 [10:18<8:21:56, 154.45s/it]\u001b[A\n",
      "  3%|▎         | 5/199 [13:13<8:39:38, 160.71s/it]\u001b[A\n",
      "  3%|▎         | 6/199 [16:10<8:52:06, 165.42s/it]\u001b[A\n",
      "  4%|▎         | 7/199 [19:45<9:37:47, 180.56s/it]\u001b[A\n",
      "  4%|▍         | 8/199 [23:31<10:17:37, 194.02s/it]\u001b[A\n",
      "  5%|▍         | 9/199 [27:23<10:50:34, 205.45s/it]\u001b[A\n",
      "  5%|▌         | 10/199 [31:30<11:26:34, 217.96s/it]\u001b[A\n",
      "  6%|▌         | 11/199 [35:48<12:00:29, 229.95s/it]\u001b[A\n",
      "  6%|▌         | 12/199 [40:14<12:29:58, 240.63s/it]\u001b[A\n",
      "  7%|▋         | 13/199 [46:34<14:35:29, 282.42s/it]\u001b[A\n",
      "  7%|▋         | 14/199 [53:05<16:11:57, 315.23s/it]\u001b[A\n",
      "  8%|▊         | 15/199 [59:43<17:22:12, 339.85s/it]\u001b[A\n",
      "  8%|▊         | 16/199 [1:06:30<18:18:38, 360.21s/it]\u001b[A\n",
      "  9%|▊         | 17/199 [1:13:22<18:59:21, 375.61s/it]\u001b[A\n",
      "  9%|▉         | 18/199 [1:20:24<19:35:27, 389.65s/it]\u001b[A\n",
      " 10%|▉         | 19/199 [1:28:05<20:33:00, 411.01s/it]\u001b[A\n",
      " 10%|█         | 20/199 [1:35:56<21:20:07, 429.09s/it]\u001b[A\n",
      " 11%|█         | 21/199 [1:43:55<21:57:20, 444.05s/it]\u001b[A\n",
      " 11%|█         | 22/199 [1:52:10<22:34:52, 459.28s/it]\u001b[A\n",
      " 12%|█▏        | 23/199 [2:00:41<23:12:07, 474.59s/it]\u001b[A\n",
      " 12%|█▏        | 24/199 [2:09:15<23:39:17, 486.61s/it]\u001b[A\n",
      " 13%|█▎        | 25/199 [2:19:30<25:22:29, 525.00s/it]\u001b[A\n",
      " 13%|█▎        | 26/199 [2:29:57<26:41:55, 555.58s/it]\u001b[A\n",
      " 14%|█▎        | 27/199 [2:40:34<27:43:20, 580.23s/it]\u001b[A\n",
      " 14%|█▍        | 28/199 [2:51:29<28:37:02, 602.47s/it]\u001b[A\n",
      " 15%|█▍        | 29/199 [3:02:34<29:20:34, 621.38s/it]\u001b[A\n",
      " 15%|█▌        | 30/199 [3:13:50<29:56:06, 637.67s/it]\u001b[A\n",
      " 16%|█▌        | 31/199 [3:25:40<30:46:15, 659.38s/it]\u001b[A\n",
      " 16%|█▌        | 32/199 [3:37:43<31:28:40, 678.56s/it]\u001b[A\n",
      " 17%|█▋        | 33/199 [3:49:53<31:59:52, 693.93s/it]\u001b[A\n",
      " 17%|█▋        | 34/199 [4:02:23<32:34:13, 710.63s/it]\u001b[A\n",
      " 18%|█▊        | 35/199 [4:15:06<33:05:16, 726.32s/it]\u001b[A\n",
      " 18%|█▊        | 36/199 [4:28:14<33:43:33, 744.87s/it]\u001b[A\n",
      " 19%|█▊        | 37/199 [4:43:17<35:39:11, 792.29s/it]\u001b[A\n",
      " 19%|█▉        | 38/199 [4:58:20<36:55:19, 825.59s/it]\u001b[A\n",
      " 20%|█▉        | 39/199 [5:13:32<37:50:18, 851.37s/it]\u001b[A\n",
      " 20%|██        | 40/199 [5:29:02<38:38:51, 875.04s/it]\u001b[A\n",
      " 21%|██        | 41/199 [5:44:32<39:07:29, 891.45s/it]\u001b[A\n",
      " 21%|██        | 42/199 [5:59:58<39:20:23, 902.06s/it]\u001b[A\n",
      " 22%|██▏       | 43/199 [6:15:59<39:50:52, 919.57s/it]\u001b[A\n",
      " 22%|██▏       | 44/199 [6:32:12<40:17:12, 935.70s/it]\u001b[A\n",
      " 23%|██▎       | 45/199 [6:48:38<40:39:53, 950.61s/it]\u001b[A\n",
      " 23%|██▎       | 46/199 [7:05:13<40:58:29, 964.11s/it]\u001b[A\n",
      " 24%|██▎       | 47/199 [7:22:01<41:15:51, 977.31s/it]\u001b[A\n",
      " 24%|██▍       | 48/199 [7:38:57<41:28:45, 988.91s/it]\u001b[A\n",
      " 25%|██▍       | 49/199 [7:57:36<42:49:37, 1027.85s/it]\u001b[A\n",
      " 25%|██▌       | 50/199 [8:16:27<43:49:29, 1058.85s/it]\u001b[A\n",
      " 26%|██▌       | 51/199 [8:35:33<44:36:14, 1084.96s/it]\u001b[A\n",
      " 26%|██▌       | 52/199 [8:54:49<45:10:23, 1106.28s/it]\u001b[A\n",
      " 27%|██▋       | 53/199 [9:14:21<45:39:59, 1126.02s/it]\u001b[A\n",
      " 27%|██▋       | 54/199 [9:34:01<46:00:32, 1142.29s/it]\u001b[A\n",
      " 28%|██▊       | 55/199 [9:54:16<46:33:41, 1164.04s/it]\u001b[A\n",
      " 28%|██▊       | 56/199 [10:14:39<46:56:36, 1181.79s/it]\u001b[A\n",
      " 29%|██▊       | 57/199 [10:35:28<47:24:33, 1201.92s/it]\u001b[A\n",
      " 29%|██▉       | 58/199 [10:56:32<47:48:10, 1220.50s/it]\u001b[A\n",
      " 30%|██▉       | 59/199 [11:17:44<48:03:55, 1235.97s/it]\u001b[A\n",
      " 30%|███       | 60/199 [11:39:23<48:26:42, 1254.70s/it]\u001b[A\n",
      " 31%|███       | 61/199 [12:02:34<49:39:56, 1295.62s/it]\u001b[A\n",
      " 31%|███       | 62/199 [12:25:50<50:27:28, 1325.90s/it]\u001b[A\n",
      " 32%|███▏      | 63/199 [12:49:24<51:05:19, 1352.35s/it]\u001b[A\n",
      " 32%|███▏      | 64/199 [13:13:10<51:32:16, 1374.35s/it]\u001b[A\n",
      " 33%|███▎      | 65/199 [13:37:06<51:50:43, 1392.86s/it]\u001b[A\n",
      " 33%|███▎      | 66/199 [14:01:20<52:08:19, 1411.27s/it]\u001b[A\n",
      " 34%|███▎      | 67/199 [14:26:09<52:35:39, 1434.39s/it]\u001b[A\n",
      " 34%|███▍      | 68/199 [14:51:01<52:49:25, 1451.65s/it]\u001b[A\n",
      " 35%|███▍      | 69/199 [15:16:13<53:04:46, 1469.90s/it]\u001b[A\n",
      " 35%|███▌      | 70/199 [15:41:42<53:18:25, 1487.64s/it]\u001b[A\n",
      " 36%|███▌      | 71/199 [16:07:36<53:35:57, 1507.48s/it]\u001b[A\n",
      " 36%|███▌      | 72/199 [16:33:54<53:55:45, 1528.70s/it]\u001b[A\n",
      " 37%|███▋      | 73/199 [17:01:26<54:47:55, 1565.68s/it]\u001b[A\n",
      " 37%|███▋      | 74/199 [17:29:30<55:35:53, 1601.23s/it]\u001b[A\n",
      " 38%|███▊      | 75/199 [17:57:44<56:06:21, 1628.88s/it]\u001b[A\n",
      " 38%|███▊      | 76/199 [18:26:13<56:28:39, 1653.01s/it]\u001b[A\n",
      " 39%|███▊      | 77/199 [18:55:05<56:49:36, 1676.86s/it]\u001b[A\n",
      " 39%|███▉      | 78/199 [19:24:01<56:57:07, 1694.44s/it]\u001b[A\n",
      " 40%|███▉      | 79/199 [19:53:38<57:18:27, 1719.23s/it]\u001b[A\n",
      " 40%|████      | 80/199 [20:23:18<57:25:54, 1737.44s/it]\u001b[A\n",
      " 41%|████      | 81/199 [20:53:18<57:34:04, 1756.31s/it]\u001b[A\n",
      " 41%|████      | 82/199 [21:23:44<57:45:20, 1777.10s/it]\u001b[A\n",
      " 42%|████▏     | 83/199 [21:54:16<57:47:53, 1793.74s/it]\u001b[A\n",
      " 42%|████▏     | 84/199 [22:25:02<57:47:59, 1809.39s/it]\u001b[A\n",
      " 43%|████▎     | 85/199 [22:57:11<58:25:50, 1845.18s/it]\u001b[A\n",
      " 43%|████▎     | 86/199 [23:29:34<58:50:29, 1874.60s/it]\u001b[A\n",
      " 44%|████▎     | 87/199 [24:02:16<59:08:13, 1900.84s/it]\u001b[A\n",
      " 44%|████▍     | 88/199 [24:35:19<59:22:02, 1925.43s/it]\u001b[A\n",
      " 45%|████▍     | 89/199 [25:08:23<59:22:11, 1943.02s/it]\u001b[A\n",
      " 45%|████▌     | 90/199 [25:41:51<59:25:03, 1962.42s/it]\u001b[A\n",
      " 46%|████▌     | 91/199 [26:15:54<59:36:04, 1986.71s/it]\u001b[A\n",
      " 46%|████▌     | 92/199 [26:50:09<59:39:36, 2007.26s/it]\u001b[A"
     ]
    }
   ],
   "source": [
    "# Determining range of estimators and max_depth\n",
    "ne = range(1, 200)\n",
    "md = range(1, 50)\n",
    "\n",
    "start_RF_tune = time.time()\n",
    "\n",
    "best_RMSE = []\n",
    "for ne in tqdm(range(1, 200)):\n",
    "    for md in range(1, 50):\n",
    "        RF_temp_model = RandomForestRegressor(n_estimators = ne, max_depth = md, n_jobs = -1, random_state = 42)\n",
    "        RF_temp_model = RF_temp_model.fit(X_train, y_train)\n",
    "        y_dev_hat = RF_temp_model.predict(X_dev)\n",
    "        RMSE_scoring = np.sqrt(mean_squared_error(y_dev, y_dev_hat))\n",
    "        \n",
    "        if pd.DataFrame(best_RMSE).empty:\n",
    "            best_RMSE = [ne, md, RMSE_scoring]\n",
    "            \n",
    "        else:\n",
    "            if RMSE_scoring > np.array(best_RMSE)[2]:\n",
    "                best_RMSE = [ne, md, RMSE_scoring]\n",
    "\n",
    "end_RF_tune = time.stime()\n",
    "RF_tuning_runtime = end_RF_tune - start_RF_tune"
   ]
  },
  {
   "cell_type": "code",
   "execution_count": null,
   "metadata": {},
   "outputs": [],
   "source": []
  }
 ],
 "metadata": {
  "kernelspec": {
   "display_name": "Python 3",
   "language": "python",
   "name": "python3"
  },
  "language_info": {
   "codemirror_mode": {
    "name": "ipython",
    "version": 3
   },
   "file_extension": ".py",
   "mimetype": "text/x-python",
   "name": "python",
   "nbconvert_exporter": "python",
   "pygments_lexer": "ipython3",
   "version": "3.6.8"
  }
 },
 "nbformat": 4,
 "nbformat_minor": 2
}
