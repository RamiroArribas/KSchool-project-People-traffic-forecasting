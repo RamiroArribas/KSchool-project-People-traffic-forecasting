{
 "cells": [
  {
   "cell_type": "code",
   "execution_count": null,
   "metadata": {},
   "outputs": [],
   "source": [
    "def train_dev_test_split(X_data, y_data):\n",
    "    \"\"\"\n",
    "    Function to split data in train (0.6), dev (0.2) and test (0.2).\n",
    "    \n",
    "    Parameters\n",
    "    ----------\n",
    "        \n",
    "    X_data : pd.DataFrame\n",
    "        Data frame containing independent variables observations along the time series and timestamp as index.\n",
    "        \n",
    "    y_data : pandas Series\n",
    "        Data frame of the target variable observed values along the time series and timestamp as index. \n",
    "        \n",
    "    \"\"\"\n",
    "     \n",
    "    assert X_data.shape[0] == len(y_data), 'X and y number of rows should be the same'\n",
    "    \n",
    "    X_data.sort_index(inplace=True)\n",
    "    y_data.sort_index(inplace=True)\n",
    "    \n",
    "    cut1 = int(0.6*len(X_data))\n",
    "    cut2 = ((len(X_data)-cut1)//2) + cut1\n",
    "    X_train = X_data[:cut1]\n",
    "    X_dev = X_data[cut1:cut2]\n",
    "    X_test = X_data[cut2:]\n",
    "    y_train = y_data[:cut1]\n",
    "    y_dev = y_data[cut1:cut2]\n",
    "    y_test = y_data[cut2:]\n",
    "    \n",
    "    return X_train, X_dev, X_test, y_train, y_dev, y_test"
   ]
  }
 ],
 "metadata": {
  "kernelspec": {
   "display_name": "Python 3",
   "language": "python",
   "name": "python3"
  },
  "language_info": {
   "codemirror_mode": {
    "name": "ipython",
    "version": 3
   },
   "file_extension": ".py",
   "mimetype": "text/x-python",
   "name": "python",
   "nbconvert_exporter": "python",
   "pygments_lexer": "ipython3",
   "version": "3.6.8"
  }
 },
 "nbformat": 4,
 "nbformat_minor": 2
}
