{
 "cells": [
  {
   "cell_type": "code",
   "execution_count": 47,
   "metadata": {},
   "outputs": [],
   "source": [
    "import numpy as np\n",
    "import pandas as pd\n",
    "import datetime\n",
    "import time\n",
    "from tqdm import tqdm\n",
    "\n",
    "%run ./../custom_functions/train_dev_test_split.ipynb\n",
    "%run ./../custom_functions/get_future_predictions.ipynb\n",
    "\n",
    "from sklearn.linear_model import LinearRegression\n",
    "from pmdarima import auto_arima"
   ]
  },
  {
   "cell_type": "code",
   "execution_count": 5,
   "metadata": {},
   "outputs": [],
   "source": [
    "ravaln_df = pd.read_csv('./../../../Databases/clean_data/ravaln_lags_data.csv')\n",
    "ravaln_df.set_index('Timestamp', inplace=True)\n",
    "ravaln_df.sort_index(inplace=True)\n",
    "\n",
    "ravaln_daily = pd.read_csv('./../../../Databases/clean_data/ravaln_dailylags_data.csv')\n",
    "ravaln_daily.set_index('Timestamp', inplace=True)\n",
    "ravaln_daily.sort_index(inplace=True)"
   ]
  },
  {
   "cell_type": "code",
   "execution_count": 7,
   "metadata": {},
   "outputs": [],
   "source": [
    "# Let's import the marag data with no lags for future comparative purposes\n",
    "no_lags_ravn = pd.read_csv('./../../../Databases/clean_data/ravaln_data.csv')\n",
    "no_lags_ravn.set_index('Timestamp', inplace=True)\n",
    "no_lags_ravn.sort_index(inplace=True)\n",
    "\n",
    "daily_nolags_ravn = pd.read_csv('./../../../Databases/clean_data/ravaln_daily_data.csv')\n",
    "daily_nolags_ravn.set_index('Timestamp', inplace=True)\n",
    "daily_nolags_ravn.sort_index(inplace=True)"
   ]
  },
  {
   "cell_type": "code",
   "execution_count": 24,
   "metadata": {},
   "outputs": [],
   "source": [
    "ravn_results = pd.DataFrame\n",
    "ravn_runtime = pd.DataFrame"
   ]
  },
  {
   "cell_type": "markdown",
   "metadata": {},
   "source": [
    "### Linear regression: high frequency data, all columns"
   ]
  },
  {
   "cell_type": "code",
   "execution_count": 9,
   "metadata": {},
   "outputs": [],
   "source": [
    "X_train, X_dev, X_test, y_train, y_dev, y_test = train_dev_test_split(ravaln_df.drop(['TotalEntries'], axis=1), \n",
    "                                                                      ravaln_df['TotalEntries'])\n",
    "\n",
    "lr_X_train = pd.concat([X_train, X_dev])\n",
    "lr_X_train.sort_index(inplace=True)\n",
    "lr_y_train = pd.concat([y_train, y_dev])\n",
    "lr_y_train.sort_index(inplace=True)"
   ]
  },
  {
   "cell_type": "code",
   "execution_count": 10,
   "metadata": {},
   "outputs": [],
   "source": [
    "lr_model = LinearRegression().fit(lr_X_train, lr_y_train)"
   ]
  },
  {
   "cell_type": "code",
   "execution_count": 12,
   "metadata": {},
   "outputs": [
    {
     "name": "stderr",
     "output_type": "stream",
     "text": [
      "100%|██████████| 797/797 [06:27<00:00,  1.95it/s]\n"
     ]
    }
   ],
   "source": [
    "start_PUF_allcols = time.time()\n",
    "\n",
    "lr_all_future_df = get_future_preds(no_lags_ravn, lr_X_train, X_test, lr_model)\n",
    "\n",
    "end_PUF_allcols = time.time()\n",
    "lr_runtime_PUF_allcols = end_PUF_allcols - start_PUF_allcols\n",
    "lr_runtime_PUF_allcols = pd.DataFrame(pd.Series(lr_runtime_PUF_allcols, name = 'PUF_allcols_lr_runtime'))\n",
    "lr_all_future_df.columns = ['TotEntr_PUF_allcols']"
   ]
  },
  {
   "cell_type": "code",
   "execution_count": 21,
   "metadata": {},
   "outputs": [
    {
     "data": {
      "text/html": [
       "<div>\n",
       "<style scoped>\n",
       "    .dataframe tbody tr th:only-of-type {\n",
       "        vertical-align: middle;\n",
       "    }\n",
       "\n",
       "    .dataframe tbody tr th {\n",
       "        vertical-align: top;\n",
       "    }\n",
       "\n",
       "    .dataframe thead th {\n",
       "        text-align: right;\n",
       "    }\n",
       "</style>\n",
       "<table border=\"1\" class=\"dataframe\">\n",
       "  <thead>\n",
       "    <tr style=\"text-align: right;\">\n",
       "      <th></th>\n",
       "      <th>TotEntr_PUF_allcols</th>\n",
       "    </tr>\n",
       "    <tr>\n",
       "      <th>Timestamp</th>\n",
       "      <th></th>\n",
       "    </tr>\n",
       "  </thead>\n",
       "  <tbody>\n",
       "    <tr>\n",
       "      <th>2019-02-08 09:30:00</th>\n",
       "      <td>126.068275</td>\n",
       "    </tr>\n",
       "    <tr>\n",
       "      <th>2019-02-08 10:00:00</th>\n",
       "      <td>162.719970</td>\n",
       "    </tr>\n",
       "    <tr>\n",
       "      <th>2019-02-08 10:30:00</th>\n",
       "      <td>214.956078</td>\n",
       "    </tr>\n",
       "    <tr>\n",
       "      <th>2019-02-08 11:00:00</th>\n",
       "      <td>308.750372</td>\n",
       "    </tr>\n",
       "    <tr>\n",
       "      <th>2019-02-08 11:30:00</th>\n",
       "      <td>290.580447</td>\n",
       "    </tr>\n",
       "  </tbody>\n",
       "</table>\n",
       "</div>"
      ],
      "text/plain": [
       "                     TotEntr_PUF_allcols\n",
       "Timestamp                               \n",
       "2019-02-08 09:30:00           126.068275\n",
       "2019-02-08 10:00:00           162.719970\n",
       "2019-02-08 10:30:00           214.956078\n",
       "2019-02-08 11:00:00           308.750372\n",
       "2019-02-08 11:30:00           290.580447"
      ]
     },
     "execution_count": 21,
     "metadata": {},
     "output_type": "execute_result"
    }
   ],
   "source": [
    "lr_all_future_df.head()"
   ]
  },
  {
   "cell_type": "code",
   "execution_count": 44,
   "metadata": {
    "scrolled": true
   },
   "outputs": [],
   "source": [
    "ravn_results = pd.DataFrame(pd.Series(ravaln_daily['TotalEntries'][-(lr_preds.shape[0]):], name='obs_values'))\n",
    "lr_all_future_df.index = pd.to_datetime(lr_all_future_df.index)\n",
    "lr_preds = lr_all_future_df.groupby(pd.Grouper(freq='D')).sum()\n",
    "lr_preds.columns = ['LinRegr']\n",
    "ravn_results = pd.concat([ravn_results, lr_preds], axis=1)"
   ]
  },
  {
   "cell_type": "code",
   "execution_count": 45,
   "metadata": {},
   "outputs": [
    {
     "data": {
      "text/html": [
       "<div>\n",
       "<style scoped>\n",
       "    .dataframe tbody tr th:only-of-type {\n",
       "        vertical-align: middle;\n",
       "    }\n",
       "\n",
       "    .dataframe tbody tr th {\n",
       "        vertical-align: top;\n",
       "    }\n",
       "\n",
       "    .dataframe thead th {\n",
       "        text-align: right;\n",
       "    }\n",
       "</style>\n",
       "<table border=\"1\" class=\"dataframe\">\n",
       "  <thead>\n",
       "    <tr style=\"text-align: right;\">\n",
       "      <th></th>\n",
       "      <th>obs_values</th>\n",
       "      <th>LinRegr</th>\n",
       "    </tr>\n",
       "    <tr>\n",
       "      <th>Timestamp</th>\n",
       "      <th></th>\n",
       "      <th></th>\n",
       "    </tr>\n",
       "  </thead>\n",
       "  <tbody>\n",
       "    <tr>\n",
       "      <th>2019-02-08</th>\n",
       "      <td>24997</td>\n",
       "      <td>21984.887256</td>\n",
       "    </tr>\n",
       "    <tr>\n",
       "      <th>2019-02-09</th>\n",
       "      <td>18222</td>\n",
       "      <td>18049.197069</td>\n",
       "    </tr>\n",
       "    <tr>\n",
       "      <th>2019-02-10</th>\n",
       "      <td>7258</td>\n",
       "      <td>10736.641499</td>\n",
       "    </tr>\n",
       "    <tr>\n",
       "      <th>2019-02-11</th>\n",
       "      <td>28144</td>\n",
       "      <td>20376.449161</td>\n",
       "    </tr>\n",
       "    <tr>\n",
       "      <th>2019-02-12</th>\n",
       "      <td>27086</td>\n",
       "      <td>24769.473837</td>\n",
       "    </tr>\n",
       "    <tr>\n",
       "      <th>2019-02-13</th>\n",
       "      <td>25454</td>\n",
       "      <td>25100.944879</td>\n",
       "    </tr>\n",
       "    <tr>\n",
       "      <th>2019-02-14</th>\n",
       "      <td>26758</td>\n",
       "      <td>25314.641734</td>\n",
       "    </tr>\n",
       "    <tr>\n",
       "      <th>2019-02-15</th>\n",
       "      <td>24904</td>\n",
       "      <td>24521.579505</td>\n",
       "    </tr>\n",
       "    <tr>\n",
       "      <th>2019-02-16</th>\n",
       "      <td>16227</td>\n",
       "      <td>17803.784057</td>\n",
       "    </tr>\n",
       "    <tr>\n",
       "      <th>2019-02-17</th>\n",
       "      <td>6753</td>\n",
       "      <td>12991.384473</td>\n",
       "    </tr>\n",
       "    <tr>\n",
       "      <th>2019-02-18</th>\n",
       "      <td>24513</td>\n",
       "      <td>19522.746859</td>\n",
       "    </tr>\n",
       "    <tr>\n",
       "      <th>2019-02-19</th>\n",
       "      <td>26476</td>\n",
       "      <td>23870.080426</td>\n",
       "    </tr>\n",
       "    <tr>\n",
       "      <th>2019-02-20</th>\n",
       "      <td>26527</td>\n",
       "      <td>24577.970287</td>\n",
       "    </tr>\n",
       "    <tr>\n",
       "      <th>2019-02-21</th>\n",
       "      <td>18282</td>\n",
       "      <td>24171.037014</td>\n",
       "    </tr>\n",
       "    <tr>\n",
       "      <th>2019-02-22</th>\n",
       "      <td>27098</td>\n",
       "      <td>23327.682783</td>\n",
       "    </tr>\n",
       "    <tr>\n",
       "      <th>2019-02-23</th>\n",
       "      <td>18453</td>\n",
       "      <td>14969.150768</td>\n",
       "    </tr>\n",
       "    <tr>\n",
       "      <th>2019-02-24</th>\n",
       "      <td>11860</td>\n",
       "      <td>11991.454793</td>\n",
       "    </tr>\n",
       "  </tbody>\n",
       "</table>\n",
       "</div>"
      ],
      "text/plain": [
       "            obs_values       LinRegr\n",
       "Timestamp                           \n",
       "2019-02-08       24997  21984.887256\n",
       "2019-02-09       18222  18049.197069\n",
       "2019-02-10        7258  10736.641499\n",
       "2019-02-11       28144  20376.449161\n",
       "2019-02-12       27086  24769.473837\n",
       "2019-02-13       25454  25100.944879\n",
       "2019-02-14       26758  25314.641734\n",
       "2019-02-15       24904  24521.579505\n",
       "2019-02-16       16227  17803.784057\n",
       "2019-02-17        6753  12991.384473\n",
       "2019-02-18       24513  19522.746859\n",
       "2019-02-19       26476  23870.080426\n",
       "2019-02-20       26527  24577.970287\n",
       "2019-02-21       18282  24171.037014\n",
       "2019-02-22       27098  23327.682783\n",
       "2019-02-23       18453  14969.150768\n",
       "2019-02-24       11860  11991.454793"
      ]
     },
     "execution_count": 45,
     "metadata": {},
     "output_type": "execute_result"
    }
   ],
   "source": [
    "ravn_results"
   ]
  },
  {
   "cell_type": "markdown",
   "metadata": {},
   "source": [
    "### ARIMA: low frequency data, just lags"
   ]
  },
  {
   "cell_type": "code",
   "execution_count": 53,
   "metadata": {},
   "outputs": [],
   "source": [
    "lags_dPUF_df = ravaln_daily.drop(['T', 'PPT', 'Weekday/Weekend'], axis = 1)\n",
    "\n",
    "X_train, X_dev, ARIMA_dlags_X_test, y_train, y_dev, ARIMA_dlags_y_test = train_dev_test_split(lags_dPUF_df.drop(['TotalEntries'], axis=1), \n",
    "                                                                      lags_dPUF_df['TotalEntries'])\n",
    "\n",
    "ARIMA_dlags_X_train = pd.concat([X_train, X_dev])\n",
    "ARIMA_dlags_X_train.sort_index(inplace=True)\n",
    "ARIMA_dlags_y_train = pd.concat([y_train, y_dev])\n",
    "ARIMA_dlags_y_train.sort_index(inplace=True)"
   ]
  },
  {
   "cell_type": "code",
   "execution_count": 54,
   "metadata": {},
   "outputs": [
    {
     "name": "stdout",
     "output_type": "stream",
     "text": [
      "Fit ARIMA: order=(1, 0, 1) seasonal_order=(0, 0, 0, 1); AIC=1324.035, BIC=1348.122, Fit time=0.155 seconds\n",
      "Fit ARIMA: order=(0, 0, 0) seasonal_order=(0, 0, 0, 1); AIC=1334.037, BIC=1353.743, Fit time=0.032 seconds\n",
      "Fit ARIMA: order=(1, 0, 0) seasonal_order=(0, 0, 0, 1); AIC=1327.245, BIC=1349.142, Fit time=0.095 seconds\n",
      "Fit ARIMA: order=(0, 0, 1) seasonal_order=(0, 0, 0, 1); AIC=1322.058, BIC=1343.954, Fit time=0.112 seconds\n",
      "Fit ARIMA: order=(0, 0, 2) seasonal_order=(0, 0, 0, 1); AIC=1324.311, BIC=1348.398, Fit time=0.156 seconds\n",
      "Fit ARIMA: order=(1, 0, 2) seasonal_order=(0, 0, 0, 1); AIC=1324.263, BIC=1350.538, Fit time=0.406 seconds\n",
      "Total fit time: 0.960 seconds\n"
     ]
    }
   ],
   "source": [
    "# Model tuning with exogenous data (allcols)\n",
    "\n",
    "start_dARIMA_tune = time.time()\n",
    "daily_ARIMA_model = auto_arima(ARIMA_dlags_y_train, exogenous=ARIMA_dlags_X_train, start_p=1, start_q=1,\n",
    "                           start_P=0, seasonal=True, suppress_warnings=True,\n",
    "                           error_action='ignore', trace=True, stepwise=True)\n",
    "\n",
    "end_dARIMA_tune = time.time()\n",
    "dARIMA_tune_runtime = end_dARIMA_tune - start_dARIMA_tune"
   ]
  },
  {
   "cell_type": "code",
   "execution_count": 55,
   "metadata": {},
   "outputs": [
    {
     "data": {
      "text/html": [
       "<table class=\"simpletable\">\n",
       "<caption>Statespace Model Results</caption>\n",
       "<tr>\n",
       "  <th>Dep. Variable:</th>           <td>y</td>        <th>  No. Observations:  </th>    <td>66</td>   \n",
       "</tr>\n",
       "<tr>\n",
       "  <th>Model:</th>           <td>SARIMAX(0, 0, 1)</td> <th>  Log Likelihood     </th> <td>-651.029</td>\n",
       "</tr>\n",
       "<tr>\n",
       "  <th>Date:</th>            <td>Wed, 22 May 2019</td> <th>  AIC                </th> <td>1322.058</td>\n",
       "</tr>\n",
       "<tr>\n",
       "  <th>Time:</th>                <td>20:05:53</td>     <th>  BIC                </th> <td>1343.954</td>\n",
       "</tr>\n",
       "<tr>\n",
       "  <th>Sample:</th>                  <td>0</td>        <th>  HQIC               </th> <td>1330.710</td>\n",
       "</tr>\n",
       "<tr>\n",
       "  <th></th>                       <td> - 66</td>      <th>                     </th>     <td> </td>   \n",
       "</tr>\n",
       "<tr>\n",
       "  <th>Covariance Type:</th>        <td>opg</td>       <th>                     </th>     <td> </td>   \n",
       "</tr>\n",
       "</table>\n",
       "<table class=\"simpletable\">\n",
       "<tr>\n",
       "      <td></td>         <th>coef</th>     <th>std err</th>      <th>z</th>      <th>P>|z|</th>  <th>[0.025</th>    <th>0.975]</th>  \n",
       "</tr>\n",
       "<tr>\n",
       "  <th>intercept</th> <td>  132.5462</td> <td> 7198.934</td> <td>    0.018</td> <td> 0.985</td> <td> -1.4e+04</td> <td> 1.42e+04</td>\n",
       "</tr>\n",
       "<tr>\n",
       "  <th>x1</th>        <td>   -0.0164</td> <td>    0.143</td> <td>   -0.115</td> <td> 0.909</td> <td>   -0.297</td> <td>    0.264</td>\n",
       "</tr>\n",
       "<tr>\n",
       "  <th>x2</th>        <td>    0.0833</td> <td>    0.154</td> <td>    0.542</td> <td> 0.588</td> <td>   -0.218</td> <td>    0.385</td>\n",
       "</tr>\n",
       "<tr>\n",
       "  <th>x3</th>        <td>    0.0325</td> <td>    0.123</td> <td>    0.263</td> <td> 0.792</td> <td>   -0.209</td> <td>    0.274</td>\n",
       "</tr>\n",
       "<tr>\n",
       "  <th>x4</th>        <td>    0.0589</td> <td>    0.125</td> <td>    0.472</td> <td> 0.637</td> <td>   -0.186</td> <td>    0.304</td>\n",
       "</tr>\n",
       "<tr>\n",
       "  <th>x5</th>        <td>    0.1289</td> <td>    0.152</td> <td>    0.850</td> <td> 0.395</td> <td>   -0.168</td> <td>    0.426</td>\n",
       "</tr>\n",
       "<tr>\n",
       "  <th>x6</th>        <td>    0.0232</td> <td>    0.115</td> <td>    0.201</td> <td> 0.841</td> <td>   -0.203</td> <td>    0.249</td>\n",
       "</tr>\n",
       "<tr>\n",
       "  <th>x7</th>        <td>    0.6742</td> <td>    0.156</td> <td>    4.322</td> <td> 0.000</td> <td>    0.368</td> <td>    0.980</td>\n",
       "</tr>\n",
       "<tr>\n",
       "  <th>ma.L1</th>     <td>    0.7763</td> <td>    0.141</td> <td>    5.514</td> <td> 0.000</td> <td>    0.500</td> <td>    1.052</td>\n",
       "</tr>\n",
       "<tr>\n",
       "  <th>sigma2</th>    <td> 2.575e+07</td> <td>    3.167</td> <td> 8.13e+06</td> <td> 0.000</td> <td> 2.58e+07</td> <td> 2.58e+07</td>\n",
       "</tr>\n",
       "</table>\n",
       "<table class=\"simpletable\">\n",
       "<tr>\n",
       "  <th>Ljung-Box (Q):</th>          <td>21.05</td> <th>  Jarque-Bera (JB):  </th> <td>8.98</td> \n",
       "</tr>\n",
       "<tr>\n",
       "  <th>Prob(Q):</th>                <td>0.99</td>  <th>  Prob(JB):          </th> <td>0.01</td> \n",
       "</tr>\n",
       "<tr>\n",
       "  <th>Heteroskedasticity (H):</th> <td>0.19</td>  <th>  Skew:              </th> <td>-0.36</td>\n",
       "</tr>\n",
       "<tr>\n",
       "  <th>Prob(H) (two-sided):</th>    <td>0.00</td>  <th>  Kurtosis:          </th> <td>4.65</td> \n",
       "</tr>\n",
       "</table><br/><br/>Warnings:<br/>[1] Covariance matrix calculated using the outer product of gradients (complex-step).<br/>[2] Covariance matrix is singular or near-singular, with condition number 2.96e+24. Standard errors may be unstable."
      ],
      "text/plain": [
       "<class 'statsmodels.iolib.summary.Summary'>\n",
       "\"\"\"\n",
       "                           Statespace Model Results                           \n",
       "==============================================================================\n",
       "Dep. Variable:                      y   No. Observations:                   66\n",
       "Model:               SARIMAX(0, 0, 1)   Log Likelihood                -651.029\n",
       "Date:                Wed, 22 May 2019   AIC                           1322.058\n",
       "Time:                        20:05:53   BIC                           1343.954\n",
       "Sample:                             0   HQIC                          1330.710\n",
       "                                 - 66                                         \n",
       "Covariance Type:                  opg                                         \n",
       "==============================================================================\n",
       "                 coef    std err          z      P>|z|      [0.025      0.975]\n",
       "------------------------------------------------------------------------------\n",
       "intercept    132.5462   7198.934      0.018      0.985    -1.4e+04    1.42e+04\n",
       "x1            -0.0164      0.143     -0.115      0.909      -0.297       0.264\n",
       "x2             0.0833      0.154      0.542      0.588      -0.218       0.385\n",
       "x3             0.0325      0.123      0.263      0.792      -0.209       0.274\n",
       "x4             0.0589      0.125      0.472      0.637      -0.186       0.304\n",
       "x5             0.1289      0.152      0.850      0.395      -0.168       0.426\n",
       "x6             0.0232      0.115      0.201      0.841      -0.203       0.249\n",
       "x7             0.6742      0.156      4.322      0.000       0.368       0.980\n",
       "ma.L1          0.7763      0.141      5.514      0.000       0.500       1.052\n",
       "sigma2      2.575e+07      3.167   8.13e+06      0.000    2.58e+07    2.58e+07\n",
       "===================================================================================\n",
       "Ljung-Box (Q):                       21.05   Jarque-Bera (JB):                 8.98\n",
       "Prob(Q):                              0.99   Prob(JB):                         0.01\n",
       "Heteroskedasticity (H):               0.19   Skew:                            -0.36\n",
       "Prob(H) (two-sided):                  0.00   Kurtosis:                         4.65\n",
       "===================================================================================\n",
       "\n",
       "Warnings:\n",
       "[1] Covariance matrix calculated using the outer product of gradients (complex-step).\n",
       "[2] Covariance matrix is singular or near-singular, with condition number 2.96e+24. Standard errors may be unstable.\n",
       "\"\"\""
      ]
     },
     "execution_count": 55,
     "metadata": {},
     "output_type": "execute_result"
    }
   ],
   "source": [
    "daily_ARIMA_model.summary()"
   ]
  },
  {
   "cell_type": "code",
   "execution_count": 56,
   "metadata": {},
   "outputs": [],
   "source": [
    "dARIMA_model = daily_ARIMA_model.fit(ARIMA_dlags_y_train, exogenous=ARIMA_dlags_X_train)"
   ]
  },
  {
   "cell_type": "code",
   "execution_count": 57,
   "metadata": {},
   "outputs": [
    {
     "name": "stderr",
     "output_type": "stream",
     "text": [
      "  0%|          | 0/17 [00:00<?, ?it/s]\n"
     ]
    },
    {
     "ename": "ValueError",
     "evalue": "Provided exogenous values are not of the appropriate shape. Required (2, 7), got (2, 10).",
     "output_type": "error",
     "traceback": [
      "\u001b[0;31m---------------------------------------------------------------------------\u001b[0m",
      "\u001b[0;31mValueError\u001b[0m                                Traceback (most recent call last)",
      "\u001b[0;32m<ipython-input-57-9a1cb58b58cc>\u001b[0m in \u001b[0;36m<module>\u001b[0;34m\u001b[0m\n\u001b[1;32m      1\u001b[0m \u001b[0mstart_ARIMA_dPUF_allcols\u001b[0m \u001b[0;34m=\u001b[0m \u001b[0mtime\u001b[0m\u001b[0;34m.\u001b[0m\u001b[0mtime\u001b[0m\u001b[0;34m(\u001b[0m\u001b[0;34m)\u001b[0m\u001b[0;34m\u001b[0m\u001b[0;34m\u001b[0m\u001b[0m\n\u001b[0;32m----> 2\u001b[0;31m \u001b[0mdARIMA_df\u001b[0m\u001b[0;34m,\u001b[0m \u001b[0mdARIMA_confint\u001b[0m \u001b[0;34m=\u001b[0m \u001b[0mARIMA_future_preds\u001b[0m\u001b[0;34m(\u001b[0m\u001b[0mdaily_nolags_ravn\u001b[0m\u001b[0;34m,\u001b[0m \u001b[0mARIMA_dlags_X_train\u001b[0m\u001b[0;34m,\u001b[0m \u001b[0mARIMA_dlags_X_test\u001b[0m\u001b[0;34m,\u001b[0m \u001b[0mdARIMA_model\u001b[0m\u001b[0;34m,\u001b[0m \u001b[0mexogenous\u001b[0m\u001b[0;34m=\u001b[0m\u001b[0;32mTrue\u001b[0m\u001b[0;34m,\u001b[0m \u001b[0mdaily\u001b[0m\u001b[0;34m=\u001b[0m\u001b[0;32mTrue\u001b[0m\u001b[0;34m)\u001b[0m\u001b[0;34m\u001b[0m\u001b[0;34m\u001b[0m\u001b[0m\n\u001b[0m\u001b[1;32m      3\u001b[0m \u001b[0;34m\u001b[0m\u001b[0m\n\u001b[1;32m      4\u001b[0m \u001b[0mend_ARIMA_dPUF_allcols\u001b[0m \u001b[0;34m=\u001b[0m \u001b[0mtime\u001b[0m\u001b[0;34m.\u001b[0m\u001b[0mtime\u001b[0m\u001b[0;34m(\u001b[0m\u001b[0;34m)\u001b[0m\u001b[0;34m\u001b[0m\u001b[0;34m\u001b[0m\u001b[0m\n\u001b[1;32m      5\u001b[0m \u001b[0mdARIMA_runtime_PUF_allcols\u001b[0m \u001b[0;34m=\u001b[0m \u001b[0mend_ARIMA_dPUF_allcols\u001b[0m \u001b[0;34m-\u001b[0m \u001b[0mstart_ARIMA_dPUF_allcols\u001b[0m\u001b[0;34m\u001b[0m\u001b[0;34m\u001b[0m\u001b[0m\n",
      "\u001b[0;32m<ipython-input-47-dca048975e2d>\u001b[0m in \u001b[0;36mARIMA_future_preds\u001b[0;34m(all_data_df, X_train, X_test, model, exogenous, justlags, daily, n_days)\u001b[0m\n\u001b[1;32m     93\u001b[0m                 \u001b[0mpred_df\u001b[0m\u001b[0;34m.\u001b[0m\u001b[0msort_index\u001b[0m\u001b[0;34m(\u001b[0m\u001b[0minplace\u001b[0m\u001b[0;34m=\u001b[0m\u001b[0;32mTrue\u001b[0m\u001b[0;34m)\u001b[0m\u001b[0;34m\u001b[0m\u001b[0;34m\u001b[0m\u001b[0m\n\u001b[1;32m     94\u001b[0m \u001b[0;34m\u001b[0m\u001b[0m\n\u001b[0;32m---> 95\u001b[0;31m                 \u001b[0my_hat\u001b[0m\u001b[0;34m,\u001b[0m \u001b[0my_confint\u001b[0m \u001b[0;34m=\u001b[0m \u001b[0mmodel\u001b[0m\u001b[0;34m.\u001b[0m\u001b[0mpredict\u001b[0m\u001b[0;34m(\u001b[0m\u001b[0mn_periods\u001b[0m\u001b[0;34m=\u001b[0m\u001b[0mi\u001b[0m\u001b[0;34m+\u001b[0m\u001b[0;36m1\u001b[0m\u001b[0;34m,\u001b[0m \u001b[0mexogenous\u001b[0m\u001b[0;34m=\u001b[0m\u001b[0mpred_df\u001b[0m\u001b[0;34m[\u001b[0m\u001b[0;34m-\u001b[0m\u001b[0;34m(\u001b[0m\u001b[0mi\u001b[0m\u001b[0;34m+\u001b[0m\u001b[0;36m1\u001b[0m\u001b[0;34m)\u001b[0m\u001b[0;34m:\u001b[0m\u001b[0;34m]\u001b[0m\u001b[0;34m,\u001b[0m \u001b[0mreturn_conf_int\u001b[0m\u001b[0;34m=\u001b[0m\u001b[0;32mTrue\u001b[0m\u001b[0;34m)\u001b[0m\u001b[0;34m\u001b[0m\u001b[0;34m\u001b[0m\u001b[0m\n\u001b[0m\u001b[1;32m     96\u001b[0m                 \u001b[0my_hat\u001b[0m \u001b[0;34m=\u001b[0m \u001b[0mpd\u001b[0m\u001b[0;34m.\u001b[0m\u001b[0mDataFrame\u001b[0m\u001b[0;34m(\u001b[0m\u001b[0my_hat\u001b[0m\u001b[0;34m,\u001b[0m \u001b[0mindex\u001b[0m\u001b[0;34m=\u001b[0m\u001b[0mX_test\u001b[0m\u001b[0;34m[\u001b[0m\u001b[0;34m:\u001b[0m\u001b[0;34m(\u001b[0m\u001b[0mi\u001b[0m\u001b[0;34m+\u001b[0m\u001b[0;36m1\u001b[0m\u001b[0;34m)\u001b[0m\u001b[0;34m]\u001b[0m\u001b[0;34m.\u001b[0m\u001b[0mindex\u001b[0m\u001b[0;34m,\u001b[0m \u001b[0mcolumns\u001b[0m\u001b[0;34m=\u001b[0m\u001b[0;34m[\u001b[0m\u001b[0;34m'TotalEntries'\u001b[0m\u001b[0;34m]\u001b[0m\u001b[0;34m)\u001b[0m\u001b[0;34m\u001b[0m\u001b[0;34m\u001b[0m\u001b[0m\n\u001b[1;32m     97\u001b[0m                 \u001b[0my_confint\u001b[0m \u001b[0;34m=\u001b[0m \u001b[0mpd\u001b[0m\u001b[0;34m.\u001b[0m\u001b[0mDataFrame\u001b[0m\u001b[0;34m(\u001b[0m\u001b[0my_confint\u001b[0m\u001b[0;34m,\u001b[0m \u001b[0mindex\u001b[0m\u001b[0;34m=\u001b[0m\u001b[0mX_test\u001b[0m\u001b[0;34m[\u001b[0m\u001b[0;34m:\u001b[0m\u001b[0;34m(\u001b[0m\u001b[0mi\u001b[0m\u001b[0;34m+\u001b[0m\u001b[0;36m1\u001b[0m\u001b[0;34m)\u001b[0m\u001b[0;34m]\u001b[0m\u001b[0;34m.\u001b[0m\u001b[0mindex\u001b[0m\u001b[0;34m,\u001b[0m \u001b[0mcolumns\u001b[0m\u001b[0;34m=\u001b[0m\u001b[0;34m[\u001b[0m\u001b[0;34m'PUF_min'\u001b[0m\u001b[0;34m,\u001b[0m\u001b[0;34m'PUF_max'\u001b[0m\u001b[0;34m]\u001b[0m\u001b[0;34m)\u001b[0m\u001b[0;34m\u001b[0m\u001b[0;34m\u001b[0m\u001b[0m\n",
      "\u001b[0;32m~/anaconda3/envs/mpro/lib/python3.6/site-packages/pmdarima/arima/arima.py\u001b[0m in \u001b[0;36mpredict\u001b[0;34m(self, n_periods, exogenous, return_conf_int, alpha)\u001b[0m\n\u001b[1;32m    573\u001b[0m             results = arima.get_prediction(start=arima.nobs,\n\u001b[1;32m    574\u001b[0m                                            \u001b[0mend\u001b[0m\u001b[0;34m=\u001b[0m\u001b[0mend\u001b[0m\u001b[0;34m,\u001b[0m\u001b[0;34m\u001b[0m\u001b[0;34m\u001b[0m\u001b[0m\n\u001b[0;32m--> 575\u001b[0;31m                                            exog=exogenous)\n\u001b[0m\u001b[1;32m    576\u001b[0m             \u001b[0mf\u001b[0m \u001b[0;34m=\u001b[0m \u001b[0mresults\u001b[0m\u001b[0;34m.\u001b[0m\u001b[0mpredicted_mean\u001b[0m\u001b[0;34m\u001b[0m\u001b[0;34m\u001b[0m\u001b[0m\n\u001b[1;32m    577\u001b[0m             \u001b[0mconf_int\u001b[0m \u001b[0;34m=\u001b[0m \u001b[0mresults\u001b[0m\u001b[0;34m.\u001b[0m\u001b[0mconf_int\u001b[0m\u001b[0;34m(\u001b[0m\u001b[0malpha\u001b[0m\u001b[0;34m=\u001b[0m\u001b[0malpha\u001b[0m\u001b[0;34m)\u001b[0m\u001b[0;34m\u001b[0m\u001b[0;34m\u001b[0m\u001b[0m\n",
      "\u001b[0;32m~/anaconda3/envs/mpro/lib/python3.6/site-packages/statsmodels/tsa/statespace/sarimax.py\u001b[0m in \u001b[0;36mget_prediction\u001b[0;34m(self, start, end, dynamic, index, exog, **kwargs)\u001b[0m\n\u001b[1;32m   1944\u001b[0m                                      \u001b[0;34m' appropriate shape. Required %s, got %s.'\u001b[0m\u001b[0;34m\u001b[0m\u001b[0;34m\u001b[0m\u001b[0m\n\u001b[1;32m   1945\u001b[0m                                      % (str(required_exog_shape),\n\u001b[0;32m-> 1946\u001b[0;31m                                         str(exog.shape)))\n\u001b[0m\u001b[1;32m   1947\u001b[0m                 \u001b[0mexog\u001b[0m \u001b[0;34m=\u001b[0m \u001b[0mnp\u001b[0m\u001b[0;34m.\u001b[0m\u001b[0mc_\u001b[0m\u001b[0;34m[\u001b[0m\u001b[0mself\u001b[0m\u001b[0;34m.\u001b[0m\u001b[0mmodel\u001b[0m\u001b[0;34m.\u001b[0m\u001b[0mdata\u001b[0m\u001b[0;34m.\u001b[0m\u001b[0morig_exog\u001b[0m\u001b[0;34m.\u001b[0m\u001b[0mT\u001b[0m\u001b[0;34m,\u001b[0m \u001b[0mexog\u001b[0m\u001b[0;34m.\u001b[0m\u001b[0mT\u001b[0m\u001b[0;34m]\u001b[0m\u001b[0;34m.\u001b[0m\u001b[0mT\u001b[0m\u001b[0;34m\u001b[0m\u001b[0;34m\u001b[0m\u001b[0m\n\u001b[1;32m   1948\u001b[0m \u001b[0;34m\u001b[0m\u001b[0m\n",
      "\u001b[0;31mValueError\u001b[0m: Provided exogenous values are not of the appropriate shape. Required (2, 7), got (2, 10)."
     ]
    }
   ],
   "source": [
    "start_ARIMA_dPUF_allcols = time.time()\n",
    "dARIMA_df, dARIMA_confint = ARIMA_future_preds(daily_nolags_ravn, ARIMA_dlags_X_train, ARIMA_dlags_X_test, dARIMA_model, exogenous=True, daily=True)\n",
    "\n",
    "end_ARIMA_dPUF_allcols = time.time()\n",
    "dARIMA_runtime_PUF_allcols = end_ARIMA_dPUF_allcols - start_ARIMA_dPUF_allcols\n"
   ]
  },
  {
   "cell_type": "code",
   "execution_count": null,
   "metadata": {},
   "outputs": [],
   "source": []
  }
 ],
 "metadata": {
  "kernelspec": {
   "display_name": "Python 3",
   "language": "python",
   "name": "python3"
  },
  "language_info": {
   "codemirror_mode": {
    "name": "ipython",
    "version": 3
   },
   "file_extension": ".py",
   "mimetype": "text/x-python",
   "name": "python",
   "nbconvert_exporter": "python",
   "pygments_lexer": "ipython3",
   "version": "3.6.8"
  }
 },
 "nbformat": 4,
 "nbformat_minor": 2
}
