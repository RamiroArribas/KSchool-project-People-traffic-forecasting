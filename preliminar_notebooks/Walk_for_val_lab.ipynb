{
 "cells": [
  {
   "cell_type": "code",
   "execution_count": 26,
   "metadata": {},
   "outputs": [],
   "source": [
    "import numpy as np\n",
    "import pandas as pd\n",
    "import datetime\n",
    "from tqdm import tqdm\n",
    "from sklearn.model_selection import train_test_split\n",
    "from sklearn.metrics import mean_squared_error\n",
    "from sklearn.metrics import r2_score\n",
    "from sklearn.linear_model import LinearRegression\n",
    "from math import sqrt\n",
    "import matplotlib.pyplot as plt\n",
    "plt.rcParams['figure.figsize'] = [20, 10]\n",
    "%matplotlib inline"
   ]
  },
  {
   "cell_type": "code",
   "execution_count": 5,
   "metadata": {},
   "outputs": [],
   "source": [
    "original_df = pd.read_excel('/home/quark/Documents/projects/TFM/Databases/data.xlsx')\n",
    "original_df.sort_values(['Timestamp'], ascending=True, inplace=True)\n",
    "original_df['Timestamp'] = pd.to_datetime(original_df['Timestamp'], unit='s')\n",
    "\n",
    "marag_df = original_df[original_df['SiteId'] == 2][['Timestamp', 'TotalEntries']]\n",
    "marag_df.set_index('Timestamp', inplace=True)\n",
    "marag_df.sort_index(inplace=True)\n",
    "marag_df = marag_df['2017-01-09 00:00:00':]\n",
    "#Since from this date the time series is constinuous, we slice our dataframe consequently"
   ]
  },
  {
   "cell_type": "code",
   "execution_count": 6,
   "metadata": {},
   "outputs": [],
   "source": [
    "def create_lags(dataframe, N):\n",
    "    temp_df = dataframe.copy()\n",
    "    for i in range(1,N+1):\n",
    "        temp_df['t-' + str(i)] = temp_df['TotalEntries'].shift(i)\n",
    "    \n",
    "    return temp_df.iloc[N:]\n",
    "df_with_lags = create_lags(marag_df, 48)"
   ]
  },
  {
   "cell_type": "code",
   "execution_count": 7,
   "metadata": {},
   "outputs": [],
   "source": [
    "#Initial data preparation:\n",
    "def train_dev_test_split(X_data, y_data):\n",
    "    \n",
    "##CODE IMPROVEMENT: raise error if X and y of different size!    \n",
    "    cut1 = int(0.6*len(X_data))\n",
    "    cut2 = ((len(X_data)-cut1)//2) + cut1\n",
    "    X_train = X_data[:cut1]\n",
    "    X_dev = X_data[cut1:cut2]\n",
    "    X_test = X_data[cut2:]\n",
    "    y_train = y_data[:cut1]\n",
    "    y_dev = y_data[cut1:cut2]\n",
    "    y_test = y_data[cut2:]\n",
    "    \n",
    "    return X_train, X_dev, X_test, y_train, y_dev, y_test\n",
    "    \n",
    "#X_train, X_temp, y_train, y_temp = train_test_split(men_df.drop('TotalEntriesMen', axis = 1), men_df['TotalEntriesMen'], test_size = 0.4, random_state = 42, shuffle=False)\n",
    "X_train, X_dev, X_test, y_train, y_dev, y_test = train_dev_test_split(df_with_lags.drop(['TotalEntries'], axis=1), df_with_lags['TotalEntries'])"
   ]
  },
  {
   "cell_type": "code",
   "execution_count": 12,
   "metadata": {},
   "outputs": [],
   "source": [
    "model = LinearRegression().fit(X_train, y_train)\n",
    "\n",
    "X_train_raw = marag_df[:X_train[-1:].index.astype(str)[0]]"
   ]
  },
  {
   "cell_type": "code",
   "execution_count": 27,
   "metadata": {},
   "outputs": [],
   "source": [
    "\n",
    "#   !!!   DOCUMENT THE FUNCTION PROPERLY\n",
    "\n",
    "def walk_forward_validation(X_train, y_train, X_test, L, model):\n",
    "\n",
    "    '''This function integrates a walk-forward validation method for multiple models.\n",
    "    Parameters: model, #lags, train data, test data, length of test_data'''\n",
    "\n",
    "    X_grow = X_train_raw.astype('float64').sort_index()\n",
    "    y_grow_hat = []\n",
    "    #RMSE_record = []\n",
    "    for i in tqdm(range(len(X_test))):\n",
    "        y_hat = model.predict(X_test[i:i+1])\n",
    "        #RMSE_record.append(y_hat)\n",
    "        y_grow_hat.append(y_hat)\n",
    "        y_hat = pd.DataFrame(y_hat, index=X_test[i:(i+1)].index, columns=['TotalEntries'])\n",
    "        #y_hat = pd.DataFrame(y_hat, columns=['TotalEntries'])\n",
    "        #y_hat.set_index(X_dev[i:(i+1)].index, inplace=True)\n",
    "        X_grow = pd.concat([X_grow, y_hat])\n",
    "        X_data = create_lags(X_grow, L)\n",
    "        model.fit(X_data.drop(['TotalEntries'], axis=1), X_data['TotalEntries'])\n",
    "        #y_hat_trans = create_lags(pd.DataFrame(y_hat), 49)\n",
    "        #X_grow = pd.concat(X_grow, y_hat_trans)\n",
    "        #model.fit(X_grow)\n",
    "    \n",
    "    \n",
    "    return y_grow_hat\n"
   ]
  },
  {
   "cell_type": "code",
   "execution_count": null,
   "metadata": {},
   "outputs": [
    {
     "name": "stderr",
     "output_type": "stream",
     "text": [
      " 17%|█▋        | 1297/7450 [01:02<04:56, 20.75it/s]"
     ]
    }
   ],
   "source": [
    "total_predictions = walk_forward_validation(X_train, y_train, X_dev, 48, model)"
   ]
  },
  {
   "cell_type": "code",
   "execution_count": 18,
   "metadata": {},
   "outputs": [
    {
     "data": {
      "text/plain": [
       "43.416341408547105"
      ]
     },
     "execution_count": 18,
     "metadata": {},
     "output_type": "execute_result"
    }
   ],
   "source": [
    "np.sqrt(mean_squared_error(y_dev, total_predictions))"
   ]
  },
  {
   "cell_type": "code",
   "execution_count": 25,
   "metadata": {},
   "outputs": [
    {
     "data": {
      "text/plain": [
       "0.9025640812584325"
      ]
     },
     "execution_count": 25,
     "metadata": {},
     "output_type": "execute_result"
    }
   ],
   "source": [
    "r2_score(y_dev, total_predictions)"
   ]
  },
  {
   "cell_type": "code",
   "execution_count": null,
   "metadata": {},
   "outputs": [],
   "source": []
  },
  {
   "cell_type": "code",
   "execution_count": null,
   "metadata": {},
   "outputs": [],
   "source": []
  },
  {
   "cell_type": "code",
   "execution_count": 15,
   "metadata": {},
   "outputs": [
    {
     "data": {
      "text/plain": [
       "7450"
      ]
     },
     "execution_count": 15,
     "metadata": {},
     "output_type": "execute_result"
    }
   ],
   "source": [
    "len(total_predictions)"
   ]
  },
  {
   "cell_type": "code",
   "execution_count": 16,
   "metadata": {},
   "outputs": [
    {
     "data": {
      "text/plain": [
       "list"
      ]
     },
     "execution_count": 16,
     "metadata": {},
     "output_type": "execute_result"
    }
   ],
   "source": [
    "type(total_predictions)"
   ]
  },
  {
   "cell_type": "code",
   "execution_count": 17,
   "metadata": {
    "scrolled": true
   },
   "outputs": [
    {
     "data": {
      "text/plain": [
       "[array([365.18346681]),\n",
       " array([425.87873676]),\n",
       " array([422.87122209]),\n",
       " array([422.23035053]),\n",
       " array([425.30593206]),\n",
       " array([278.44811364]),\n",
       " array([333.69039303]),\n",
       " array([394.73703152]),\n",
       " array([492.8074945]),\n",
       " array([374.84400718])]"
      ]
     },
     "execution_count": 17,
     "metadata": {},
     "output_type": "execute_result"
    }
   ],
   "source": [
    "total_predictions[:10]"
   ]
  },
  {
   "cell_type": "code",
   "execution_count": null,
   "metadata": {},
   "outputs": [],
   "source": []
  }
 ],
 "metadata": {
  "kernelspec": {
   "display_name": "Python 3",
   "language": "python",
   "name": "python3"
  },
  "language_info": {
   "codemirror_mode": {
    "name": "ipython",
    "version": 3
   },
   "file_extension": ".py",
   "mimetype": "text/x-python",
   "name": "python",
   "nbconvert_exporter": "python",
   "pygments_lexer": "ipython3",
   "version": "3.7.0"
  }
 },
 "nbformat": 4,
 "nbformat_minor": 2
}
