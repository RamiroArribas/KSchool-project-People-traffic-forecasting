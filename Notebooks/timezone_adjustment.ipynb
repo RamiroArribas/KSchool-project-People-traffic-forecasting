{
 "cells": [
  {
   "cell_type": "markdown",
   "metadata": {},
   "source": [
    "In this notebook a new timestamp column is created for the external data dataframes to convert time to UTC."
   ]
  },
  {
   "cell_type": "code",
   "execution_count": 49,
   "metadata": {},
   "outputs": [],
   "source": [
    "import numpy as np\n",
    "import pandas as pd\n",
    "import datetime"
   ]
  },
  {
   "cell_type": "code",
   "execution_count": 50,
   "metadata": {},
   "outputs": [],
   "source": [
    "bcn_meteo_df = pd.read_csv('./../../../Databases/Meteocat/X4Barcelona.csv', sep=';')\n",
    "can_meteo_df = pd.read_csv('./../../../Databases/Meteocat/XUCanyelles.csv', sep=';')"
   ]
  },
  {
   "cell_type": "code",
   "execution_count": 51,
   "metadata": {},
   "outputs": [
    {
     "data": {
      "text/plain": [
       "(EMA             object\n",
       " DATA    datetime64[ns]\n",
       " T              float64\n",
       " TX             float64\n",
       " TN             float64\n",
       " PPT            float64\n",
       " dtype: object, EMA             object\n",
       " DATA    datetime64[ns]\n",
       " T              float64\n",
       " TX             float64\n",
       " TN             float64\n",
       " PPT            float64\n",
       " dtype: object)"
      ]
     },
     "execution_count": 51,
     "metadata": {},
     "output_type": "execute_result"
    }
   ],
   "source": [
    "bcn_meteo_df['DATA'] = pd.to_datetime(bcn_meteo_df['DATA'], dayfirst=True)\n",
    "can_meteo_df['DATA'] = pd.to_datetime(can_meteo_df['DATA'], dayfirst=True)\n",
    "bcn_meteo_df.dtypes, can_meteo_df.dtypes"
   ]
  },
  {
   "cell_type": "code",
   "execution_count": 52,
   "metadata": {},
   "outputs": [
    {
     "data": {
      "text/html": [
       "<div>\n",
       "<style scoped>\n",
       "    .dataframe tbody tr th:only-of-type {\n",
       "        vertical-align: middle;\n",
       "    }\n",
       "\n",
       "    .dataframe tbody tr th {\n",
       "        vertical-align: top;\n",
       "    }\n",
       "\n",
       "    .dataframe thead th {\n",
       "        text-align: right;\n",
       "    }\n",
       "</style>\n",
       "<table border=\"1\" class=\"dataframe\">\n",
       "  <thead>\n",
       "    <tr style=\"text-align: right;\">\n",
       "      <th></th>\n",
       "      <th>EMA</th>\n",
       "      <th>DATA</th>\n",
       "      <th>T</th>\n",
       "      <th>TX</th>\n",
       "      <th>TN</th>\n",
       "      <th>PPT</th>\n",
       "    </tr>\n",
       "  </thead>\n",
       "  <tbody>\n",
       "    <tr>\n",
       "      <th>0</th>\n",
       "      <td>X4</td>\n",
       "      <td>2017-01-01 00:00:00</td>\n",
       "      <td>10.4</td>\n",
       "      <td>10.5</td>\n",
       "      <td>10.4</td>\n",
       "      <td>0.0</td>\n",
       "    </tr>\n",
       "    <tr>\n",
       "      <th>1</th>\n",
       "      <td>X4</td>\n",
       "      <td>2017-01-01 00:30:00</td>\n",
       "      <td>10.3</td>\n",
       "      <td>10.4</td>\n",
       "      <td>10.2</td>\n",
       "      <td>0.0</td>\n",
       "    </tr>\n",
       "    <tr>\n",
       "      <th>2</th>\n",
       "      <td>X4</td>\n",
       "      <td>2017-01-01 01:00:00</td>\n",
       "      <td>10.1</td>\n",
       "      <td>10.2</td>\n",
       "      <td>9.9</td>\n",
       "      <td>0.0</td>\n",
       "    </tr>\n",
       "    <tr>\n",
       "      <th>3</th>\n",
       "      <td>X4</td>\n",
       "      <td>2017-01-01 01:30:00</td>\n",
       "      <td>10.0</td>\n",
       "      <td>10.2</td>\n",
       "      <td>9.9</td>\n",
       "      <td>0.0</td>\n",
       "    </tr>\n",
       "    <tr>\n",
       "      <th>4</th>\n",
       "      <td>X4</td>\n",
       "      <td>2017-01-01 02:00:00</td>\n",
       "      <td>10.0</td>\n",
       "      <td>10.1</td>\n",
       "      <td>9.8</td>\n",
       "      <td>0.0</td>\n",
       "    </tr>\n",
       "  </tbody>\n",
       "</table>\n",
       "</div>"
      ],
      "text/plain": [
       "  EMA                DATA     T    TX    TN  PPT\n",
       "0  X4 2017-01-01 00:00:00  10.4  10.5  10.4  0.0\n",
       "1  X4 2017-01-01 00:30:00  10.3  10.4  10.2  0.0\n",
       "2  X4 2017-01-01 01:00:00  10.1  10.2   9.9  0.0\n",
       "3  X4 2017-01-01 01:30:00  10.0  10.2   9.9  0.0\n",
       "4  X4 2017-01-01 02:00:00  10.0  10.1   9.8  0.0"
      ]
     },
     "execution_count": 52,
     "metadata": {},
     "output_type": "execute_result"
    }
   ],
   "source": [
    "bcn_meteo_df.head()"
   ]
  },
  {
   "cell_type": "code",
   "execution_count": 53,
   "metadata": {},
   "outputs": [
    {
     "data": {
      "text/plain": [
       "(37920, 6)"
      ]
     },
     "execution_count": 53,
     "metadata": {},
     "output_type": "execute_result"
    }
   ],
   "source": [
    "bcn_meteo_df.shape"
   ]
  },
  {
   "cell_type": "code",
   "execution_count": 54,
   "metadata": {},
   "outputs": [],
   "source": [
    "Timestamp = pd.date_range(start='2017-01-01 00:00:00', freq='30T',\n",
    "                periods=bcn_meteo_df.shape[0], tz='Europe/Madrid')"
   ]
  },
  {
   "cell_type": "code",
   "execution_count": 55,
   "metadata": {},
   "outputs": [
    {
     "data": {
      "text/plain": [
       "DatetimeIndex(['2017-01-01 00:00:00+01:00', '2017-01-01 00:30:00+01:00',\n",
       "               '2017-01-01 01:00:00+01:00', '2017-01-01 01:30:00+01:00',\n",
       "               '2017-01-01 02:00:00+01:00', '2017-01-01 02:30:00+01:00',\n",
       "               '2017-01-01 03:00:00+01:00', '2017-01-01 03:30:00+01:00',\n",
       "               '2017-01-01 04:00:00+01:00', '2017-01-01 04:30:00+01:00'],\n",
       "              dtype='datetime64[ns, Europe/Madrid]', freq='30T')"
      ]
     },
     "execution_count": 55,
     "metadata": {},
     "output_type": "execute_result"
    }
   ],
   "source": [
    "Timestamp[:10]"
   ]
  },
  {
   "cell_type": "code",
   "execution_count": 63,
   "metadata": {},
   "outputs": [],
   "source": [
    "Timestamp.tz_convert('UTC')\n",
    "bcn_meteo_df['Timestamp'] = Timestamp.tz_convert(None)\n",
    "can_meteo_df['Timestamp'] = Timestamp.tz_convert(None)"
   ]
  },
  {
   "cell_type": "code",
   "execution_count": 61,
   "metadata": {},
   "outputs": [
    {
     "data": {
      "text/html": [
       "<div>\n",
       "<style scoped>\n",
       "    .dataframe tbody tr th:only-of-type {\n",
       "        vertical-align: middle;\n",
       "    }\n",
       "\n",
       "    .dataframe tbody tr th {\n",
       "        vertical-align: top;\n",
       "    }\n",
       "\n",
       "    .dataframe thead th {\n",
       "        text-align: right;\n",
       "    }\n",
       "</style>\n",
       "<table border=\"1\" class=\"dataframe\">\n",
       "  <thead>\n",
       "    <tr style=\"text-align: right;\">\n",
       "      <th></th>\n",
       "      <th>EMA</th>\n",
       "      <th>DATA</th>\n",
       "      <th>T</th>\n",
       "      <th>TX</th>\n",
       "      <th>TN</th>\n",
       "      <th>PPT</th>\n",
       "      <th>Timestamp</th>\n",
       "    </tr>\n",
       "  </thead>\n",
       "  <tbody>\n",
       "    <tr>\n",
       "      <th>0</th>\n",
       "      <td>X4</td>\n",
       "      <td>2017-01-01 00:00:00</td>\n",
       "      <td>10.4</td>\n",
       "      <td>10.5</td>\n",
       "      <td>10.4</td>\n",
       "      <td>0.0</td>\n",
       "      <td>2016-12-31 23:00:00</td>\n",
       "    </tr>\n",
       "    <tr>\n",
       "      <th>1</th>\n",
       "      <td>X4</td>\n",
       "      <td>2017-01-01 00:30:00</td>\n",
       "      <td>10.3</td>\n",
       "      <td>10.4</td>\n",
       "      <td>10.2</td>\n",
       "      <td>0.0</td>\n",
       "      <td>2016-12-31 23:30:00</td>\n",
       "    </tr>\n",
       "    <tr>\n",
       "      <th>2</th>\n",
       "      <td>X4</td>\n",
       "      <td>2017-01-01 01:00:00</td>\n",
       "      <td>10.1</td>\n",
       "      <td>10.2</td>\n",
       "      <td>9.9</td>\n",
       "      <td>0.0</td>\n",
       "      <td>2017-01-01 00:00:00</td>\n",
       "    </tr>\n",
       "    <tr>\n",
       "      <th>3</th>\n",
       "      <td>X4</td>\n",
       "      <td>2017-01-01 01:30:00</td>\n",
       "      <td>10.0</td>\n",
       "      <td>10.2</td>\n",
       "      <td>9.9</td>\n",
       "      <td>0.0</td>\n",
       "      <td>2017-01-01 00:30:00</td>\n",
       "    </tr>\n",
       "    <tr>\n",
       "      <th>4</th>\n",
       "      <td>X4</td>\n",
       "      <td>2017-01-01 02:00:00</td>\n",
       "      <td>10.0</td>\n",
       "      <td>10.1</td>\n",
       "      <td>9.8</td>\n",
       "      <td>0.0</td>\n",
       "      <td>2017-01-01 01:00:00</td>\n",
       "    </tr>\n",
       "  </tbody>\n",
       "</table>\n",
       "</div>"
      ],
      "text/plain": [
       "  EMA                DATA     T    TX    TN  PPT           Timestamp\n",
       "0  X4 2017-01-01 00:00:00  10.4  10.5  10.4  0.0 2016-12-31 23:00:00\n",
       "1  X4 2017-01-01 00:30:00  10.3  10.4  10.2  0.0 2016-12-31 23:30:00\n",
       "2  X4 2017-01-01 01:00:00  10.1  10.2   9.9  0.0 2017-01-01 00:00:00\n",
       "3  X4 2017-01-01 01:30:00  10.0  10.2   9.9  0.0 2017-01-01 00:30:00\n",
       "4  X4 2017-01-01 02:00:00  10.0  10.1   9.8  0.0 2017-01-01 01:00:00"
      ]
     },
     "execution_count": 61,
     "metadata": {},
     "output_type": "execute_result"
    }
   ],
   "source": [
    "bcn_meteo_df.head()"
   ]
  },
  {
   "cell_type": "code",
   "execution_count": 64,
   "metadata": {},
   "outputs": [
    {
     "data": {
      "text/html": [
       "<div>\n",
       "<style scoped>\n",
       "    .dataframe tbody tr th:only-of-type {\n",
       "        vertical-align: middle;\n",
       "    }\n",
       "\n",
       "    .dataframe tbody tr th {\n",
       "        vertical-align: top;\n",
       "    }\n",
       "\n",
       "    .dataframe thead th {\n",
       "        text-align: right;\n",
       "    }\n",
       "</style>\n",
       "<table border=\"1\" class=\"dataframe\">\n",
       "  <thead>\n",
       "    <tr style=\"text-align: right;\">\n",
       "      <th></th>\n",
       "      <th>EMA</th>\n",
       "      <th>DATA</th>\n",
       "      <th>T</th>\n",
       "      <th>TX</th>\n",
       "      <th>TN</th>\n",
       "      <th>PPT</th>\n",
       "      <th>Timestamp</th>\n",
       "    </tr>\n",
       "  </thead>\n",
       "  <tbody>\n",
       "    <tr>\n",
       "      <th>0</th>\n",
       "      <td>XU</td>\n",
       "      <td>2017-01-01 00:00:00</td>\n",
       "      <td>2.5</td>\n",
       "      <td>2.6</td>\n",
       "      <td>2.4</td>\n",
       "      <td>0.0</td>\n",
       "      <td>2016-12-31 23:00:00</td>\n",
       "    </tr>\n",
       "    <tr>\n",
       "      <th>1</th>\n",
       "      <td>XU</td>\n",
       "      <td>2017-01-01 00:30:00</td>\n",
       "      <td>2.2</td>\n",
       "      <td>2.6</td>\n",
       "      <td>2.0</td>\n",
       "      <td>0.0</td>\n",
       "      <td>2016-12-31 23:30:00</td>\n",
       "    </tr>\n",
       "    <tr>\n",
       "      <th>2</th>\n",
       "      <td>XU</td>\n",
       "      <td>2017-01-01 01:00:00</td>\n",
       "      <td>1.9</td>\n",
       "      <td>2.0</td>\n",
       "      <td>1.8</td>\n",
       "      <td>0.0</td>\n",
       "      <td>2017-01-01 00:00:00</td>\n",
       "    </tr>\n",
       "    <tr>\n",
       "      <th>3</th>\n",
       "      <td>XU</td>\n",
       "      <td>2017-01-01 01:30:00</td>\n",
       "      <td>1.6</td>\n",
       "      <td>1.8</td>\n",
       "      <td>1.4</td>\n",
       "      <td>0.0</td>\n",
       "      <td>2017-01-01 00:30:00</td>\n",
       "    </tr>\n",
       "    <tr>\n",
       "      <th>4</th>\n",
       "      <td>XU</td>\n",
       "      <td>2017-01-01 02:00:00</td>\n",
       "      <td>1.4</td>\n",
       "      <td>1.5</td>\n",
       "      <td>1.3</td>\n",
       "      <td>0.0</td>\n",
       "      <td>2017-01-01 01:00:00</td>\n",
       "    </tr>\n",
       "  </tbody>\n",
       "</table>\n",
       "</div>"
      ],
      "text/plain": [
       "  EMA                DATA    T   TX   TN  PPT           Timestamp\n",
       "0  XU 2017-01-01 00:00:00  2.5  2.6  2.4  0.0 2016-12-31 23:00:00\n",
       "1  XU 2017-01-01 00:30:00  2.2  2.6  2.0  0.0 2016-12-31 23:30:00\n",
       "2  XU 2017-01-01 01:00:00  1.9  2.0  1.8  0.0 2017-01-01 00:00:00\n",
       "3  XU 2017-01-01 01:30:00  1.6  1.8  1.4  0.0 2017-01-01 00:30:00\n",
       "4  XU 2017-01-01 02:00:00  1.4  1.5  1.3  0.0 2017-01-01 01:00:00"
      ]
     },
     "execution_count": 64,
     "metadata": {},
     "output_type": "execute_result"
    }
   ],
   "source": [
    "can_meteo_df.head()"
   ]
  },
  {
   "cell_type": "code",
   "execution_count": 66,
   "metadata": {},
   "outputs": [],
   "source": [
    "bcn_meteo_df.to_csv('./../../../Databases/X4Barcelona_converted.csv', index=False)\n",
    "can_meteo_df.to_csv('./../../../Databases/XUCanyelles_converted.csv', index=False)"
   ]
  },
  {
   "cell_type": "code",
   "execution_count": null,
   "metadata": {},
   "outputs": [],
   "source": []
  }
 ],
 "metadata": {
  "kernelspec": {
   "display_name": "Python 3",
   "language": "python",
   "name": "python3"
  },
  "language_info": {
   "codemirror_mode": {
    "name": "ipython",
    "version": 3
   },
   "file_extension": ".py",
   "mimetype": "text/x-python",
   "name": "python",
   "nbconvert_exporter": "python",
   "pygments_lexer": "ipython3",
   "version": "3.6.8"
  }
 },
 "nbformat": 4,
 "nbformat_minor": 2
}
