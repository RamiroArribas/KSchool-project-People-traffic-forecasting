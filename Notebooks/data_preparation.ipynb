{
 "cells": [
  {
   "cell_type": "code",
   "execution_count": 73,
   "metadata": {},
   "outputs": [],
   "source": [
    "import numpy as np\n",
    "import pandas as pd\n",
    "import datetime"
   ]
  },
  {
   "cell_type": "code",
   "execution_count": 74,
   "metadata": {},
   "outputs": [],
   "source": [
    "traffic_df = pd.read_excel('./../../../Databases/data.xlsx')\n",
    "bcn_meteo_df = pd.read_csv('./../../../Databases/X4Barcelona_converted.csv')\n",
    "can_meteo_df = pd.read_csv('./../../../Databases/XUCanyelles_converted.csv')"
   ]
  },
  {
   "cell_type": "markdown",
   "metadata": {},
   "source": [
    "### Traffic data"
   ]
  },
  {
   "cell_type": "code",
   "execution_count": 75,
   "metadata": {},
   "outputs": [
    {
     "data": {
      "text/html": [
       "<div>\n",
       "<style scoped>\n",
       "    .dataframe tbody tr th:only-of-type {\n",
       "        vertical-align: middle;\n",
       "    }\n",
       "\n",
       "    .dataframe tbody tr th {\n",
       "        vertical-align: top;\n",
       "    }\n",
       "\n",
       "    .dataframe thead th {\n",
       "        text-align: right;\n",
       "    }\n",
       "</style>\n",
       "<table border=\"1\" class=\"dataframe\">\n",
       "  <thead>\n",
       "    <tr style=\"text-align: right;\">\n",
       "      <th></th>\n",
       "      <th>Id</th>\n",
       "      <th>SiteId</th>\n",
       "      <th>Timestamp</th>\n",
       "      <th>TotalEntries</th>\n",
       "      <th>TotalOuts</th>\n",
       "      <th>TotalAccesses</th>\n",
       "      <th>TotalEntriesMen</th>\n",
       "      <th>TotalEntriesWoman</th>\n",
       "    </tr>\n",
       "  </thead>\n",
       "  <tbody>\n",
       "    <tr>\n",
       "      <th>0</th>\n",
       "      <td>35320</td>\n",
       "      <td>1</td>\n",
       "      <td>1543276800</td>\n",
       "      <td>0</td>\n",
       "      <td>0</td>\n",
       "      <td>0</td>\n",
       "      <td>0.0</td>\n",
       "      <td>0.0</td>\n",
       "    </tr>\n",
       "    <tr>\n",
       "      <th>1</th>\n",
       "      <td>35517</td>\n",
       "      <td>1</td>\n",
       "      <td>1543278600</td>\n",
       "      <td>0</td>\n",
       "      <td>0</td>\n",
       "      <td>0</td>\n",
       "      <td>0.0</td>\n",
       "      <td>0.0</td>\n",
       "    </tr>\n",
       "    <tr>\n",
       "      <th>2</th>\n",
       "      <td>35201</td>\n",
       "      <td>1</td>\n",
       "      <td>1543280400</td>\n",
       "      <td>0</td>\n",
       "      <td>0</td>\n",
       "      <td>0</td>\n",
       "      <td>0.0</td>\n",
       "      <td>0.0</td>\n",
       "    </tr>\n",
       "    <tr>\n",
       "      <th>3</th>\n",
       "      <td>34526</td>\n",
       "      <td>1</td>\n",
       "      <td>1543282200</td>\n",
       "      <td>0</td>\n",
       "      <td>0</td>\n",
       "      <td>0</td>\n",
       "      <td>0.0</td>\n",
       "      <td>0.0</td>\n",
       "    </tr>\n",
       "    <tr>\n",
       "      <th>4</th>\n",
       "      <td>34878</td>\n",
       "      <td>1</td>\n",
       "      <td>1543284000</td>\n",
       "      <td>0</td>\n",
       "      <td>0</td>\n",
       "      <td>0</td>\n",
       "      <td>0.0</td>\n",
       "      <td>0.0</td>\n",
       "    </tr>\n",
       "  </tbody>\n",
       "</table>\n",
       "</div>"
      ],
      "text/plain": [
       "      Id  SiteId   Timestamp  TotalEntries  TotalOuts  TotalAccesses  \\\n",
       "0  35320       1  1543276800             0          0              0   \n",
       "1  35517       1  1543278600             0          0              0   \n",
       "2  35201       1  1543280400             0          0              0   \n",
       "3  34526       1  1543282200             0          0              0   \n",
       "4  34878       1  1543284000             0          0              0   \n",
       "\n",
       "   TotalEntriesMen  TotalEntriesWoman  \n",
       "0              0.0                0.0  \n",
       "1              0.0                0.0  \n",
       "2              0.0                0.0  \n",
       "3              0.0                0.0  \n",
       "4              0.0                0.0  "
      ]
     },
     "execution_count": 75,
     "metadata": {},
     "output_type": "execute_result"
    }
   ],
   "source": [
    "traffic_df.head()"
   ]
  },
  {
   "cell_type": "code",
   "execution_count": 76,
   "metadata": {},
   "outputs": [
    {
     "data": {
      "text/plain": [
       "Id                     int64\n",
       "SiteId                 int64\n",
       "Timestamp              int64\n",
       "TotalEntries           int64\n",
       "TotalOuts              int64\n",
       "TotalAccesses          int64\n",
       "TotalEntriesMen      float64\n",
       "TotalEntriesWoman    float64\n",
       "dtype: object"
      ]
     },
     "execution_count": 76,
     "metadata": {},
     "output_type": "execute_result"
    }
   ],
   "source": [
    "traffic_df.dtypes"
   ]
  },
  {
   "cell_type": "code",
   "execution_count": 77,
   "metadata": {},
   "outputs": [
    {
     "data": {
      "text/html": [
       "<div>\n",
       "<style scoped>\n",
       "    .dataframe tbody tr th:only-of-type {\n",
       "        vertical-align: middle;\n",
       "    }\n",
       "\n",
       "    .dataframe tbody tr th {\n",
       "        vertical-align: top;\n",
       "    }\n",
       "\n",
       "    .dataframe thead th {\n",
       "        text-align: right;\n",
       "    }\n",
       "</style>\n",
       "<table border=\"1\" class=\"dataframe\">\n",
       "  <thead>\n",
       "    <tr style=\"text-align: right;\">\n",
       "      <th></th>\n",
       "      <th>Id</th>\n",
       "      <th>SiteId</th>\n",
       "      <th>Timestamp</th>\n",
       "      <th>TotalEntries</th>\n",
       "      <th>TotalOuts</th>\n",
       "      <th>TotalAccesses</th>\n",
       "      <th>TotalEntriesMen</th>\n",
       "      <th>TotalEntriesWoman</th>\n",
       "    </tr>\n",
       "  </thead>\n",
       "  <tbody>\n",
       "    <tr>\n",
       "      <th>4320</th>\n",
       "      <td>2305</td>\n",
       "      <td>2</td>\n",
       "      <td>2017-01-04 00:00:00</td>\n",
       "      <td>0</td>\n",
       "      <td>0</td>\n",
       "      <td>0</td>\n",
       "      <td>0.0</td>\n",
       "      <td>0.0</td>\n",
       "    </tr>\n",
       "    <tr>\n",
       "      <th>4321</th>\n",
       "      <td>2306</td>\n",
       "      <td>2</td>\n",
       "      <td>2017-01-04 00:30:00</td>\n",
       "      <td>0</td>\n",
       "      <td>0</td>\n",
       "      <td>0</td>\n",
       "      <td>0.0</td>\n",
       "      <td>0.0</td>\n",
       "    </tr>\n",
       "    <tr>\n",
       "      <th>4322</th>\n",
       "      <td>2307</td>\n",
       "      <td>2</td>\n",
       "      <td>2017-01-04 01:00:00</td>\n",
       "      <td>0</td>\n",
       "      <td>0</td>\n",
       "      <td>0</td>\n",
       "      <td>0.0</td>\n",
       "      <td>0.0</td>\n",
       "    </tr>\n",
       "    <tr>\n",
       "      <th>4323</th>\n",
       "      <td>2308</td>\n",
       "      <td>2</td>\n",
       "      <td>2017-01-04 01:30:00</td>\n",
       "      <td>0</td>\n",
       "      <td>0</td>\n",
       "      <td>0</td>\n",
       "      <td>0.0</td>\n",
       "      <td>0.0</td>\n",
       "    </tr>\n",
       "    <tr>\n",
       "      <th>4324</th>\n",
       "      <td>2309</td>\n",
       "      <td>2</td>\n",
       "      <td>2017-01-04 02:00:00</td>\n",
       "      <td>0</td>\n",
       "      <td>0</td>\n",
       "      <td>0</td>\n",
       "      <td>0.0</td>\n",
       "      <td>0.0</td>\n",
       "    </tr>\n",
       "  </tbody>\n",
       "</table>\n",
       "</div>"
      ],
      "text/plain": [
       "        Id  SiteId           Timestamp  TotalEntries  TotalOuts  \\\n",
       "4320  2305       2 2017-01-04 00:00:00             0          0   \n",
       "4321  2306       2 2017-01-04 00:30:00             0          0   \n",
       "4322  2307       2 2017-01-04 01:00:00             0          0   \n",
       "4323  2308       2 2017-01-04 01:30:00             0          0   \n",
       "4324  2309       2 2017-01-04 02:00:00             0          0   \n",
       "\n",
       "      TotalAccesses  TotalEntriesMen  TotalEntriesWoman  \n",
       "4320              0              0.0                0.0  \n",
       "4321              0              0.0                0.0  \n",
       "4322              0              0.0                0.0  \n",
       "4323              0              0.0                0.0  \n",
       "4324              0              0.0                0.0  "
      ]
     },
     "execution_count": 77,
     "metadata": {},
     "output_type": "execute_result"
    }
   ],
   "source": [
    "# Lets sort the data by Timestamp, and transform the column to a readable format.\n",
    "\n",
    "traffic_df.sort_values(['Timestamp'], ascending=True, inplace=True)\n",
    "traffic_df['Timestamp'] = pd.to_datetime(traffic_df['Timestamp'], unit='s')\n",
    "traffic_df.head()"
   ]
  },
  {
   "cell_type": "code",
   "execution_count": 78,
   "metadata": {},
   "outputs": [
    {
     "data": {
      "text/plain": [
       "Id                            int64\n",
       "SiteId                        int64\n",
       "Timestamp            datetime64[ns]\n",
       "TotalEntries                  int64\n",
       "TotalOuts                     int64\n",
       "TotalAccesses                 int64\n",
       "TotalEntriesMen             float64\n",
       "TotalEntriesWoman           float64\n",
       "dtype: object"
      ]
     },
     "execution_count": 78,
     "metadata": {},
     "output_type": "execute_result"
    }
   ],
   "source": [
    "traffic_df.dtypes"
   ]
  },
  {
   "cell_type": "markdown",
   "metadata": {},
   "source": [
    "### Meteo data: Barcelona & Canyelles"
   ]
  },
  {
   "cell_type": "code",
   "execution_count": 79,
   "metadata": {},
   "outputs": [
    {
     "data": {
      "text/html": [
       "<div>\n",
       "<style scoped>\n",
       "    .dataframe tbody tr th:only-of-type {\n",
       "        vertical-align: middle;\n",
       "    }\n",
       "\n",
       "    .dataframe tbody tr th {\n",
       "        vertical-align: top;\n",
       "    }\n",
       "\n",
       "    .dataframe thead th {\n",
       "        text-align: right;\n",
       "    }\n",
       "</style>\n",
       "<table border=\"1\" class=\"dataframe\">\n",
       "  <thead>\n",
       "    <tr style=\"text-align: right;\">\n",
       "      <th></th>\n",
       "      <th>EMA</th>\n",
       "      <th>DATA</th>\n",
       "      <th>T</th>\n",
       "      <th>TX</th>\n",
       "      <th>TN</th>\n",
       "      <th>PPT</th>\n",
       "      <th>Timestamp</th>\n",
       "    </tr>\n",
       "  </thead>\n",
       "  <tbody>\n",
       "    <tr>\n",
       "      <th>0</th>\n",
       "      <td>X4</td>\n",
       "      <td>2017-01-01 00:00:00</td>\n",
       "      <td>10.4</td>\n",
       "      <td>10.5</td>\n",
       "      <td>10.4</td>\n",
       "      <td>0.0</td>\n",
       "      <td>2016-12-31 23:00:00</td>\n",
       "    </tr>\n",
       "    <tr>\n",
       "      <th>1</th>\n",
       "      <td>X4</td>\n",
       "      <td>2017-01-01 00:30:00</td>\n",
       "      <td>10.3</td>\n",
       "      <td>10.4</td>\n",
       "      <td>10.2</td>\n",
       "      <td>0.0</td>\n",
       "      <td>2016-12-31 23:30:00</td>\n",
       "    </tr>\n",
       "    <tr>\n",
       "      <th>2</th>\n",
       "      <td>X4</td>\n",
       "      <td>2017-01-01 01:00:00</td>\n",
       "      <td>10.1</td>\n",
       "      <td>10.2</td>\n",
       "      <td>9.9</td>\n",
       "      <td>0.0</td>\n",
       "      <td>2017-01-01 00:00:00</td>\n",
       "    </tr>\n",
       "    <tr>\n",
       "      <th>3</th>\n",
       "      <td>X4</td>\n",
       "      <td>2017-01-01 01:30:00</td>\n",
       "      <td>10.0</td>\n",
       "      <td>10.2</td>\n",
       "      <td>9.9</td>\n",
       "      <td>0.0</td>\n",
       "      <td>2017-01-01 00:30:00</td>\n",
       "    </tr>\n",
       "    <tr>\n",
       "      <th>4</th>\n",
       "      <td>X4</td>\n",
       "      <td>2017-01-01 02:00:00</td>\n",
       "      <td>10.0</td>\n",
       "      <td>10.1</td>\n",
       "      <td>9.8</td>\n",
       "      <td>0.0</td>\n",
       "      <td>2017-01-01 01:00:00</td>\n",
       "    </tr>\n",
       "  </tbody>\n",
       "</table>\n",
       "</div>"
      ],
      "text/plain": [
       "  EMA                 DATA     T    TX    TN  PPT            Timestamp\n",
       "0  X4  2017-01-01 00:00:00  10.4  10.5  10.4  0.0  2016-12-31 23:00:00\n",
       "1  X4  2017-01-01 00:30:00  10.3  10.4  10.2  0.0  2016-12-31 23:30:00\n",
       "2  X4  2017-01-01 01:00:00  10.1  10.2   9.9  0.0  2017-01-01 00:00:00\n",
       "3  X4  2017-01-01 01:30:00  10.0  10.2   9.9  0.0  2017-01-01 00:30:00\n",
       "4  X4  2017-01-01 02:00:00  10.0  10.1   9.8  0.0  2017-01-01 01:00:00"
      ]
     },
     "execution_count": 79,
     "metadata": {},
     "output_type": "execute_result"
    }
   ],
   "source": [
    "bcn_meteo_df.head()"
   ]
  },
  {
   "cell_type": "code",
   "execution_count": 80,
   "metadata": {},
   "outputs": [
    {
     "data": {
      "text/html": [
       "<div>\n",
       "<style scoped>\n",
       "    .dataframe tbody tr th:only-of-type {\n",
       "        vertical-align: middle;\n",
       "    }\n",
       "\n",
       "    .dataframe tbody tr th {\n",
       "        vertical-align: top;\n",
       "    }\n",
       "\n",
       "    .dataframe thead th {\n",
       "        text-align: right;\n",
       "    }\n",
       "</style>\n",
       "<table border=\"1\" class=\"dataframe\">\n",
       "  <thead>\n",
       "    <tr style=\"text-align: right;\">\n",
       "      <th></th>\n",
       "      <th>EMA</th>\n",
       "      <th>DATA</th>\n",
       "      <th>T</th>\n",
       "      <th>TX</th>\n",
       "      <th>TN</th>\n",
       "      <th>PPT</th>\n",
       "      <th>Timestamp</th>\n",
       "    </tr>\n",
       "  </thead>\n",
       "  <tbody>\n",
       "    <tr>\n",
       "      <th>0</th>\n",
       "      <td>XU</td>\n",
       "      <td>2017-01-01 00:00:00</td>\n",
       "      <td>2.5</td>\n",
       "      <td>2.6</td>\n",
       "      <td>2.4</td>\n",
       "      <td>0.0</td>\n",
       "      <td>2016-12-31 23:00:00</td>\n",
       "    </tr>\n",
       "    <tr>\n",
       "      <th>1</th>\n",
       "      <td>XU</td>\n",
       "      <td>2017-01-01 00:30:00</td>\n",
       "      <td>2.2</td>\n",
       "      <td>2.6</td>\n",
       "      <td>2.0</td>\n",
       "      <td>0.0</td>\n",
       "      <td>2016-12-31 23:30:00</td>\n",
       "    </tr>\n",
       "    <tr>\n",
       "      <th>2</th>\n",
       "      <td>XU</td>\n",
       "      <td>2017-01-01 01:00:00</td>\n",
       "      <td>1.9</td>\n",
       "      <td>2.0</td>\n",
       "      <td>1.8</td>\n",
       "      <td>0.0</td>\n",
       "      <td>2017-01-01 00:00:00</td>\n",
       "    </tr>\n",
       "    <tr>\n",
       "      <th>3</th>\n",
       "      <td>XU</td>\n",
       "      <td>2017-01-01 01:30:00</td>\n",
       "      <td>1.6</td>\n",
       "      <td>1.8</td>\n",
       "      <td>1.4</td>\n",
       "      <td>0.0</td>\n",
       "      <td>2017-01-01 00:30:00</td>\n",
       "    </tr>\n",
       "    <tr>\n",
       "      <th>4</th>\n",
       "      <td>XU</td>\n",
       "      <td>2017-01-01 02:00:00</td>\n",
       "      <td>1.4</td>\n",
       "      <td>1.5</td>\n",
       "      <td>1.3</td>\n",
       "      <td>0.0</td>\n",
       "      <td>2017-01-01 01:00:00</td>\n",
       "    </tr>\n",
       "  </tbody>\n",
       "</table>\n",
       "</div>"
      ],
      "text/plain": [
       "  EMA                 DATA    T   TX   TN  PPT            Timestamp\n",
       "0  XU  2017-01-01 00:00:00  2.5  2.6  2.4  0.0  2016-12-31 23:00:00\n",
       "1  XU  2017-01-01 00:30:00  2.2  2.6  2.0  0.0  2016-12-31 23:30:00\n",
       "2  XU  2017-01-01 01:00:00  1.9  2.0  1.8  0.0  2017-01-01 00:00:00\n",
       "3  XU  2017-01-01 01:30:00  1.6  1.8  1.4  0.0  2017-01-01 00:30:00\n",
       "4  XU  2017-01-01 02:00:00  1.4  1.5  1.3  0.0  2017-01-01 01:00:00"
      ]
     },
     "execution_count": 80,
     "metadata": {},
     "output_type": "execute_result"
    }
   ],
   "source": [
    "can_meteo_df.head()"
   ]
  },
  {
   "cell_type": "code",
   "execution_count": 81,
   "metadata": {},
   "outputs": [
    {
     "data": {
      "text/plain": [
       "(EMA           object\n",
       " DATA          object\n",
       " T            float64\n",
       " TX           float64\n",
       " TN           float64\n",
       " PPT          float64\n",
       " Timestamp     object\n",
       " dtype: object, EMA           object\n",
       " DATA          object\n",
       " T            float64\n",
       " TX           float64\n",
       " TN           float64\n",
       " PPT          float64\n",
       " Timestamp     object\n",
       " dtype: object)"
      ]
     },
     "execution_count": 81,
     "metadata": {},
     "output_type": "execute_result"
    }
   ],
   "source": [
    "bcn_meteo_df.dtypes, can_meteo_df.dtypes"
   ]
  },
  {
   "cell_type": "code",
   "execution_count": 82,
   "metadata": {},
   "outputs": [
    {
     "data": {
      "text/plain": [
       "(EMA                  object\n",
       " DATA                 object\n",
       " T                   float64\n",
       " TX                  float64\n",
       " TN                  float64\n",
       " PPT                 float64\n",
       " Timestamp    datetime64[ns]\n",
       " dtype: object, EMA                  object\n",
       " DATA                 object\n",
       " T                   float64\n",
       " TX                  float64\n",
       " TN                  float64\n",
       " PPT                 float64\n",
       " Timestamp    datetime64[ns]\n",
       " dtype: object)"
      ]
     },
     "execution_count": 82,
     "metadata": {},
     "output_type": "execute_result"
    }
   ],
   "source": [
    "bcn_meteo_df['Timestamp'] = pd.to_datetime(bcn_meteo_df['Timestamp'], dayfirst=True)\n",
    "can_meteo_df['Timestamp'] = pd.to_datetime(can_meteo_df['Timestamp'], dayfirst=True)\n",
    "bcn_meteo_df.dtypes, can_meteo_df.dtypes"
   ]
  },
  {
   "cell_type": "markdown",
   "metadata": {},
   "source": [
    "### Creating a dataframe with all the data\n",
    "\n",
    "We want to merge both meteo dataframes with the main one (traffic). There are 3 SiteIds on the traffic dataset (1 & 2 of Barcelona and 3 of Vilanova i la Geltrú). Our joining keys will be datetime and SiteId."
   ]
  },
  {
   "cell_type": "code",
   "execution_count": 83,
   "metadata": {},
   "outputs": [],
   "source": [
    "bcn_meteo_df['SiteId'] = 2"
   ]
  },
  {
   "cell_type": "code",
   "execution_count": 84,
   "metadata": {},
   "outputs": [
    {
     "data": {
      "text/html": [
       "<div>\n",
       "<style scoped>\n",
       "    .dataframe tbody tr th:only-of-type {\n",
       "        vertical-align: middle;\n",
       "    }\n",
       "\n",
       "    .dataframe tbody tr th {\n",
       "        vertical-align: top;\n",
       "    }\n",
       "\n",
       "    .dataframe thead th {\n",
       "        text-align: right;\n",
       "    }\n",
       "</style>\n",
       "<table border=\"1\" class=\"dataframe\">\n",
       "  <thead>\n",
       "    <tr style=\"text-align: right;\">\n",
       "      <th></th>\n",
       "      <th>EMA</th>\n",
       "      <th>DATA</th>\n",
       "      <th>T</th>\n",
       "      <th>TX</th>\n",
       "      <th>TN</th>\n",
       "      <th>PPT</th>\n",
       "      <th>Timestamp</th>\n",
       "      <th>SiteId</th>\n",
       "    </tr>\n",
       "  </thead>\n",
       "  <tbody>\n",
       "    <tr>\n",
       "      <th>0</th>\n",
       "      <td>X4</td>\n",
       "      <td>2017-01-01 00:00:00</td>\n",
       "      <td>10.4</td>\n",
       "      <td>10.5</td>\n",
       "      <td>10.4</td>\n",
       "      <td>0.0</td>\n",
       "      <td>2016-12-31 23:00:00</td>\n",
       "      <td>2</td>\n",
       "    </tr>\n",
       "    <tr>\n",
       "      <th>1</th>\n",
       "      <td>X4</td>\n",
       "      <td>2017-01-01 00:30:00</td>\n",
       "      <td>10.3</td>\n",
       "      <td>10.4</td>\n",
       "      <td>10.2</td>\n",
       "      <td>0.0</td>\n",
       "      <td>2016-12-31 23:30:00</td>\n",
       "      <td>2</td>\n",
       "    </tr>\n",
       "    <tr>\n",
       "      <th>2</th>\n",
       "      <td>X4</td>\n",
       "      <td>2017-01-01 01:00:00</td>\n",
       "      <td>10.1</td>\n",
       "      <td>10.2</td>\n",
       "      <td>9.9</td>\n",
       "      <td>0.0</td>\n",
       "      <td>2017-01-01 00:00:00</td>\n",
       "      <td>2</td>\n",
       "    </tr>\n",
       "    <tr>\n",
       "      <th>3</th>\n",
       "      <td>X4</td>\n",
       "      <td>2017-01-01 01:30:00</td>\n",
       "      <td>10.0</td>\n",
       "      <td>10.2</td>\n",
       "      <td>9.9</td>\n",
       "      <td>0.0</td>\n",
       "      <td>2017-01-01 00:30:00</td>\n",
       "      <td>2</td>\n",
       "    </tr>\n",
       "    <tr>\n",
       "      <th>4</th>\n",
       "      <td>X4</td>\n",
       "      <td>2017-01-01 02:00:00</td>\n",
       "      <td>10.0</td>\n",
       "      <td>10.1</td>\n",
       "      <td>9.8</td>\n",
       "      <td>0.0</td>\n",
       "      <td>2017-01-01 01:00:00</td>\n",
       "      <td>2</td>\n",
       "    </tr>\n",
       "  </tbody>\n",
       "</table>\n",
       "</div>"
      ],
      "text/plain": [
       "  EMA                 DATA     T    TX    TN  PPT           Timestamp  SiteId\n",
       "0  X4  2017-01-01 00:00:00  10.4  10.5  10.4  0.0 2016-12-31 23:00:00       2\n",
       "1  X4  2017-01-01 00:30:00  10.3  10.4  10.2  0.0 2016-12-31 23:30:00       2\n",
       "2  X4  2017-01-01 01:00:00  10.1  10.2   9.9  0.0 2017-01-01 00:00:00       2\n",
       "3  X4  2017-01-01 01:30:00  10.0  10.2   9.9  0.0 2017-01-01 00:30:00       2\n",
       "4  X4  2017-01-01 02:00:00  10.0  10.1   9.8  0.0 2017-01-01 01:00:00       2"
      ]
     },
     "execution_count": 84,
     "metadata": {},
     "output_type": "execute_result"
    }
   ],
   "source": [
    "bcn_meteo_df.head()"
   ]
  },
  {
   "cell_type": "code",
   "execution_count": 85,
   "metadata": {},
   "outputs": [],
   "source": [
    "all_data_df = traffic_df.merge(bcn_meteo_df.drop(['DATA', 'EMA', 'TX', 'TN'], axis=1), how= 'left', \n",
    "        on=['Timestamp', 'SiteId'])"
   ]
  },
  {
   "cell_type": "code",
   "execution_count": 86,
   "metadata": {},
   "outputs": [
    {
     "data": {
      "text/html": [
       "<div>\n",
       "<style scoped>\n",
       "    .dataframe tbody tr th:only-of-type {\n",
       "        vertical-align: middle;\n",
       "    }\n",
       "\n",
       "    .dataframe tbody tr th {\n",
       "        vertical-align: top;\n",
       "    }\n",
       "\n",
       "    .dataframe thead th {\n",
       "        text-align: right;\n",
       "    }\n",
       "</style>\n",
       "<table border=\"1\" class=\"dataframe\">\n",
       "  <thead>\n",
       "    <tr style=\"text-align: right;\">\n",
       "      <th></th>\n",
       "      <th>Id</th>\n",
       "      <th>SiteId</th>\n",
       "      <th>Timestamp</th>\n",
       "      <th>TotalEntries</th>\n",
       "      <th>TotalOuts</th>\n",
       "      <th>TotalAccesses</th>\n",
       "      <th>TotalEntriesMen</th>\n",
       "      <th>TotalEntriesWoman</th>\n",
       "      <th>T</th>\n",
       "      <th>PPT</th>\n",
       "    </tr>\n",
       "  </thead>\n",
       "  <tbody>\n",
       "    <tr>\n",
       "      <th>0</th>\n",
       "      <td>2305</td>\n",
       "      <td>2</td>\n",
       "      <td>2017-01-04 00:00:00</td>\n",
       "      <td>0</td>\n",
       "      <td>0</td>\n",
       "      <td>0</td>\n",
       "      <td>0.0</td>\n",
       "      <td>0.0</td>\n",
       "      <td>10.7</td>\n",
       "      <td>0.0</td>\n",
       "    </tr>\n",
       "    <tr>\n",
       "      <th>1</th>\n",
       "      <td>2306</td>\n",
       "      <td>2</td>\n",
       "      <td>2017-01-04 00:30:00</td>\n",
       "      <td>0</td>\n",
       "      <td>0</td>\n",
       "      <td>0</td>\n",
       "      <td>0.0</td>\n",
       "      <td>0.0</td>\n",
       "      <td>10.8</td>\n",
       "      <td>0.0</td>\n",
       "    </tr>\n",
       "    <tr>\n",
       "      <th>2</th>\n",
       "      <td>2307</td>\n",
       "      <td>2</td>\n",
       "      <td>2017-01-04 01:00:00</td>\n",
       "      <td>0</td>\n",
       "      <td>0</td>\n",
       "      <td>0</td>\n",
       "      <td>0.0</td>\n",
       "      <td>0.0</td>\n",
       "      <td>10.9</td>\n",
       "      <td>0.0</td>\n",
       "    </tr>\n",
       "    <tr>\n",
       "      <th>3</th>\n",
       "      <td>2308</td>\n",
       "      <td>2</td>\n",
       "      <td>2017-01-04 01:30:00</td>\n",
       "      <td>0</td>\n",
       "      <td>0</td>\n",
       "      <td>0</td>\n",
       "      <td>0.0</td>\n",
       "      <td>0.0</td>\n",
       "      <td>11.0</td>\n",
       "      <td>0.0</td>\n",
       "    </tr>\n",
       "    <tr>\n",
       "      <th>4</th>\n",
       "      <td>2309</td>\n",
       "      <td>2</td>\n",
       "      <td>2017-01-04 02:00:00</td>\n",
       "      <td>0</td>\n",
       "      <td>0</td>\n",
       "      <td>0</td>\n",
       "      <td>0.0</td>\n",
       "      <td>0.0</td>\n",
       "      <td>11.1</td>\n",
       "      <td>0.0</td>\n",
       "    </tr>\n",
       "  </tbody>\n",
       "</table>\n",
       "</div>"
      ],
      "text/plain": [
       "     Id  SiteId           Timestamp  TotalEntries  TotalOuts  TotalAccesses  \\\n",
       "0  2305       2 2017-01-04 00:00:00             0          0              0   \n",
       "1  2306       2 2017-01-04 00:30:00             0          0              0   \n",
       "2  2307       2 2017-01-04 01:00:00             0          0              0   \n",
       "3  2308       2 2017-01-04 01:30:00             0          0              0   \n",
       "4  2309       2 2017-01-04 02:00:00             0          0              0   \n",
       "\n",
       "   TotalEntriesMen  TotalEntriesWoman     T  PPT  \n",
       "0              0.0                0.0  10.7  0.0  \n",
       "1              0.0                0.0  10.8  0.0  \n",
       "2              0.0                0.0  10.9  0.0  \n",
       "3              0.0                0.0  11.0  0.0  \n",
       "4              0.0                0.0  11.1  0.0  "
      ]
     },
     "execution_count": 86,
     "metadata": {},
     "output_type": "execute_result"
    }
   ],
   "source": [
    "all_data_df.head()"
   ]
  },
  {
   "cell_type": "code",
   "execution_count": 87,
   "metadata": {},
   "outputs": [
    {
     "data": {
      "text/plain": [
       "((45216, 8), (45216, 10))"
      ]
     },
     "execution_count": 87,
     "metadata": {},
     "output_type": "execute_result"
    }
   ],
   "source": [
    "# Lets check that the merge has been done as expected printing the dimensions:\n",
    "\n",
    "traffic_df.shape, all_data_df.shape"
   ]
  },
  {
   "cell_type": "code",
   "execution_count": 88,
   "metadata": {},
   "outputs": [
    {
     "data": {
      "text/plain": [
       "Id                      0\n",
       "SiteId                  0\n",
       "Timestamp               0\n",
       "TotalEntries            0\n",
       "TotalOuts               0\n",
       "TotalAccesses           0\n",
       "TotalEntriesMen       192\n",
       "TotalEntriesWoman     192\n",
       "T                    7872\n",
       "PPT                  7872\n",
       "dtype: int64"
      ]
     },
     "execution_count": 88,
     "metadata": {},
     "output_type": "execute_result"
    }
   ],
   "source": [
    "# Another hint of a good merge will be to find NaNs of DATA, T and PPT on the other SiteIds:\n",
    "\n",
    "all_data_df.isnull().sum()"
   ]
  },
  {
   "cell_type": "code",
   "execution_count": 89,
   "metadata": {},
   "outputs": [
    {
     "data": {
      "text/plain": [
       "7872"
      ]
     },
     "execution_count": 89,
     "metadata": {},
     "output_type": "execute_result"
    }
   ],
   "source": [
    "# The sum of the counts of SiteIds 1 and 3 should be the same as the NaNs\n",
    "\n",
    "all_data_df['SiteId'][all_data_df['SiteId'] == 1].count() + all_data_df['SiteId'][all_data_df['SiteId'] == 3].count()"
   ]
  },
  {
   "cell_type": "code",
   "execution_count": 90,
   "metadata": {},
   "outputs": [
    {
     "data": {
      "text/plain": [
       "Id                   0\n",
       "SiteId               0\n",
       "Timestamp            0\n",
       "TotalEntries         0\n",
       "TotalOuts            0\n",
       "TotalAccesses        0\n",
       "TotalEntriesMen      0\n",
       "TotalEntriesWoman    0\n",
       "T                    0\n",
       "PPT                  0\n",
       "dtype: int64"
      ]
     },
     "execution_count": 90,
     "metadata": {},
     "output_type": "execute_result"
    }
   ],
   "source": [
    "all_data_df[all_data_df['SiteId'] == 2].isnull().sum()"
   ]
  },
  {
   "cell_type": "code",
   "execution_count": 91,
   "metadata": {},
   "outputs": [],
   "source": [
    "bcn_meteo_df['SiteId'] = 1\n",
    "all_data_df = all_data_df.merge(bcn_meteo_df.drop(['DATA', 'EMA', 'TX', 'TN'], axis=1), how= 'left', \n",
    "        on=['Timestamp', 'SiteId'])"
   ]
  },
  {
   "cell_type": "code",
   "execution_count": 92,
   "metadata": {},
   "outputs": [
    {
     "data": {
      "text/plain": [
       "Id                      0\n",
       "SiteId                  0\n",
       "Timestamp               0\n",
       "TotalEntries            0\n",
       "TotalOuts               0\n",
       "TotalAccesses           0\n",
       "TotalEntriesMen       192\n",
       "TotalEntriesWoman     192\n",
       "T_x                  4320\n",
       "PPT_x                4320\n",
       "T_y                     0\n",
       "PPT_y                   0\n",
       "dtype: int64"
      ]
     },
     "execution_count": 92,
     "metadata": {},
     "output_type": "execute_result"
    }
   ],
   "source": [
    "all_data_df[all_data_df['SiteId'] == 1].isnull().sum()"
   ]
  },
  {
   "cell_type": "code",
   "execution_count": 93,
   "metadata": {},
   "outputs": [],
   "source": [
    "can_meteo_df['SiteId'] = 3\n",
    "all_data_df = all_data_df.merge(can_meteo_df.drop(['DATA', 'EMA', 'TX', 'TN'], axis=1), how= 'left', \n",
    "        on=['Timestamp', 'SiteId'])"
   ]
  },
  {
   "cell_type": "code",
   "execution_count": 94,
   "metadata": {},
   "outputs": [
    {
     "data": {
      "text/html": [
       "<div>\n",
       "<style scoped>\n",
       "    .dataframe tbody tr th:only-of-type {\n",
       "        vertical-align: middle;\n",
       "    }\n",
       "\n",
       "    .dataframe tbody tr th {\n",
       "        vertical-align: top;\n",
       "    }\n",
       "\n",
       "    .dataframe thead th {\n",
       "        text-align: right;\n",
       "    }\n",
       "</style>\n",
       "<table border=\"1\" class=\"dataframe\">\n",
       "  <thead>\n",
       "    <tr style=\"text-align: right;\">\n",
       "      <th></th>\n",
       "      <th>Id</th>\n",
       "      <th>SiteId</th>\n",
       "      <th>Timestamp</th>\n",
       "      <th>TotalEntries</th>\n",
       "      <th>TotalOuts</th>\n",
       "      <th>TotalAccesses</th>\n",
       "      <th>TotalEntriesMen</th>\n",
       "      <th>TotalEntriesWoman</th>\n",
       "      <th>T_x</th>\n",
       "      <th>PPT_x</th>\n",
       "      <th>T_y</th>\n",
       "      <th>PPT_y</th>\n",
       "      <th>T</th>\n",
       "      <th>PPT</th>\n",
       "    </tr>\n",
       "  </thead>\n",
       "  <tbody>\n",
       "    <tr>\n",
       "      <th>0</th>\n",
       "      <td>2305</td>\n",
       "      <td>2</td>\n",
       "      <td>2017-01-04 00:00:00</td>\n",
       "      <td>0</td>\n",
       "      <td>0</td>\n",
       "      <td>0</td>\n",
       "      <td>0.0</td>\n",
       "      <td>0.0</td>\n",
       "      <td>10.7</td>\n",
       "      <td>0.0</td>\n",
       "      <td>NaN</td>\n",
       "      <td>NaN</td>\n",
       "      <td>NaN</td>\n",
       "      <td>NaN</td>\n",
       "    </tr>\n",
       "    <tr>\n",
       "      <th>1</th>\n",
       "      <td>2306</td>\n",
       "      <td>2</td>\n",
       "      <td>2017-01-04 00:30:00</td>\n",
       "      <td>0</td>\n",
       "      <td>0</td>\n",
       "      <td>0</td>\n",
       "      <td>0.0</td>\n",
       "      <td>0.0</td>\n",
       "      <td>10.8</td>\n",
       "      <td>0.0</td>\n",
       "      <td>NaN</td>\n",
       "      <td>NaN</td>\n",
       "      <td>NaN</td>\n",
       "      <td>NaN</td>\n",
       "    </tr>\n",
       "    <tr>\n",
       "      <th>2</th>\n",
       "      <td>2307</td>\n",
       "      <td>2</td>\n",
       "      <td>2017-01-04 01:00:00</td>\n",
       "      <td>0</td>\n",
       "      <td>0</td>\n",
       "      <td>0</td>\n",
       "      <td>0.0</td>\n",
       "      <td>0.0</td>\n",
       "      <td>10.9</td>\n",
       "      <td>0.0</td>\n",
       "      <td>NaN</td>\n",
       "      <td>NaN</td>\n",
       "      <td>NaN</td>\n",
       "      <td>NaN</td>\n",
       "    </tr>\n",
       "    <tr>\n",
       "      <th>3</th>\n",
       "      <td>2308</td>\n",
       "      <td>2</td>\n",
       "      <td>2017-01-04 01:30:00</td>\n",
       "      <td>0</td>\n",
       "      <td>0</td>\n",
       "      <td>0</td>\n",
       "      <td>0.0</td>\n",
       "      <td>0.0</td>\n",
       "      <td>11.0</td>\n",
       "      <td>0.0</td>\n",
       "      <td>NaN</td>\n",
       "      <td>NaN</td>\n",
       "      <td>NaN</td>\n",
       "      <td>NaN</td>\n",
       "    </tr>\n",
       "    <tr>\n",
       "      <th>4</th>\n",
       "      <td>2309</td>\n",
       "      <td>2</td>\n",
       "      <td>2017-01-04 02:00:00</td>\n",
       "      <td>0</td>\n",
       "      <td>0</td>\n",
       "      <td>0</td>\n",
       "      <td>0.0</td>\n",
       "      <td>0.0</td>\n",
       "      <td>11.1</td>\n",
       "      <td>0.0</td>\n",
       "      <td>NaN</td>\n",
       "      <td>NaN</td>\n",
       "      <td>NaN</td>\n",
       "      <td>NaN</td>\n",
       "    </tr>\n",
       "  </tbody>\n",
       "</table>\n",
       "</div>"
      ],
      "text/plain": [
       "     Id  SiteId           Timestamp  TotalEntries  TotalOuts  TotalAccesses  \\\n",
       "0  2305       2 2017-01-04 00:00:00             0          0              0   \n",
       "1  2306       2 2017-01-04 00:30:00             0          0              0   \n",
       "2  2307       2 2017-01-04 01:00:00             0          0              0   \n",
       "3  2308       2 2017-01-04 01:30:00             0          0              0   \n",
       "4  2309       2 2017-01-04 02:00:00             0          0              0   \n",
       "\n",
       "   TotalEntriesMen  TotalEntriesWoman   T_x  PPT_x  T_y  PPT_y   T  PPT  \n",
       "0              0.0                0.0  10.7    0.0  NaN    NaN NaN  NaN  \n",
       "1              0.0                0.0  10.8    0.0  NaN    NaN NaN  NaN  \n",
       "2              0.0                0.0  10.9    0.0  NaN    NaN NaN  NaN  \n",
       "3              0.0                0.0  11.0    0.0  NaN    NaN NaN  NaN  \n",
       "4              0.0                0.0  11.1    0.0  NaN    NaN NaN  NaN  "
      ]
     },
     "execution_count": 94,
     "metadata": {},
     "output_type": "execute_result"
    }
   ],
   "source": [
    "all_data_df.head()"
   ]
  },
  {
   "cell_type": "code",
   "execution_count": 95,
   "metadata": {},
   "outputs": [
    {
     "name": "stderr",
     "output_type": "stream",
     "text": [
      "/home/quark/anaconda3/envs/mpro/lib/python3.6/site-packages/ipykernel_launcher.py:4: SettingWithCopyWarning: \n",
      "A value is trying to be set on a copy of a slice from a DataFrame\n",
      "\n",
      "See the caveats in the documentation: http://pandas.pydata.org/pandas-docs/stable/indexing.html#indexing-view-versus-copy\n",
      "  after removing the cwd from sys.path.\n",
      "/home/quark/anaconda3/envs/mpro/lib/python3.6/site-packages/ipykernel_launcher.py:5: SettingWithCopyWarning: \n",
      "A value is trying to be set on a copy of a slice from a DataFrame\n",
      "\n",
      "See the caveats in the documentation: http://pandas.pydata.org/pandas-docs/stable/indexing.html#indexing-view-versus-copy\n",
      "  \"\"\"\n",
      "/home/quark/anaconda3/envs/mpro/lib/python3.6/site-packages/ipykernel_launcher.py:7: SettingWithCopyWarning: \n",
      "A value is trying to be set on a copy of a slice from a DataFrame\n",
      "\n",
      "See the caveats in the documentation: http://pandas.pydata.org/pandas-docs/stable/indexing.html#indexing-view-versus-copy\n",
      "  import sys\n",
      "/home/quark/anaconda3/envs/mpro/lib/python3.6/site-packages/ipykernel_launcher.py:8: SettingWithCopyWarning: \n",
      "A value is trying to be set on a copy of a slice from a DataFrame\n",
      "\n",
      "See the caveats in the documentation: http://pandas.pydata.org/pandas-docs/stable/indexing.html#indexing-view-versus-copy\n",
      "  \n"
     ]
    }
   ],
   "source": [
    "# Since we have replicated the weather columns with each append, we have to reorganize the dataframe:\n",
    "\n",
    "all_data_df['Temperature'] = all_data_df['T_x']\n",
    "all_data_df['Temperature'][all_data_df['SiteId'] == 1] = all_data_df['T_y']\n",
    "all_data_df['Temperature'][all_data_df['SiteId'] == 3] = all_data_df['T']\n",
    "all_data_df['Precipitation'] = all_data_df['PPT_x']\n",
    "all_data_df['Precipitation'][all_data_df['SiteId'] == 1] = all_data_df['PPT_y']\n",
    "all_data_df['Precipitation'][all_data_df['SiteId'] == 3] = all_data_df['PPT']\n"
   ]
  },
  {
   "cell_type": "code",
   "execution_count": 96,
   "metadata": {},
   "outputs": [],
   "source": [
    "all_data_df.drop(['T_x', 'PPT_x', 'T_y', 'PPT_y', 'T', 'PPT'], axis=1, inplace=True)"
   ]
  },
  {
   "cell_type": "code",
   "execution_count": 97,
   "metadata": {},
   "outputs": [
    {
     "data": {
      "text/plain": [
       "Id                     0\n",
       "SiteId                 0\n",
       "Timestamp              0\n",
       "TotalEntries           0\n",
       "TotalOuts              0\n",
       "TotalAccesses          0\n",
       "TotalEntriesMen      192\n",
       "TotalEntriesWoman    192\n",
       "Temperature            0\n",
       "Precipitation          0\n",
       "dtype: int64"
      ]
     },
     "execution_count": 97,
     "metadata": {},
     "output_type": "execute_result"
    }
   ],
   "source": [
    "all_data_df.isnull().sum()"
   ]
  },
  {
   "cell_type": "code",
   "execution_count": 98,
   "metadata": {},
   "outputs": [
    {
     "data": {
      "text/html": [
       "<div>\n",
       "<style scoped>\n",
       "    .dataframe tbody tr th:only-of-type {\n",
       "        vertical-align: middle;\n",
       "    }\n",
       "\n",
       "    .dataframe tbody tr th {\n",
       "        vertical-align: top;\n",
       "    }\n",
       "\n",
       "    .dataframe thead th {\n",
       "        text-align: right;\n",
       "    }\n",
       "</style>\n",
       "<table border=\"1\" class=\"dataframe\">\n",
       "  <thead>\n",
       "    <tr style=\"text-align: right;\">\n",
       "      <th></th>\n",
       "      <th>Id</th>\n",
       "      <th>SiteId</th>\n",
       "      <th>Timestamp</th>\n",
       "      <th>TotalEntries</th>\n",
       "      <th>TotalOuts</th>\n",
       "      <th>TotalAccesses</th>\n",
       "      <th>TotalEntriesMen</th>\n",
       "      <th>TotalEntriesWoman</th>\n",
       "      <th>Temperature</th>\n",
       "      <th>Precipitation</th>\n",
       "    </tr>\n",
       "  </thead>\n",
       "  <tbody>\n",
       "    <tr>\n",
       "      <th>0</th>\n",
       "      <td>2305</td>\n",
       "      <td>2</td>\n",
       "      <td>2017-01-04 00:00:00</td>\n",
       "      <td>0</td>\n",
       "      <td>0</td>\n",
       "      <td>0</td>\n",
       "      <td>0.0</td>\n",
       "      <td>0.0</td>\n",
       "      <td>10.7</td>\n",
       "      <td>0.0</td>\n",
       "    </tr>\n",
       "    <tr>\n",
       "      <th>1</th>\n",
       "      <td>2306</td>\n",
       "      <td>2</td>\n",
       "      <td>2017-01-04 00:30:00</td>\n",
       "      <td>0</td>\n",
       "      <td>0</td>\n",
       "      <td>0</td>\n",
       "      <td>0.0</td>\n",
       "      <td>0.0</td>\n",
       "      <td>10.8</td>\n",
       "      <td>0.0</td>\n",
       "    </tr>\n",
       "    <tr>\n",
       "      <th>2</th>\n",
       "      <td>2307</td>\n",
       "      <td>2</td>\n",
       "      <td>2017-01-04 01:00:00</td>\n",
       "      <td>0</td>\n",
       "      <td>0</td>\n",
       "      <td>0</td>\n",
       "      <td>0.0</td>\n",
       "      <td>0.0</td>\n",
       "      <td>10.9</td>\n",
       "      <td>0.0</td>\n",
       "    </tr>\n",
       "    <tr>\n",
       "      <th>3</th>\n",
       "      <td>2308</td>\n",
       "      <td>2</td>\n",
       "      <td>2017-01-04 01:30:00</td>\n",
       "      <td>0</td>\n",
       "      <td>0</td>\n",
       "      <td>0</td>\n",
       "      <td>0.0</td>\n",
       "      <td>0.0</td>\n",
       "      <td>11.0</td>\n",
       "      <td>0.0</td>\n",
       "    </tr>\n",
       "    <tr>\n",
       "      <th>4</th>\n",
       "      <td>2309</td>\n",
       "      <td>2</td>\n",
       "      <td>2017-01-04 02:00:00</td>\n",
       "      <td>0</td>\n",
       "      <td>0</td>\n",
       "      <td>0</td>\n",
       "      <td>0.0</td>\n",
       "      <td>0.0</td>\n",
       "      <td>11.1</td>\n",
       "      <td>0.0</td>\n",
       "    </tr>\n",
       "  </tbody>\n",
       "</table>\n",
       "</div>"
      ],
      "text/plain": [
       "     Id  SiteId           Timestamp  TotalEntries  TotalOuts  TotalAccesses  \\\n",
       "0  2305       2 2017-01-04 00:00:00             0          0              0   \n",
       "1  2306       2 2017-01-04 00:30:00             0          0              0   \n",
       "2  2307       2 2017-01-04 01:00:00             0          0              0   \n",
       "3  2308       2 2017-01-04 01:30:00             0          0              0   \n",
       "4  2309       2 2017-01-04 02:00:00             0          0              0   \n",
       "\n",
       "   TotalEntriesMen  TotalEntriesWoman  Temperature  Precipitation  \n",
       "0              0.0                0.0         10.7            0.0  \n",
       "1              0.0                0.0         10.8            0.0  \n",
       "2              0.0                0.0         10.9            0.0  \n",
       "3              0.0                0.0         11.0            0.0  \n",
       "4              0.0                0.0         11.1            0.0  "
      ]
     },
     "execution_count": 98,
     "metadata": {},
     "output_type": "execute_result"
    }
   ],
   "source": [
    "all_data_df.head()"
   ]
  },
  {
   "cell_type": "code",
   "execution_count": 99,
   "metadata": {},
   "outputs": [],
   "source": [
    "all_data_df.to_csv('./../../../Databases/clean_data.csv')"
   ]
  }
 ],
 "metadata": {
  "kernelspec": {
   "display_name": "Python 3",
   "language": "python",
   "name": "python3"
  },
  "language_info": {
   "codemirror_mode": {
    "name": "ipython",
    "version": 3
   },
   "file_extension": ".py",
   "mimetype": "text/x-python",
   "name": "python",
   "nbconvert_exporter": "python",
   "pygments_lexer": "ipython3",
   "version": "3.6.8"
  }
 },
 "nbformat": 4,
 "nbformat_minor": 2
}
